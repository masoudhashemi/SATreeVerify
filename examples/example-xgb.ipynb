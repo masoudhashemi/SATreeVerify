{
 "cells": [
  {
   "cell_type": "code",
   "execution_count": 1,
   "metadata": {},
   "outputs": [],
   "source": [
    "import sys\n",
    "sys.path.append(\"..\")"
   ]
  },
  {
   "cell_type": "code",
   "execution_count": 2,
   "metadata": {},
   "outputs": [
    {
     "name": "stderr",
     "output_type": "stream",
     "text": [
      "/home/masoud/anaconda3/lib/python3.8/site-packages/xgboost/compat.py:31: FutureWarning: pandas.Int64Index is deprecated and will be removed from pandas in a future version. Use pandas.Index with the appropriate dtype instead.\n",
      "  from pandas import MultiIndex, Int64Index\n"
     ]
    }
   ],
   "source": [
    "from sklearn.datasets import load_breast_cancer\n",
    "from sklearn.model_selection import train_test_split\n",
    "import numpy as np\n",
    "import pandas as pd\n",
    "from matplotlib import pyplot as plt\n",
    "import xgboost\n",
    "from satreeverify.xgb_utils import *\n",
    "from satreeverify.utils import disc_data, get_x_adv"
   ]
  },
  {
   "cell_type": "code",
   "execution_count": 3,
   "metadata": {},
   "outputs": [],
   "source": [
    "data = load_breast_cancer()\n",
    "X = data['data']\n",
    "y = data[\"target\"]\n",
    "feature_names = data[\"feature_names\"]\n",
    "y = y==1"
   ]
  },
  {
   "cell_type": "code",
   "execution_count": 4,
   "metadata": {},
   "outputs": [],
   "source": [
    "x_train, x_test, y_train, y_test = train_test_split(X, y, test_size=0.2)"
   ]
  },
  {
   "cell_type": "code",
   "execution_count": 5,
   "metadata": {},
   "outputs": [
    {
     "name": "stderr",
     "output_type": "stream",
     "text": [
      "/home/masoud/anaconda3/lib/python3.8/site-packages/xgboost/sklearn.py:888: UserWarning: The use of label encoder in XGBClassifier is deprecated and will be removed in a future release. To remove this warning, do the following: 1) Pass option use_label_encoder=False when constructing XGBClassifier object; and 2) Encode your labels (y) as integers starting with 0, i.e. 0, 1, 2, ..., [num_class - 1].\n",
      "  warnings.warn(label_encoder_deprecation_msg, UserWarning)\n"
     ]
    },
    {
     "name": "stdout",
     "output_type": "stream",
     "text": [
      "[22:04:22] WARNING: ../src/learner.cc:1061: Starting in XGBoost 1.3.0, the default evaluation metric used with the objective 'binary:logistic' was changed from 'error' to 'logloss'. Explicitly set eval_metric if you'd like to restore the old behavior.\n"
     ]
    },
    {
     "data": {
      "text/plain": [
       "0.9649122807017544"
      ]
     },
     "execution_count": 5,
     "metadata": {},
     "output_type": "execute_result"
    }
   ],
   "source": [
    "ntrees = 50\n",
    "clf = xgboost.XGBClassifier(n_estimators=ntrees, max_depth=3).fit(x_train, y_train)\n",
    "clf.score(x_test, y_test)"
   ]
  },
  {
   "cell_type": "code",
   "execution_count": 6,
   "metadata": {},
   "outputs": [
    {
     "name": "stdout",
     "output_type": "stream",
     "text": [
      "(2, 126)\n"
     ]
    },
    {
     "data": {
      "text/html": [
       "<div>\n",
       "<style scoped>\n",
       "    .dataframe tbody tr th:only-of-type {\n",
       "        vertical-align: middle;\n",
       "    }\n",
       "\n",
       "    .dataframe tbody tr th {\n",
       "        vertical-align: top;\n",
       "    }\n",
       "\n",
       "    .dataframe thead th {\n",
       "        text-align: right;\n",
       "    }\n",
       "</style>\n",
       "<table border=\"1\" class=\"dataframe\">\n",
       "  <thead>\n",
       "    <tr style=\"text-align: right;\">\n",
       "      <th></th>\n",
       "      <th>1_21.4349995</th>\n",
       "      <th>3_696.25</th>\n",
       "      <th>24_0.13499999</th>\n",
       "      <th>26_0.21450001</th>\n",
       "      <th>24_0.10915</th>\n",
       "      <th>22_114.449997</th>\n",
       "      <th>13_22.6850014</th>\n",
       "      <th>21_25.6199989</th>\n",
       "      <th>23_650.949951</th>\n",
       "      <th>15_0.0148949996</th>\n",
       "      <th>...</th>\n",
       "      <th>28_0.282800019</th>\n",
       "      <th>20_14.4699993</th>\n",
       "      <th>1_16.5600014</th>\n",
       "      <th>23_646.449951</th>\n",
       "      <th>13_19.7900009</th>\n",
       "      <th>21_19.5050011</th>\n",
       "      <th>13_40.2200012</th>\n",
       "      <th>1_17.9949989</th>\n",
       "      <th>5_0.162949994</th>\n",
       "      <th>21_25.4749985</th>\n",
       "    </tr>\n",
       "  </thead>\n",
       "  <tbody>\n",
       "    <tr>\n",
       "      <th>0</th>\n",
       "      <td>False</td>\n",
       "      <td>False</td>\n",
       "      <td>False</td>\n",
       "      <td>False</td>\n",
       "      <td>False</td>\n",
       "      <td>False</td>\n",
       "      <td>False</td>\n",
       "      <td>False</td>\n",
       "      <td>False</td>\n",
       "      <td>False</td>\n",
       "      <td>...</td>\n",
       "      <td>False</td>\n",
       "      <td>False</td>\n",
       "      <td>False</td>\n",
       "      <td>False</td>\n",
       "      <td>False</td>\n",
       "      <td>False</td>\n",
       "      <td>False</td>\n",
       "      <td>False</td>\n",
       "      <td>False</td>\n",
       "      <td>False</td>\n",
       "    </tr>\n",
       "    <tr>\n",
       "      <th>1</th>\n",
       "      <td>False</td>\n",
       "      <td>True</td>\n",
       "      <td>True</td>\n",
       "      <td>True</td>\n",
       "      <td>True</td>\n",
       "      <td>True</td>\n",
       "      <td>True</td>\n",
       "      <td>True</td>\n",
       "      <td>True</td>\n",
       "      <td>True</td>\n",
       "      <td>...</td>\n",
       "      <td>False</td>\n",
       "      <td>True</td>\n",
       "      <td>True</td>\n",
       "      <td>True</td>\n",
       "      <td>True</td>\n",
       "      <td>True</td>\n",
       "      <td>True</td>\n",
       "      <td>True</td>\n",
       "      <td>False</td>\n",
       "      <td>True</td>\n",
       "    </tr>\n",
       "  </tbody>\n",
       "</table>\n",
       "<p>2 rows × 126 columns</p>\n",
       "</div>"
      ],
      "text/plain": [
       "   1_21.4349995  3_696.25  24_0.13499999  26_0.21450001  24_0.10915  \\\n",
       "0         False     False          False          False       False   \n",
       "1         False      True           True           True        True   \n",
       "\n",
       "   22_114.449997  13_22.6850014  21_25.6199989  23_650.949951  \\\n",
       "0          False          False          False          False   \n",
       "1           True           True           True           True   \n",
       "\n",
       "   15_0.0148949996  ...  28_0.282800019  20_14.4699993  1_16.5600014  \\\n",
       "0            False  ...           False          False         False   \n",
       "1             True  ...           False           True          True   \n",
       "\n",
       "   23_646.449951  13_19.7900009  21_19.5050011  13_40.2200012  1_17.9949989  \\\n",
       "0          False          False          False          False         False   \n",
       "1           True           True           True           True          True   \n",
       "\n",
       "   5_0.162949994  21_25.4749985  \n",
       "0          False          False  \n",
       "1          False           True  \n",
       "\n",
       "[2 rows x 126 columns]"
      ]
     },
     "execution_count": 6,
     "metadata": {},
     "output_type": "execute_result"
    }
   ],
   "source": [
    "dump = clf.get_booster().get_dump(dump_format=\"json\")\n",
    "all_thresh = get_ens_thresh(dump)\n",
    "data_ = disc_data(x_train[:2,:], all_thresh)\n",
    "print(data_.shape)\n",
    "data_.head()"
   ]
  },
  {
   "cell_type": "code",
   "execution_count": 7,
   "metadata": {},
   "outputs": [],
   "source": [
    "var_x = {f\"x({i})\": Bool(f\"x({i})\") for i in data_.columns}"
   ]
  },
  {
   "cell_type": "markdown",
   "metadata": {},
   "source": [
    "# Soft Attack"
   ]
  },
  {
   "cell_type": "code",
   "execution_count": 8,
   "metadata": {},
   "outputs": [
    {
     "data": {
      "text/plain": [
       "array([[0.9983301 , 0.00166988]], dtype=float32)"
      ]
     },
     "execution_count": 8,
     "metadata": {},
     "output_type": "execute_result"
    }
   ],
   "source": [
    "epsilon = 0.34\n",
    "index = 12\n",
    "\n",
    "sample = X[index:index+1, :]\n",
    "clf.predict_proba(sample)"
   ]
  },
  {
   "cell_type": "code",
   "execution_count": 9,
   "metadata": {},
   "outputs": [
    {
     "name": "stdout",
     "output_type": "stream",
     "text": [
      "False\n",
      "sat\n"
     ]
    }
   ],
   "source": [
    "s, c_weights = soft_attack(clf, sample, epsilon, var_x)"
   ]
  },
  {
   "cell_type": "code",
   "execution_count": 10,
   "metadata": {},
   "outputs": [
    {
     "data": {
      "text/plain": [
       "0.9034491636648164"
      ]
     },
     "execution_count": 10,
     "metadata": {},
     "output_type": "execute_result"
    }
   ],
   "source": [
    "adv_weights = get_output(s, c_weights)\n",
    "1 / (1 + np.exp(-np.sum([v for k, v in adv_weights.items()])))"
   ]
  },
  {
   "cell_type": "code",
   "execution_count": 11,
   "metadata": {},
   "outputs": [
    {
     "data": {
      "text/plain": [
       "0.0016698763"
      ]
     },
     "execution_count": 11,
     "metadata": {},
     "output_type": "execute_result"
    }
   ],
   "source": [
    "clf.predict_proba(sample)[0][1]"
   ]
  },
  {
   "cell_type": "code",
   "execution_count": 12,
   "metadata": {},
   "outputs": [
    {
     "data": {
      "text/plain": [
       "0.9034492"
      ]
     },
     "execution_count": 12,
     "metadata": {},
     "output_type": "execute_result"
    }
   ],
   "source": [
    "x_adv, x_adv_sample, compare = get_x_adv(s, var_x, sample)\n",
    "clf.predict_proba(x_adv_sample)[0][1]"
   ]
  },
  {
   "cell_type": "code",
   "execution_count": 13,
   "metadata": {},
   "outputs": [
    {
     "data": {
      "text/html": [
       "<div>\n",
       "<style scoped>\n",
       "    .dataframe tbody tr th:only-of-type {\n",
       "        vertical-align: middle;\n",
       "    }\n",
       "\n",
       "    .dataframe tbody tr th {\n",
       "        vertical-align: top;\n",
       "    }\n",
       "\n",
       "    .dataframe thead th {\n",
       "        text-align: right;\n",
       "    }\n",
       "</style>\n",
       "<table border=\"1\" class=\"dataframe\">\n",
       "  <thead>\n",
       "    <tr style=\"text-align: right;\">\n",
       "      <th></th>\n",
       "      <th>0</th>\n",
       "      <th>1</th>\n",
       "      <th>diff(%)</th>\n",
       "      <th>bound</th>\n",
       "    </tr>\n",
       "  </thead>\n",
       "  <tbody>\n",
       "    <tr>\n",
       "      <th>23</th>\n",
       "      <td>1332.000000</td>\n",
       "      <td>884.476488</td>\n",
       "      <td>0.335979</td>\n",
       "      <td>[811.050049, 884.549988]</td>\n",
       "    </tr>\n",
       "    <tr>\n",
       "      <th>1</th>\n",
       "      <td>24.800000</td>\n",
       "      <td>16.559836</td>\n",
       "      <td>0.332265</td>\n",
       "      <td>[16.3950005, 16.5600014]</td>\n",
       "    </tr>\n",
       "    <tr>\n",
       "      <th>21</th>\n",
       "      <td>29.940000</td>\n",
       "      <td>20.044460</td>\n",
       "      <td>0.330512</td>\n",
       "      <td>[19.5050011, 20.0450001]</td>\n",
       "    </tr>\n",
       "    <tr>\n",
       "      <th>7</th>\n",
       "      <td>0.111800</td>\n",
       "      <td>0.075060</td>\n",
       "      <td>0.328622</td>\n",
       "      <td>[0.0500999987, 0.0750849992]</td>\n",
       "    </tr>\n",
       "    <tr>\n",
       "      <th>20</th>\n",
       "      <td>20.960000</td>\n",
       "      <td>14.455529</td>\n",
       "      <td>0.310328</td>\n",
       "      <td>[-inf, 14.4699993]</td>\n",
       "    </tr>\n",
       "    <tr>\n",
       "      <th>27</th>\n",
       "      <td>0.176700</td>\n",
       "      <td>0.122178</td>\n",
       "      <td>0.308559</td>\n",
       "      <td>[-inf, 0.122299999]</td>\n",
       "    </tr>\n",
       "    <tr>\n",
       "      <th>22</th>\n",
       "      <td>151.700000</td>\n",
       "      <td>114.442997</td>\n",
       "      <td>0.245597</td>\n",
       "      <td>[107.449997, 114.449997]</td>\n",
       "    </tr>\n",
       "    <tr>\n",
       "      <th>26</th>\n",
       "      <td>0.363900</td>\n",
       "      <td>0.276791</td>\n",
       "      <td>0.239376</td>\n",
       "      <td>[0.218050003, 0.276849985]</td>\n",
       "    </tr>\n",
       "    <tr>\n",
       "      <th>28</th>\n",
       "      <td>0.317600</td>\n",
       "      <td>0.289144</td>\n",
       "      <td>0.089598</td>\n",
       "      <td>[0.282800019, 0.28915]</td>\n",
       "    </tr>\n",
       "    <tr>\n",
       "      <th>4</th>\n",
       "      <td>0.097400</td>\n",
       "      <td>0.089863</td>\n",
       "      <td>0.077380</td>\n",
       "      <td>[0.0880350024, 0.0898649991]</td>\n",
       "    </tr>\n",
       "    <tr>\n",
       "      <th>24</th>\n",
       "      <td>0.103700</td>\n",
       "      <td>0.109175</td>\n",
       "      <td>0.052800</td>\n",
       "      <td>[0.10915, 0.134499997]</td>\n",
       "    </tr>\n",
       "    <tr>\n",
       "      <th>29</th>\n",
       "      <td>0.102300</td>\n",
       "      <td>0.102181</td>\n",
       "      <td>0.001160</td>\n",
       "      <td>[0.0835800022, 0.102200001]</td>\n",
       "    </tr>\n",
       "    <tr>\n",
       "      <th>17</th>\n",
       "      <td>0.040900</td>\n",
       "      <td>0.040900</td>\n",
       "      <td>0.000000</td>\n",
       "      <td>[0.0100155007, inf]</td>\n",
       "    </tr>\n",
       "    <tr>\n",
       "      <th>25</th>\n",
       "      <td>0.390300</td>\n",
       "      <td>0.390300</td>\n",
       "      <td>0.000000</td>\n",
       "      <td>[0.0843399987, inf]</td>\n",
       "    </tr>\n",
       "    <tr>\n",
       "      <th>19</th>\n",
       "      <td>0.012840</td>\n",
       "      <td>0.012840</td>\n",
       "      <td>0.000000</td>\n",
       "      <td>[0.00336749991, inf]</td>\n",
       "    </tr>\n",
       "    <tr>\n",
       "      <th>18</th>\n",
       "      <td>0.044840</td>\n",
       "      <td>0.044840</td>\n",
       "      <td>0.000000</td>\n",
       "      <td>[0.019030001, inf]</td>\n",
       "    </tr>\n",
       "    <tr>\n",
       "      <th>0</th>\n",
       "      <td>19.170000</td>\n",
       "      <td>19.170000</td>\n",
       "      <td>0.000000</td>\n",
       "      <td>[-inf, inf]</td>\n",
       "    </tr>\n",
       "    <tr>\n",
       "      <th>16</th>\n",
       "      <td>0.088900</td>\n",
       "      <td>0.088900</td>\n",
       "      <td>0.000000</td>\n",
       "      <td>[0.0233350005, inf]</td>\n",
       "    </tr>\n",
       "    <tr>\n",
       "      <th>14</th>\n",
       "      <td>0.003139</td>\n",
       "      <td>0.003139</td>\n",
       "      <td>0.000000</td>\n",
       "      <td>[-inf, inf]</td>\n",
       "    </tr>\n",
       "    <tr>\n",
       "      <th>13</th>\n",
       "      <td>116.200000</td>\n",
       "      <td>116.200000</td>\n",
       "      <td>0.000000</td>\n",
       "      <td>[48.9749985, inf]</td>\n",
       "    </tr>\n",
       "    <tr>\n",
       "      <th>12</th>\n",
       "      <td>11.070000</td>\n",
       "      <td>11.070000</td>\n",
       "      <td>0.000000</td>\n",
       "      <td>[4.11849976, inf]</td>\n",
       "    </tr>\n",
       "    <tr>\n",
       "      <th>11</th>\n",
       "      <td>3.568000</td>\n",
       "      <td>3.568000</td>\n",
       "      <td>0.000000</td>\n",
       "      <td>[1.02149999, inf]</td>\n",
       "    </tr>\n",
       "    <tr>\n",
       "      <th>10</th>\n",
       "      <td>0.955500</td>\n",
       "      <td>0.955500</td>\n",
       "      <td>0.000000</td>\n",
       "      <td>[0.343949974, inf]</td>\n",
       "    </tr>\n",
       "    <tr>\n",
       "      <th>9</th>\n",
       "      <td>0.078000</td>\n",
       "      <td>0.078000</td>\n",
       "      <td>0.000000</td>\n",
       "      <td>[0.0607799999, inf]</td>\n",
       "    </tr>\n",
       "    <tr>\n",
       "      <th>8</th>\n",
       "      <td>0.239700</td>\n",
       "      <td>0.239700</td>\n",
       "      <td>0.000000</td>\n",
       "      <td>[0.153299987, inf]</td>\n",
       "    </tr>\n",
       "    <tr>\n",
       "      <th>6</th>\n",
       "      <td>0.206500</td>\n",
       "      <td>0.206500</td>\n",
       "      <td>0.000000</td>\n",
       "      <td>[0.119199999, inf]</td>\n",
       "    </tr>\n",
       "    <tr>\n",
       "      <th>5</th>\n",
       "      <td>0.245800</td>\n",
       "      <td>0.245800</td>\n",
       "      <td>0.000000</td>\n",
       "      <td>[0.160600007, inf]</td>\n",
       "    </tr>\n",
       "    <tr>\n",
       "      <th>3</th>\n",
       "      <td>1123.000000</td>\n",
       "      <td>1123.000000</td>\n",
       "      <td>0.000000</td>\n",
       "      <td>[696.25, inf]</td>\n",
       "    </tr>\n",
       "    <tr>\n",
       "      <th>2</th>\n",
       "      <td>132.400000</td>\n",
       "      <td>132.400000</td>\n",
       "      <td>0.000000</td>\n",
       "      <td>[-inf, inf]</td>\n",
       "    </tr>\n",
       "    <tr>\n",
       "      <th>15</th>\n",
       "      <td>0.082970</td>\n",
       "      <td>0.082970</td>\n",
       "      <td>0.000000</td>\n",
       "      <td>[0.0265749991, inf]</td>\n",
       "    </tr>\n",
       "  </tbody>\n",
       "</table>\n",
       "</div>"
      ],
      "text/plain": [
       "              0            1   diff(%)                         bound\n",
       "23  1332.000000   884.476488  0.335979      [811.050049, 884.549988]\n",
       "1     24.800000    16.559836  0.332265      [16.3950005, 16.5600014]\n",
       "21    29.940000    20.044460  0.330512      [19.5050011, 20.0450001]\n",
       "7      0.111800     0.075060  0.328622  [0.0500999987, 0.0750849992]\n",
       "20    20.960000    14.455529  0.310328            [-inf, 14.4699993]\n",
       "27     0.176700     0.122178  0.308559           [-inf, 0.122299999]\n",
       "22   151.700000   114.442997  0.245597      [107.449997, 114.449997]\n",
       "26     0.363900     0.276791  0.239376    [0.218050003, 0.276849985]\n",
       "28     0.317600     0.289144  0.089598        [0.282800019, 0.28915]\n",
       "4      0.097400     0.089863  0.077380  [0.0880350024, 0.0898649991]\n",
       "24     0.103700     0.109175  0.052800        [0.10915, 0.134499997]\n",
       "29     0.102300     0.102181  0.001160   [0.0835800022, 0.102200001]\n",
       "17     0.040900     0.040900  0.000000           [0.0100155007, inf]\n",
       "25     0.390300     0.390300  0.000000           [0.0843399987, inf]\n",
       "19     0.012840     0.012840  0.000000          [0.00336749991, inf]\n",
       "18     0.044840     0.044840  0.000000            [0.019030001, inf]\n",
       "0     19.170000    19.170000  0.000000                   [-inf, inf]\n",
       "16     0.088900     0.088900  0.000000           [0.0233350005, inf]\n",
       "14     0.003139     0.003139  0.000000                   [-inf, inf]\n",
       "13   116.200000   116.200000  0.000000             [48.9749985, inf]\n",
       "12    11.070000    11.070000  0.000000             [4.11849976, inf]\n",
       "11     3.568000     3.568000  0.000000             [1.02149999, inf]\n",
       "10     0.955500     0.955500  0.000000            [0.343949974, inf]\n",
       "9      0.078000     0.078000  0.000000           [0.0607799999, inf]\n",
       "8      0.239700     0.239700  0.000000            [0.153299987, inf]\n",
       "6      0.206500     0.206500  0.000000            [0.119199999, inf]\n",
       "5      0.245800     0.245800  0.000000            [0.160600007, inf]\n",
       "3   1123.000000  1123.000000  0.000000                 [696.25, inf]\n",
       "2    132.400000   132.400000  0.000000                   [-inf, inf]\n",
       "15     0.082970     0.082970  0.000000           [0.0265749991, inf]"
      ]
     },
     "execution_count": 13,
     "metadata": {},
     "output_type": "execute_result"
    }
   ],
   "source": [
    "compare.sort_values(by=[\"diff(%)\"], ascending=False)"
   ]
  },
  {
   "cell_type": "markdown",
   "metadata": {},
   "source": [
    "# Hard Attack"
   ]
  },
  {
   "cell_type": "markdown",
   "metadata": {},
   "source": [
    "## weight distribution"
   ]
  },
  {
   "cell_type": "code",
   "execution_count": 14,
   "metadata": {},
   "outputs": [
    {
     "data": {
      "text/plain": [
       "(-0.58273381, 0.573722661)"
      ]
     },
     "execution_count": 14,
     "metadata": {},
     "output_type": "execute_result"
    }
   ],
   "source": [
    "w = np.asarray([v for k,v in c_weights.items()])\n",
    "w.min(), w.max()"
   ]
  },
  {
   "cell_type": "code",
   "execution_count": 15,
   "metadata": {},
   "outputs": [
    {
     "data": {
      "text/plain": [
       "(array([ 1.,  5., 24., 21., 65., 63., 27., 15.,  4.,  1.]),\n",
       " array([-0.58273381, -0.46708816, -0.35144252, -0.23579687, -0.12015122,\n",
       "        -0.00450557,  0.11114007,  0.22678572,  0.34243137,  0.45807701,\n",
       "         0.57372266]),\n",
       " <BarContainer object of 10 artists>)"
      ]
     },
     "execution_count": 15,
     "metadata": {},
     "output_type": "execute_result"
    },
    {
     "data": {
      "image/png": "[encoded data removed]",
      "text/plain": [
       "<Figure size 432x288 with 1 Axes>"
      ]
     },
     "metadata": {
      "needs_background": "light"
     },
     "output_type": "display_data"
    }
   ],
   "source": [
    "plt.hist(w)"
   ]
  },
  {
   "cell_type": "markdown",
   "metadata": {},
   "source": [
    "## Attacking sample"
   ]
  },
  {
   "cell_type": "code",
   "execution_count": 16,
   "metadata": {},
   "outputs": [],
   "source": [
    "epsilon = 0.34\n",
    "index = 12\n",
    "\n",
    "nbits = 8\n",
    "sample = X[index:index+1, :]"
   ]
  },
  {
   "cell_type": "code",
   "execution_count": 17,
   "metadata": {},
   "outputs": [
    {
     "name": "stdout",
     "output_type": "stream",
     "text": [
      "False\n",
      "sat\n"
     ]
    }
   ],
   "source": [
    "s, c_weights, seq_nump, seq_numn = hard_attack(clf, sample, epsilon, var_x, nbits)"
   ]
  },
  {
   "cell_type": "code",
   "execution_count": 18,
   "metadata": {},
   "outputs": [
    {
     "data": {
      "text/plain": [
       "0.0016698763"
      ]
     },
     "execution_count": 18,
     "metadata": {},
     "output_type": "execute_result"
    }
   ],
   "source": [
    "clf.predict_proba(sample)[0][1]"
   ]
  },
  {
   "cell_type": "code",
   "execution_count": 19,
   "metadata": {},
   "outputs": [
    {
     "data": {
      "text/plain": [
       "0.5182350609024792"
      ]
     },
     "execution_count": 19,
     "metadata": {},
     "output_type": "execute_result"
    }
   ],
   "source": [
    "adv_weights = get_output(s, c_weights)\n",
    "val = np.sum([v for k, v in adv_weights.items()])\n",
    "1 / (1 + np.exp(-val))"
   ]
  },
  {
   "cell_type": "code",
   "execution_count": 20,
   "metadata": {},
   "outputs": [
    {
     "data": {
      "text/plain": [
       "0.5182351"
      ]
     },
     "execution_count": 20,
     "metadata": {},
     "output_type": "execute_result"
    }
   ],
   "source": [
    "x_adv, x_adv_sample, compare = get_x_adv(s, var_x, sample)\n",
    "clf.predict_proba(x_adv_sample)[0][1]"
   ]
  },
  {
   "cell_type": "code",
   "execution_count": 21,
   "metadata": {},
   "outputs": [
    {
     "data": {
      "text/html": [
       "<div>\n",
       "<style scoped>\n",
       "    .dataframe tbody tr th:only-of-type {\n",
       "        vertical-align: middle;\n",
       "    }\n",
       "\n",
       "    .dataframe tbody tr th {\n",
       "        vertical-align: top;\n",
       "    }\n",
       "\n",
       "    .dataframe thead th {\n",
       "        text-align: right;\n",
       "    }\n",
       "</style>\n",
       "<table border=\"1\" class=\"dataframe\">\n",
       "  <thead>\n",
       "    <tr style=\"text-align: right;\">\n",
       "      <th></th>\n",
       "      <th>0</th>\n",
       "      <th>1</th>\n",
       "      <th>diff(%)</th>\n",
       "      <th>bound</th>\n",
       "    </tr>\n",
       "  </thead>\n",
       "  <tbody>\n",
       "    <tr>\n",
       "      <th>21</th>\n",
       "      <td>29.940000</td>\n",
       "      <td>20.044460</td>\n",
       "      <td>0.330512</td>\n",
       "      <td>[19.5050011, 20.0450001]</td>\n",
       "    </tr>\n",
       "    <tr>\n",
       "      <th>7</th>\n",
       "      <td>0.111800</td>\n",
       "      <td>0.075060</td>\n",
       "      <td>0.328622</td>\n",
       "      <td>[0.0500999987, 0.0750849992]</td>\n",
       "    </tr>\n",
       "    <tr>\n",
       "      <th>1</th>\n",
       "      <td>24.800000</td>\n",
       "      <td>16.999560</td>\n",
       "      <td>0.314534</td>\n",
       "      <td>[16.5600014, 17.0]</td>\n",
       "    </tr>\n",
       "    <tr>\n",
       "      <th>20</th>\n",
       "      <td>20.960000</td>\n",
       "      <td>14.455529</td>\n",
       "      <td>0.310328</td>\n",
       "      <td>[-inf, 14.4699993]</td>\n",
       "    </tr>\n",
       "    <tr>\n",
       "      <th>23</th>\n",
       "      <td>1332.000000</td>\n",
       "      <td>923.910551</td>\n",
       "      <td>0.306373</td>\n",
       "      <td>[884.549988, 923.949951]</td>\n",
       "    </tr>\n",
       "    <tr>\n",
       "      <th>24</th>\n",
       "      <td>0.103700</td>\n",
       "      <td>0.135101</td>\n",
       "      <td>0.302807</td>\n",
       "      <td>[0.135100007, 0.136150002]</td>\n",
       "    </tr>\n",
       "    <tr>\n",
       "      <th>22</th>\n",
       "      <td>151.700000</td>\n",
       "      <td>114.442997</td>\n",
       "      <td>0.245597</td>\n",
       "      <td>[107.449997, 114.449997]</td>\n",
       "    </tr>\n",
       "    <tr>\n",
       "      <th>26</th>\n",
       "      <td>0.363900</td>\n",
       "      <td>0.276791</td>\n",
       "      <td>0.239376</td>\n",
       "      <td>[0.218050003, 0.276849985]</td>\n",
       "    </tr>\n",
       "    <tr>\n",
       "      <th>27</th>\n",
       "      <td>0.176700</td>\n",
       "      <td>0.145399</td>\n",
       "      <td>0.177145</td>\n",
       "      <td>[0.14395, 0.145400003]</td>\n",
       "    </tr>\n",
       "    <tr>\n",
       "      <th>28</th>\n",
       "      <td>0.317600</td>\n",
       "      <td>0.357457</td>\n",
       "      <td>0.125495</td>\n",
       "      <td>[0.35710001, inf]</td>\n",
       "    </tr>\n",
       "    <tr>\n",
       "      <th>4</th>\n",
       "      <td>0.097400</td>\n",
       "      <td>0.087947</td>\n",
       "      <td>0.097054</td>\n",
       "      <td>[-inf, 0.0880350024]</td>\n",
       "    </tr>\n",
       "    <tr>\n",
       "      <th>0</th>\n",
       "      <td>19.170000</td>\n",
       "      <td>19.170000</td>\n",
       "      <td>0.000000</td>\n",
       "      <td>[-inf, inf]</td>\n",
       "    </tr>\n",
       "    <tr>\n",
       "      <th>17</th>\n",
       "      <td>0.040900</td>\n",
       "      <td>0.040900</td>\n",
       "      <td>0.000000</td>\n",
       "      <td>[0.0100155007, inf]</td>\n",
       "    </tr>\n",
       "    <tr>\n",
       "      <th>25</th>\n",
       "      <td>0.390300</td>\n",
       "      <td>0.390300</td>\n",
       "      <td>0.000000</td>\n",
       "      <td>[0.0843399987, inf]</td>\n",
       "    </tr>\n",
       "    <tr>\n",
       "      <th>19</th>\n",
       "      <td>0.012840</td>\n",
       "      <td>0.012840</td>\n",
       "      <td>0.000000</td>\n",
       "      <td>[0.00336749991, inf]</td>\n",
       "    </tr>\n",
       "    <tr>\n",
       "      <th>18</th>\n",
       "      <td>0.044840</td>\n",
       "      <td>0.044840</td>\n",
       "      <td>0.000000</td>\n",
       "      <td>[0.019030001, inf]</td>\n",
       "    </tr>\n",
       "    <tr>\n",
       "      <th>15</th>\n",
       "      <td>0.082970</td>\n",
       "      <td>0.082970</td>\n",
       "      <td>0.000000</td>\n",
       "      <td>[0.0265749991, inf]</td>\n",
       "    </tr>\n",
       "    <tr>\n",
       "      <th>16</th>\n",
       "      <td>0.088900</td>\n",
       "      <td>0.088900</td>\n",
       "      <td>0.000000</td>\n",
       "      <td>[0.0233350005, inf]</td>\n",
       "    </tr>\n",
       "    <tr>\n",
       "      <th>14</th>\n",
       "      <td>0.003139</td>\n",
       "      <td>0.003139</td>\n",
       "      <td>0.000000</td>\n",
       "      <td>[-inf, inf]</td>\n",
       "    </tr>\n",
       "    <tr>\n",
       "      <th>13</th>\n",
       "      <td>116.200000</td>\n",
       "      <td>116.200000</td>\n",
       "      <td>0.000000</td>\n",
       "      <td>[48.9749985, inf]</td>\n",
       "    </tr>\n",
       "    <tr>\n",
       "      <th>12</th>\n",
       "      <td>11.070000</td>\n",
       "      <td>11.070000</td>\n",
       "      <td>0.000000</td>\n",
       "      <td>[4.11849976, inf]</td>\n",
       "    </tr>\n",
       "    <tr>\n",
       "      <th>11</th>\n",
       "      <td>3.568000</td>\n",
       "      <td>3.568000</td>\n",
       "      <td>0.000000</td>\n",
       "      <td>[1.02149999, inf]</td>\n",
       "    </tr>\n",
       "    <tr>\n",
       "      <th>10</th>\n",
       "      <td>0.955500</td>\n",
       "      <td>0.955500</td>\n",
       "      <td>0.000000</td>\n",
       "      <td>[0.343949974, inf]</td>\n",
       "    </tr>\n",
       "    <tr>\n",
       "      <th>9</th>\n",
       "      <td>0.078000</td>\n",
       "      <td>0.078000</td>\n",
       "      <td>0.000000</td>\n",
       "      <td>[0.0607799999, inf]</td>\n",
       "    </tr>\n",
       "    <tr>\n",
       "      <th>8</th>\n",
       "      <td>0.239700</td>\n",
       "      <td>0.239700</td>\n",
       "      <td>0.000000</td>\n",
       "      <td>[0.153299987, inf]</td>\n",
       "    </tr>\n",
       "    <tr>\n",
       "      <th>6</th>\n",
       "      <td>0.206500</td>\n",
       "      <td>0.206500</td>\n",
       "      <td>0.000000</td>\n",
       "      <td>[0.119199999, inf]</td>\n",
       "    </tr>\n",
       "    <tr>\n",
       "      <th>5</th>\n",
       "      <td>0.245800</td>\n",
       "      <td>0.245800</td>\n",
       "      <td>0.000000</td>\n",
       "      <td>[0.160600007, inf]</td>\n",
       "    </tr>\n",
       "    <tr>\n",
       "      <th>3</th>\n",
       "      <td>1123.000000</td>\n",
       "      <td>1123.000000</td>\n",
       "      <td>0.000000</td>\n",
       "      <td>[696.25, inf]</td>\n",
       "    </tr>\n",
       "    <tr>\n",
       "      <th>2</th>\n",
       "      <td>132.400000</td>\n",
       "      <td>132.400000</td>\n",
       "      <td>0.000000</td>\n",
       "      <td>[-inf, inf]</td>\n",
       "    </tr>\n",
       "    <tr>\n",
       "      <th>29</th>\n",
       "      <td>0.102300</td>\n",
       "      <td>0.102300</td>\n",
       "      <td>0.000000</td>\n",
       "      <td>[0.102200001, inf]</td>\n",
       "    </tr>\n",
       "  </tbody>\n",
       "</table>\n",
       "</div>"
      ],
      "text/plain": [
       "              0            1   diff(%)                         bound\n",
       "21    29.940000    20.044460  0.330512      [19.5050011, 20.0450001]\n",
       "7      0.111800     0.075060  0.328622  [0.0500999987, 0.0750849992]\n",
       "1     24.800000    16.999560  0.314534            [16.5600014, 17.0]\n",
       "20    20.960000    14.455529  0.310328            [-inf, 14.4699993]\n",
       "23  1332.000000   923.910551  0.306373      [884.549988, 923.949951]\n",
       "24     0.103700     0.135101  0.302807    [0.135100007, 0.136150002]\n",
       "22   151.700000   114.442997  0.245597      [107.449997, 114.449997]\n",
       "26     0.363900     0.276791  0.239376    [0.218050003, 0.276849985]\n",
       "27     0.176700     0.145399  0.177145        [0.14395, 0.145400003]\n",
       "28     0.317600     0.357457  0.125495             [0.35710001, inf]\n",
       "4      0.097400     0.087947  0.097054          [-inf, 0.0880350024]\n",
       "0     19.170000    19.170000  0.000000                   [-inf, inf]\n",
       "17     0.040900     0.040900  0.000000           [0.0100155007, inf]\n",
       "25     0.390300     0.390300  0.000000           [0.0843399987, inf]\n",
       "19     0.012840     0.012840  0.000000          [0.00336749991, inf]\n",
       "18     0.044840     0.044840  0.000000            [0.019030001, inf]\n",
       "15     0.082970     0.082970  0.000000           [0.0265749991, inf]\n",
       "16     0.088900     0.088900  0.000000           [0.0233350005, inf]\n",
       "14     0.003139     0.003139  0.000000                   [-inf, inf]\n",
       "13   116.200000   116.200000  0.000000             [48.9749985, inf]\n",
       "12    11.070000    11.070000  0.000000             [4.11849976, inf]\n",
       "11     3.568000     3.568000  0.000000             [1.02149999, inf]\n",
       "10     0.955500     0.955500  0.000000            [0.343949974, inf]\n",
       "9      0.078000     0.078000  0.000000           [0.0607799999, inf]\n",
       "8      0.239700     0.239700  0.000000            [0.153299987, inf]\n",
       "6      0.206500     0.206500  0.000000            [0.119199999, inf]\n",
       "5      0.245800     0.245800  0.000000            [0.160600007, inf]\n",
       "3   1123.000000  1123.000000  0.000000                 [696.25, inf]\n",
       "2    132.400000   132.400000  0.000000                   [-inf, inf]\n",
       "29     0.102300     0.102300  0.000000            [0.102200001, inf]"
      ]
     },
     "execution_count": 21,
     "metadata": {},
     "output_type": "execute_result"
    }
   ],
   "source": [
    "compare.sort_values(by=[\"diff(%)\"], ascending=False)"
   ]
  }
 ],
 "metadata": {
  "kernelspec": {
   "display_name": "Python 3.8.5 ('base')",
   "language": "python",
   "name": "python3"
  },
  "language_info": {
   "codemirror_mode": {
    "name": "ipython",
    "version": 3
   },
   "file_extension": ".py",
   "mimetype": "text/x-python",
   "name": "python",
   "nbconvert_exporter": "python",
   "pygments_lexer": "ipython3",
   "version": "3.8.5"
  },
  "vscode": {
   "interpreter": {
    "hash": "20f972b5ec01afc6342c701ce71b35de9888327d446d177ef66e3c862529bc3b"
   }
  }
 },
 "nbformat": 4,
 "nbformat_minor": 4
}
