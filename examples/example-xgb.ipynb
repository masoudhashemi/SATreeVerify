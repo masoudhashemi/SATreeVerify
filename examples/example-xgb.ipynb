{
 "cells": [
  {
   "cell_type": "code",
   "execution_count": 22,
   "metadata": {},
   "outputs": [],
   "source": [
    "import sys\n",
    "sys.path.append(\"..\")"
   ]
  },
  {
   "cell_type": "code",
   "execution_count": 23,
   "metadata": {},
   "outputs": [],
   "source": [
    "from sklearn.datasets import load_breast_cancer\n",
    "from sklearn.model_selection import train_test_split\n",
    "import numpy as np\n",
    "import pandas as pd\n",
    "from matplotlib import pyplot as plt\n",
    "import xgboost\n",
    "from satreeverify.xgb_utils import *"
   ]
  },
  {
   "cell_type": "code",
   "execution_count": 24,
   "metadata": {},
   "outputs": [],
   "source": [
    "data = load_breast_cancer()\n",
    "X = data['data']\n",
    "y = data[\"target\"]\n",
    "feature_names = data[\"feature_names\"]\n",
    "y = y==1"
   ]
  },
  {
   "cell_type": "code",
   "execution_count": 25,
   "metadata": {},
   "outputs": [],
   "source": [
    "x_train, x_test, y_train, y_test = train_test_split(X, y, test_size=0.2)"
   ]
  },
  {
   "cell_type": "code",
   "execution_count": 26,
   "metadata": {},
   "outputs": [
    {
     "name": "stdout",
     "output_type": "stream",
     "text": [
      "[23:58:15] WARNING: ../src/learner.cc:1061: Starting in XGBoost 1.3.0, the default evaluation metric used with the objective 'binary:logistic' was changed from 'error' to 'logloss'. Explicitly set eval_metric if you'd like to restore the old behavior.\n"
     ]
    },
    {
     "name": "stderr",
     "output_type": "stream",
     "text": [
      "/home/masoud/anaconda3/lib/python3.8/site-packages/xgboost/sklearn.py:888: UserWarning: The use of label encoder in XGBClassifier is deprecated and will be removed in a future release. To remove this warning, do the following: 1) Pass option use_label_encoder=False when constructing XGBClassifier object; and 2) Encode your labels (y) as integers starting with 0, i.e. 0, 1, 2, ..., [num_class - 1].\n",
      "  warnings.warn(label_encoder_deprecation_msg, UserWarning)\n"
     ]
    },
    {
     "data": {
      "text/plain": [
       "0.9736842105263158"
      ]
     },
     "execution_count": 26,
     "metadata": {},
     "output_type": "execute_result"
    }
   ],
   "source": [
    "ntrees = 50\n",
    "clf = xgboost.XGBClassifier(n_estimators=ntrees, max_depth=3).fit(x_train, y_train)\n",
    "clf.score(x_test, y_test)"
   ]
  },
  {
   "cell_type": "code",
   "execution_count": 27,
   "metadata": {},
   "outputs": [
    {
     "name": "stdout",
     "output_type": "stream",
     "text": [
      "(2, 126)\n"
     ]
    },
    {
     "data": {
      "text/html": [
       "<div>\n",
       "<style scoped>\n",
       "    .dataframe tbody tr th:only-of-type {\n",
       "        vertical-align: middle;\n",
       "    }\n",
       "\n",
       "    .dataframe tbody tr th {\n",
       "        vertical-align: top;\n",
       "    }\n",
       "\n",
       "    .dataframe thead th {\n",
       "        text-align: right;\n",
       "    }\n",
       "</style>\n",
       "<table border=\"1\" class=\"dataframe\">\n",
       "  <thead>\n",
       "    <tr style=\"text-align: right;\">\n",
       "      <th></th>\n",
       "      <th>21_28.5450001</th>\n",
       "      <th>23_784.150024</th>\n",
       "      <th>19_0.00353299989</th>\n",
       "      <th>23_739.199951</th>\n",
       "      <th>24_0.135800004</th>\n",
       "      <th>3_696.25</th>\n",
       "      <th>14_0.00331400009</th>\n",
       "      <th>4_0.0887549967</th>\n",
       "      <th>22_105.949997</th>\n",
       "      <th>26_0.21450001</th>\n",
       "      <th>...</th>\n",
       "      <th>23_810.800049</th>\n",
       "      <th>21_29.1399994</th>\n",
       "      <th>18_0.0168749988</th>\n",
       "      <th>23_736.400024</th>\n",
       "      <th>21_19.5050011</th>\n",
       "      <th>4_0.0899100006</th>\n",
       "      <th>24_0.1373</th>\n",
       "      <th>13_43.0800018</th>\n",
       "      <th>6_0.0624250025</th>\n",
       "      <th>4_0.088135004</th>\n",
       "    </tr>\n",
       "  </thead>\n",
       "  <tbody>\n",
       "    <tr>\n",
       "      <th>0</th>\n",
       "      <td>True</td>\n",
       "      <td>False</td>\n",
       "      <td>True</td>\n",
       "      <td>False</td>\n",
       "      <td>False</td>\n",
       "      <td>False</td>\n",
       "      <td>True</td>\n",
       "      <td>True</td>\n",
       "      <td>False</td>\n",
       "      <td>True</td>\n",
       "      <td>...</td>\n",
       "      <td>False</td>\n",
       "      <td>True</td>\n",
       "      <td>False</td>\n",
       "      <td>False</td>\n",
       "      <td>True</td>\n",
       "      <td>True</td>\n",
       "      <td>False</td>\n",
       "      <td>False</td>\n",
       "      <td>True</td>\n",
       "      <td>True</td>\n",
       "    </tr>\n",
       "    <tr>\n",
       "      <th>1</th>\n",
       "      <td>False</td>\n",
       "      <td>False</td>\n",
       "      <td>False</td>\n",
       "      <td>False</td>\n",
       "      <td>False</td>\n",
       "      <td>False</td>\n",
       "      <td>True</td>\n",
       "      <td>True</td>\n",
       "      <td>False</td>\n",
       "      <td>False</td>\n",
       "      <td>...</td>\n",
       "      <td>False</td>\n",
       "      <td>False</td>\n",
       "      <td>False</td>\n",
       "      <td>False</td>\n",
       "      <td>True</td>\n",
       "      <td>True</td>\n",
       "      <td>False</td>\n",
       "      <td>False</td>\n",
       "      <td>False</td>\n",
       "      <td>True</td>\n",
       "    </tr>\n",
       "  </tbody>\n",
       "</table>\n",
       "<p>2 rows × 126 columns</p>\n",
       "</div>"
      ],
      "text/plain": [
       "   21_28.5450001  23_784.150024  19_0.00353299989  23_739.199951  \\\n",
       "0           True          False              True          False   \n",
       "1          False          False             False          False   \n",
       "\n",
       "   24_0.135800004  3_696.25  14_0.00331400009  4_0.0887549967  22_105.949997  \\\n",
       "0           False     False              True            True          False   \n",
       "1           False     False              True            True          False   \n",
       "\n",
       "   26_0.21450001  ...  23_810.800049  21_29.1399994  18_0.0168749988  \\\n",
       "0           True  ...          False           True            False   \n",
       "1          False  ...          False          False            False   \n",
       "\n",
       "   23_736.400024  21_19.5050011  4_0.0899100006  24_0.1373  13_43.0800018  \\\n",
       "0          False           True            True      False          False   \n",
       "1          False           True            True      False          False   \n",
       "\n",
       "   6_0.0624250025  4_0.088135004  \n",
       "0            True           True  \n",
       "1           False           True  \n",
       "\n",
       "[2 rows x 126 columns]"
      ]
     },
     "execution_count": 27,
     "metadata": {},
     "output_type": "execute_result"
    }
   ],
   "source": [
    "dump = clf.get_booster().get_dump(dump_format=\"json\")\n",
    "all_thresh = get_ens_thresh(dump)\n",
    "data_ = disc_data(x_train[:2,:], all_thresh)\n",
    "print(data_.shape)\n",
    "data_.head()"
   ]
  },
  {
   "cell_type": "code",
   "execution_count": 28,
   "metadata": {},
   "outputs": [],
   "source": [
    "var_x = {f\"x({i})\": Bool(f\"x({i})\") for i in data_.columns}"
   ]
  },
  {
   "cell_type": "markdown",
   "metadata": {},
   "source": [
    "# Soft Attack"
   ]
  },
  {
   "cell_type": "code",
   "execution_count": 29,
   "metadata": {},
   "outputs": [
    {
     "data": {
      "text/plain": [
       "array([[0.99804944, 0.00195057]], dtype=float32)"
      ]
     },
     "execution_count": 29,
     "metadata": {},
     "output_type": "execute_result"
    }
   ],
   "source": [
    "epsilon = 0.34\n",
    "index = 12\n",
    "\n",
    "sample = X[index:index+1, :]\n",
    "clf.predict_proba(sample)"
   ]
  },
  {
   "cell_type": "code",
   "execution_count": 30,
   "metadata": {},
   "outputs": [
    {
     "name": "stdout",
     "output_type": "stream",
     "text": [
      "False\n",
      "sat\n"
     ]
    }
   ],
   "source": [
    "s, c_weights = soft_attack(clf, sample, epsilon, var_x)"
   ]
  },
  {
   "cell_type": "code",
   "execution_count": 31,
   "metadata": {},
   "outputs": [
    {
     "data": {
      "text/plain": [
       "0.7874833210122415"
      ]
     },
     "execution_count": 31,
     "metadata": {},
     "output_type": "execute_result"
    }
   ],
   "source": [
    "adv_weights = get_output(s, c_weights)\n",
    "1 / (1 + np.exp(-np.sum([v for k, v in adv_weights.items()])))"
   ]
  },
  {
   "cell_type": "code",
   "execution_count": 32,
   "metadata": {},
   "outputs": [
    {
     "data": {
      "text/plain": [
       "0.0019505733"
      ]
     },
     "execution_count": 32,
     "metadata": {},
     "output_type": "execute_result"
    }
   ],
   "source": [
    "clf.predict_proba(sample)[0][1]"
   ]
  },
  {
   "cell_type": "code",
   "execution_count": 33,
   "metadata": {},
   "outputs": [
    {
     "data": {
      "text/plain": [
       "0.78748333"
      ]
     },
     "execution_count": 33,
     "metadata": {},
     "output_type": "execute_result"
    }
   ],
   "source": [
    "x_adv, x_adv_sample, compare = get_x_adv(s, var_x, sample)\n",
    "clf.predict_proba(x_adv_sample)[0][1]"
   ]
  },
  {
   "cell_type": "code",
   "execution_count": 34,
   "metadata": {},
   "outputs": [
    {
     "data": {
      "text/html": [
       "<div>\n",
       "<style scoped>\n",
       "    .dataframe tbody tr th:only-of-type {\n",
       "        vertical-align: middle;\n",
       "    }\n",
       "\n",
       "    .dataframe tbody tr th {\n",
       "        vertical-align: top;\n",
       "    }\n",
       "\n",
       "    .dataframe thead th {\n",
       "        text-align: right;\n",
       "    }\n",
       "</style>\n",
       "<table border=\"1\" class=\"dataframe\">\n",
       "  <thead>\n",
       "    <tr style=\"text-align: right;\">\n",
       "      <th></th>\n",
       "      <th>0</th>\n",
       "      <th>1</th>\n",
       "      <th>diff(%)</th>\n",
       "      <th>bound</th>\n",
       "    </tr>\n",
       "  </thead>\n",
       "  <tbody>\n",
       "    <tr>\n",
       "      <th>1</th>\n",
       "      <td>24.800000</td>\n",
       "      <td>16.374160</td>\n",
       "      <td>0.339752</td>\n",
       "      <td>[15.5349998, 16.375]</td>\n",
       "    </tr>\n",
       "    <tr>\n",
       "      <th>21</th>\n",
       "      <td>29.940000</td>\n",
       "      <td>20.044460</td>\n",
       "      <td>0.330512</td>\n",
       "      <td>[19.5050011, 20.0450001]</td>\n",
       "    </tr>\n",
       "    <tr>\n",
       "      <th>22</th>\n",
       "      <td>151.700000</td>\n",
       "      <td>105.844047</td>\n",
       "      <td>0.302281</td>\n",
       "      <td>[-inf, 105.949997]</td>\n",
       "    </tr>\n",
       "    <tr>\n",
       "      <th>27</th>\n",
       "      <td>0.176700</td>\n",
       "      <td>0.123587</td>\n",
       "      <td>0.300581</td>\n",
       "      <td>[0.111000001, 0.123600006]</td>\n",
       "    </tr>\n",
       "    <tr>\n",
       "      <th>23</th>\n",
       "      <td>1332.000000</td>\n",
       "      <td>957.360762</td>\n",
       "      <td>0.281261</td>\n",
       "      <td>[868.199951, 957.450012]</td>\n",
       "    </tr>\n",
       "    <tr>\n",
       "      <th>25</th>\n",
       "      <td>0.390300</td>\n",
       "      <td>0.311260</td>\n",
       "      <td>0.202510</td>\n",
       "      <td>[0.171750009, 0.311399996]</td>\n",
       "    </tr>\n",
       "    <tr>\n",
       "      <th>20</th>\n",
       "      <td>20.960000</td>\n",
       "      <td>16.773211</td>\n",
       "      <td>0.199751</td>\n",
       "      <td>[-inf, 16.7900009]</td>\n",
       "    </tr>\n",
       "    <tr>\n",
       "      <th>28</th>\n",
       "      <td>0.317600</td>\n",
       "      <td>0.280568</td>\n",
       "      <td>0.116601</td>\n",
       "      <td>[0.198249996, 0.28065002]</td>\n",
       "    </tr>\n",
       "    <tr>\n",
       "      <th>4</th>\n",
       "      <td>0.097400</td>\n",
       "      <td>0.088755</td>\n",
       "      <td>0.088761</td>\n",
       "      <td>[0.0884599984, 0.0887549967]</td>\n",
       "    </tr>\n",
       "    <tr>\n",
       "      <th>0</th>\n",
       "      <td>19.170000</td>\n",
       "      <td>19.170000</td>\n",
       "      <td>0.000000</td>\n",
       "      <td>[-inf, inf]</td>\n",
       "    </tr>\n",
       "    <tr>\n",
       "      <th>16</th>\n",
       "      <td>0.088900</td>\n",
       "      <td>0.088900</td>\n",
       "      <td>0.000000</td>\n",
       "      <td>[-inf, inf]</td>\n",
       "    </tr>\n",
       "    <tr>\n",
       "      <th>26</th>\n",
       "      <td>0.363900</td>\n",
       "      <td>0.363900</td>\n",
       "      <td>0.000000</td>\n",
       "      <td>[0.262250006, inf]</td>\n",
       "    </tr>\n",
       "    <tr>\n",
       "      <th>24</th>\n",
       "      <td>0.103700</td>\n",
       "      <td>0.103700</td>\n",
       "      <td>0.000000</td>\n",
       "      <td>[-inf, 0.135800004]</td>\n",
       "    </tr>\n",
       "    <tr>\n",
       "      <th>19</th>\n",
       "      <td>0.012840</td>\n",
       "      <td>0.012840</td>\n",
       "      <td>0.000000</td>\n",
       "      <td>[0.00457100011, inf]</td>\n",
       "    </tr>\n",
       "    <tr>\n",
       "      <th>18</th>\n",
       "      <td>0.044840</td>\n",
       "      <td>0.044840</td>\n",
       "      <td>0.000000</td>\n",
       "      <td>[0.0250799991, inf]</td>\n",
       "    </tr>\n",
       "    <tr>\n",
       "      <th>17</th>\n",
       "      <td>0.040900</td>\n",
       "      <td>0.040900</td>\n",
       "      <td>0.000000</td>\n",
       "      <td>[0.0225499999, inf]</td>\n",
       "    </tr>\n",
       "    <tr>\n",
       "      <th>15</th>\n",
       "      <td>0.082970</td>\n",
       "      <td>0.082970</td>\n",
       "      <td>0.000000</td>\n",
       "      <td>[0.0265749991, inf]</td>\n",
       "    </tr>\n",
       "    <tr>\n",
       "      <th>14</th>\n",
       "      <td>0.003139</td>\n",
       "      <td>0.003139</td>\n",
       "      <td>0.000000</td>\n",
       "      <td>[-inf, inf]</td>\n",
       "    </tr>\n",
       "    <tr>\n",
       "      <th>13</th>\n",
       "      <td>116.200000</td>\n",
       "      <td>116.200000</td>\n",
       "      <td>0.000000</td>\n",
       "      <td>[45.1699982, inf]</td>\n",
       "    </tr>\n",
       "    <tr>\n",
       "      <th>12</th>\n",
       "      <td>11.070000</td>\n",
       "      <td>11.070000</td>\n",
       "      <td>0.000000</td>\n",
       "      <td>[4.11849976, inf]</td>\n",
       "    </tr>\n",
       "    <tr>\n",
       "      <th>11</th>\n",
       "      <td>3.568000</td>\n",
       "      <td>3.568000</td>\n",
       "      <td>0.000000</td>\n",
       "      <td>[-inf, inf]</td>\n",
       "    </tr>\n",
       "    <tr>\n",
       "      <th>10</th>\n",
       "      <td>0.955500</td>\n",
       "      <td>0.955500</td>\n",
       "      <td>0.000000</td>\n",
       "      <td>[0.583999991, inf]</td>\n",
       "    </tr>\n",
       "    <tr>\n",
       "      <th>9</th>\n",
       "      <td>0.078000</td>\n",
       "      <td>0.078000</td>\n",
       "      <td>0.000000</td>\n",
       "      <td>[0.0566999987, inf]</td>\n",
       "    </tr>\n",
       "    <tr>\n",
       "      <th>8</th>\n",
       "      <td>0.239700</td>\n",
       "      <td>0.239700</td>\n",
       "      <td>0.000000</td>\n",
       "      <td>[-inf, inf]</td>\n",
       "    </tr>\n",
       "    <tr>\n",
       "      <th>7</th>\n",
       "      <td>0.111800</td>\n",
       "      <td>0.111800</td>\n",
       "      <td>0.000000</td>\n",
       "      <td>[0.0492300019, inf]</td>\n",
       "    </tr>\n",
       "    <tr>\n",
       "      <th>6</th>\n",
       "      <td>0.206500</td>\n",
       "      <td>0.206500</td>\n",
       "      <td>0.000000</td>\n",
       "      <td>[0.0858850032, inf]</td>\n",
       "    </tr>\n",
       "    <tr>\n",
       "      <th>5</th>\n",
       "      <td>0.245800</td>\n",
       "      <td>0.245800</td>\n",
       "      <td>0.000000</td>\n",
       "      <td>[0.0713849962, inf]</td>\n",
       "    </tr>\n",
       "    <tr>\n",
       "      <th>3</th>\n",
       "      <td>1123.000000</td>\n",
       "      <td>1123.000000</td>\n",
       "      <td>0.000000</td>\n",
       "      <td>[696.25, inf]</td>\n",
       "    </tr>\n",
       "    <tr>\n",
       "      <th>2</th>\n",
       "      <td>132.400000</td>\n",
       "      <td>132.400000</td>\n",
       "      <td>0.000000</td>\n",
       "      <td>[-inf, inf]</td>\n",
       "    </tr>\n",
       "    <tr>\n",
       "      <th>29</th>\n",
       "      <td>0.102300</td>\n",
       "      <td>0.102300</td>\n",
       "      <td>0.000000</td>\n",
       "      <td>[-inf, inf]</td>\n",
       "    </tr>\n",
       "  </tbody>\n",
       "</table>\n",
       "</div>"
      ],
      "text/plain": [
       "              0            1   diff(%)                         bound\n",
       "1     24.800000    16.374160  0.339752          [15.5349998, 16.375]\n",
       "21    29.940000    20.044460  0.330512      [19.5050011, 20.0450001]\n",
       "22   151.700000   105.844047  0.302281            [-inf, 105.949997]\n",
       "27     0.176700     0.123587  0.300581    [0.111000001, 0.123600006]\n",
       "23  1332.000000   957.360762  0.281261      [868.199951, 957.450012]\n",
       "25     0.390300     0.311260  0.202510    [0.171750009, 0.311399996]\n",
       "20    20.960000    16.773211  0.199751            [-inf, 16.7900009]\n",
       "28     0.317600     0.280568  0.116601     [0.198249996, 0.28065002]\n",
       "4      0.097400     0.088755  0.088761  [0.0884599984, 0.0887549967]\n",
       "0     19.170000    19.170000  0.000000                   [-inf, inf]\n",
       "16     0.088900     0.088900  0.000000                   [-inf, inf]\n",
       "26     0.363900     0.363900  0.000000            [0.262250006, inf]\n",
       "24     0.103700     0.103700  0.000000           [-inf, 0.135800004]\n",
       "19     0.012840     0.012840  0.000000          [0.00457100011, inf]\n",
       "18     0.044840     0.044840  0.000000           [0.0250799991, inf]\n",
       "17     0.040900     0.040900  0.000000           [0.0225499999, inf]\n",
       "15     0.082970     0.082970  0.000000           [0.0265749991, inf]\n",
       "14     0.003139     0.003139  0.000000                   [-inf, inf]\n",
       "13   116.200000   116.200000  0.000000             [45.1699982, inf]\n",
       "12    11.070000    11.070000  0.000000             [4.11849976, inf]\n",
       "11     3.568000     3.568000  0.000000                   [-inf, inf]\n",
       "10     0.955500     0.955500  0.000000            [0.583999991, inf]\n",
       "9      0.078000     0.078000  0.000000           [0.0566999987, inf]\n",
       "8      0.239700     0.239700  0.000000                   [-inf, inf]\n",
       "7      0.111800     0.111800  0.000000           [0.0492300019, inf]\n",
       "6      0.206500     0.206500  0.000000           [0.0858850032, inf]\n",
       "5      0.245800     0.245800  0.000000           [0.0713849962, inf]\n",
       "3   1123.000000  1123.000000  0.000000                 [696.25, inf]\n",
       "2    132.400000   132.400000  0.000000                   [-inf, inf]\n",
       "29     0.102300     0.102300  0.000000                   [-inf, inf]"
      ]
     },
     "execution_count": 34,
     "metadata": {},
     "output_type": "execute_result"
    }
   ],
   "source": [
    "compare.sort_values(by=[\"diff(%)\"], ascending=False)"
   ]
  },
  {
   "cell_type": "markdown",
   "metadata": {},
   "source": [
    "# Hard Attack"
   ]
  },
  {
   "cell_type": "markdown",
   "metadata": {},
   "source": [
    "## weight distribution"
   ]
  },
  {
   "cell_type": "code",
   "execution_count": 35,
   "metadata": {},
   "outputs": [
    {
     "data": {
      "text/plain": [
       "(-0.581250012, 0.572413802)"
      ]
     },
     "execution_count": 35,
     "metadata": {},
     "output_type": "execute_result"
    }
   ],
   "source": [
    "w = np.asarray([v for k,v in c_weights.items()])\n",
    "w.min(), w.max()"
   ]
  },
  {
   "cell_type": "code",
   "execution_count": 36,
   "metadata": {},
   "outputs": [
    {
     "data": {
      "text/plain": [
       "(array([ 2.,  4., 19., 28., 67., 62., 27., 20.,  4.,  1.]),\n",
       " array([-0.58125001, -0.46588363, -0.35051725, -0.23515087, -0.11978449,\n",
       "        -0.0044181 ,  0.11094828,  0.22631466,  0.34168104,  0.45704742,\n",
       "         0.5724138 ]),\n",
       " <BarContainer object of 10 artists>)"
      ]
     },
     "execution_count": 36,
     "metadata": {},
     "output_type": "execute_result"
    },
    {
     "data": {
      "image/png": "[encoded data removed]",
      "text/plain": [
       "<Figure size 432x288 with 1 Axes>"
      ]
     },
     "metadata": {
      "needs_background": "light"
     },
     "output_type": "display_data"
    }
   ],
   "source": [
    "plt.hist(w)"
   ]
  },
  {
   "cell_type": "markdown",
   "metadata": {},
   "source": [
    "## Attacking sample"
   ]
  },
  {
   "cell_type": "code",
   "execution_count": 37,
   "metadata": {},
   "outputs": [],
   "source": [
    "epsilon = 0.34\n",
    "index = 12\n",
    "\n",
    "nbits = 8\n",
    "sample = X[index:index+1, :]"
   ]
  },
  {
   "cell_type": "code",
   "execution_count": 38,
   "metadata": {},
   "outputs": [
    {
     "name": "stdout",
     "output_type": "stream",
     "text": [
      "False\n",
      "sat\n"
     ]
    }
   ],
   "source": [
    "s, c_weights, seq_nump, seq_numn = hard_attack(clf, sample, epsilon, var_x, nbits)"
   ]
  },
  {
   "cell_type": "code",
   "execution_count": 39,
   "metadata": {},
   "outputs": [
    {
     "data": {
      "text/plain": [
       "0.0019505733"
      ]
     },
     "execution_count": 39,
     "metadata": {},
     "output_type": "execute_result"
    }
   ],
   "source": [
    "clf.predict_proba(sample)[0][1]"
   ]
  },
  {
   "cell_type": "code",
   "execution_count": 40,
   "metadata": {},
   "outputs": [
    {
     "data": {
      "text/plain": [
       "0.51306205456736"
      ]
     },
     "execution_count": 40,
     "metadata": {},
     "output_type": "execute_result"
    }
   ],
   "source": [
    "adv_weights = get_output(s, c_weights)\n",
    "val = np.sum([v for k, v in adv_weights.items()])\n",
    "1 / (1 + np.exp(-val))"
   ]
  },
  {
   "cell_type": "code",
   "execution_count": 41,
   "metadata": {},
   "outputs": [
    {
     "data": {
      "text/plain": [
       "0.51306206"
      ]
     },
     "execution_count": 41,
     "metadata": {},
     "output_type": "execute_result"
    }
   ],
   "source": [
    "x_adv, x_adv_sample, compare = get_x_adv(s, var_x, sample)\n",
    "clf.predict_proba(x_adv_sample)[0][1]"
   ]
  },
  {
   "cell_type": "code",
   "execution_count": 42,
   "metadata": {},
   "outputs": [
    {
     "data": {
      "text/html": [
       "<div>\n",
       "<style scoped>\n",
       "    .dataframe tbody tr th:only-of-type {\n",
       "        vertical-align: middle;\n",
       "    }\n",
       "\n",
       "    .dataframe tbody tr th {\n",
       "        vertical-align: top;\n",
       "    }\n",
       "\n",
       "    .dataframe thead th {\n",
       "        text-align: right;\n",
       "    }\n",
       "</style>\n",
       "<table border=\"1\" class=\"dataframe\">\n",
       "  <thead>\n",
       "    <tr style=\"text-align: right;\">\n",
       "      <th></th>\n",
       "      <th>0</th>\n",
       "      <th>1</th>\n",
       "      <th>diff(%)</th>\n",
       "      <th>bound</th>\n",
       "    </tr>\n",
       "  </thead>\n",
       "  <tbody>\n",
       "    <tr>\n",
       "      <th>21</th>\n",
       "      <td>29.940000</td>\n",
       "      <td>20.224819</td>\n",
       "      <td>0.324488</td>\n",
       "      <td>[20.0450001, 20.2249985]</td>\n",
       "    </tr>\n",
       "    <tr>\n",
       "      <th>22</th>\n",
       "      <td>151.700000</td>\n",
       "      <td>105.844047</td>\n",
       "      <td>0.302281</td>\n",
       "      <td>[-inf, 105.949997]</td>\n",
       "    </tr>\n",
       "    <tr>\n",
       "      <th>23</th>\n",
       "      <td>1332.000000</td>\n",
       "      <td>957.360762</td>\n",
       "      <td>0.281261</td>\n",
       "      <td>[868.199951, 957.450012]</td>\n",
       "    </tr>\n",
       "    <tr>\n",
       "      <th>27</th>\n",
       "      <td>0.176700</td>\n",
       "      <td>0.135799</td>\n",
       "      <td>0.231470</td>\n",
       "      <td>[0.135049999, 0.135800004]</td>\n",
       "    </tr>\n",
       "    <tr>\n",
       "      <th>1</th>\n",
       "      <td>24.800000</td>\n",
       "      <td>19.761609</td>\n",
       "      <td>0.203161</td>\n",
       "      <td>[16.375, 19.7649994]</td>\n",
       "    </tr>\n",
       "    <tr>\n",
       "      <th>20</th>\n",
       "      <td>20.960000</td>\n",
       "      <td>16.799989</td>\n",
       "      <td>0.198474</td>\n",
       "      <td>[16.7900009, 16.7999992]</td>\n",
       "    </tr>\n",
       "    <tr>\n",
       "      <th>25</th>\n",
       "      <td>0.390300</td>\n",
       "      <td>0.325596</td>\n",
       "      <td>0.165780</td>\n",
       "      <td>[0.171750009, 0.325749993]</td>\n",
       "    </tr>\n",
       "    <tr>\n",
       "      <th>28</th>\n",
       "      <td>0.317600</td>\n",
       "      <td>0.280717</td>\n",
       "      <td>0.116129</td>\n",
       "      <td>[0.198249996, 0.280799985]</td>\n",
       "    </tr>\n",
       "    <tr>\n",
       "      <th>4</th>\n",
       "      <td>0.097400</td>\n",
       "      <td>0.088047</td>\n",
       "      <td>0.096028</td>\n",
       "      <td>[-inf, 0.088135004]</td>\n",
       "    </tr>\n",
       "    <tr>\n",
       "      <th>0</th>\n",
       "      <td>19.170000</td>\n",
       "      <td>19.170000</td>\n",
       "      <td>0.000000</td>\n",
       "      <td>[-inf, inf]</td>\n",
       "    </tr>\n",
       "    <tr>\n",
       "      <th>16</th>\n",
       "      <td>0.088900</td>\n",
       "      <td>0.088900</td>\n",
       "      <td>0.000000</td>\n",
       "      <td>[-inf, inf]</td>\n",
       "    </tr>\n",
       "    <tr>\n",
       "      <th>26</th>\n",
       "      <td>0.363900</td>\n",
       "      <td>0.363900</td>\n",
       "      <td>0.000000</td>\n",
       "      <td>[0.228100002, inf]</td>\n",
       "    </tr>\n",
       "    <tr>\n",
       "      <th>24</th>\n",
       "      <td>0.103700</td>\n",
       "      <td>0.103700</td>\n",
       "      <td>0.000000</td>\n",
       "      <td>[-inf, 0.135800004]</td>\n",
       "    </tr>\n",
       "    <tr>\n",
       "      <th>19</th>\n",
       "      <td>0.012840</td>\n",
       "      <td>0.012840</td>\n",
       "      <td>0.000000</td>\n",
       "      <td>[0.00457100011, inf]</td>\n",
       "    </tr>\n",
       "    <tr>\n",
       "      <th>18</th>\n",
       "      <td>0.044840</td>\n",
       "      <td>0.044840</td>\n",
       "      <td>0.000000</td>\n",
       "      <td>[0.0250799991, inf]</td>\n",
       "    </tr>\n",
       "    <tr>\n",
       "      <th>17</th>\n",
       "      <td>0.040900</td>\n",
       "      <td>0.040900</td>\n",
       "      <td>0.000000</td>\n",
       "      <td>[0.0225499999, inf]</td>\n",
       "    </tr>\n",
       "    <tr>\n",
       "      <th>15</th>\n",
       "      <td>0.082970</td>\n",
       "      <td>0.082970</td>\n",
       "      <td>0.000000</td>\n",
       "      <td>[0.0265749991, inf]</td>\n",
       "    </tr>\n",
       "    <tr>\n",
       "      <th>14</th>\n",
       "      <td>0.003139</td>\n",
       "      <td>0.003139</td>\n",
       "      <td>0.000000</td>\n",
       "      <td>[-inf, inf]</td>\n",
       "    </tr>\n",
       "    <tr>\n",
       "      <th>13</th>\n",
       "      <td>116.200000</td>\n",
       "      <td>116.200000</td>\n",
       "      <td>0.000000</td>\n",
       "      <td>[45.1699982, inf]</td>\n",
       "    </tr>\n",
       "    <tr>\n",
       "      <th>12</th>\n",
       "      <td>11.070000</td>\n",
       "      <td>11.070000</td>\n",
       "      <td>0.000000</td>\n",
       "      <td>[4.11849976, inf]</td>\n",
       "    </tr>\n",
       "    <tr>\n",
       "      <th>11</th>\n",
       "      <td>3.568000</td>\n",
       "      <td>3.568000</td>\n",
       "      <td>0.000000</td>\n",
       "      <td>[-inf, inf]</td>\n",
       "    </tr>\n",
       "    <tr>\n",
       "      <th>10</th>\n",
       "      <td>0.955500</td>\n",
       "      <td>0.955500</td>\n",
       "      <td>0.000000</td>\n",
       "      <td>[0.583999991, inf]</td>\n",
       "    </tr>\n",
       "    <tr>\n",
       "      <th>9</th>\n",
       "      <td>0.078000</td>\n",
       "      <td>0.078000</td>\n",
       "      <td>0.000000</td>\n",
       "      <td>[0.0566800013, inf]</td>\n",
       "    </tr>\n",
       "    <tr>\n",
       "      <th>8</th>\n",
       "      <td>0.239700</td>\n",
       "      <td>0.239700</td>\n",
       "      <td>0.000000</td>\n",
       "      <td>[-inf, inf]</td>\n",
       "    </tr>\n",
       "    <tr>\n",
       "      <th>7</th>\n",
       "      <td>0.111800</td>\n",
       "      <td>0.111800</td>\n",
       "      <td>0.000000</td>\n",
       "      <td>[0.0492300019, inf]</td>\n",
       "    </tr>\n",
       "    <tr>\n",
       "      <th>6</th>\n",
       "      <td>0.206500</td>\n",
       "      <td>0.206500</td>\n",
       "      <td>0.000000</td>\n",
       "      <td>[0.0858850032, inf]</td>\n",
       "    </tr>\n",
       "    <tr>\n",
       "      <th>5</th>\n",
       "      <td>0.245800</td>\n",
       "      <td>0.245800</td>\n",
       "      <td>0.000000</td>\n",
       "      <td>[0.0713849962, inf]</td>\n",
       "    </tr>\n",
       "    <tr>\n",
       "      <th>3</th>\n",
       "      <td>1123.000000</td>\n",
       "      <td>1123.000000</td>\n",
       "      <td>0.000000</td>\n",
       "      <td>[696.25, inf]</td>\n",
       "    </tr>\n",
       "    <tr>\n",
       "      <th>2</th>\n",
       "      <td>132.400000</td>\n",
       "      <td>132.400000</td>\n",
       "      <td>0.000000</td>\n",
       "      <td>[-inf, inf]</td>\n",
       "    </tr>\n",
       "    <tr>\n",
       "      <th>29</th>\n",
       "      <td>0.102300</td>\n",
       "      <td>0.102300</td>\n",
       "      <td>0.000000</td>\n",
       "      <td>[-inf, inf]</td>\n",
       "    </tr>\n",
       "  </tbody>\n",
       "</table>\n",
       "</div>"
      ],
      "text/plain": [
       "              0            1   diff(%)                       bound\n",
       "21    29.940000    20.224819  0.324488    [20.0450001, 20.2249985]\n",
       "22   151.700000   105.844047  0.302281          [-inf, 105.949997]\n",
       "23  1332.000000   957.360762  0.281261    [868.199951, 957.450012]\n",
       "27     0.176700     0.135799  0.231470  [0.135049999, 0.135800004]\n",
       "1     24.800000    19.761609  0.203161        [16.375, 19.7649994]\n",
       "20    20.960000    16.799989  0.198474    [16.7900009, 16.7999992]\n",
       "25     0.390300     0.325596  0.165780  [0.171750009, 0.325749993]\n",
       "28     0.317600     0.280717  0.116129  [0.198249996, 0.280799985]\n",
       "4      0.097400     0.088047  0.096028         [-inf, 0.088135004]\n",
       "0     19.170000    19.170000  0.000000                 [-inf, inf]\n",
       "16     0.088900     0.088900  0.000000                 [-inf, inf]\n",
       "26     0.363900     0.363900  0.000000          [0.228100002, inf]\n",
       "24     0.103700     0.103700  0.000000         [-inf, 0.135800004]\n",
       "19     0.012840     0.012840  0.000000        [0.00457100011, inf]\n",
       "18     0.044840     0.044840  0.000000         [0.0250799991, inf]\n",
       "17     0.040900     0.040900  0.000000         [0.0225499999, inf]\n",
       "15     0.082970     0.082970  0.000000         [0.0265749991, inf]\n",
       "14     0.003139     0.003139  0.000000                 [-inf, inf]\n",
       "13   116.200000   116.200000  0.000000           [45.1699982, inf]\n",
       "12    11.070000    11.070000  0.000000           [4.11849976, inf]\n",
       "11     3.568000     3.568000  0.000000                 [-inf, inf]\n",
       "10     0.955500     0.955500  0.000000          [0.583999991, inf]\n",
       "9      0.078000     0.078000  0.000000         [0.0566800013, inf]\n",
       "8      0.239700     0.239700  0.000000                 [-inf, inf]\n",
       "7      0.111800     0.111800  0.000000         [0.0492300019, inf]\n",
       "6      0.206500     0.206500  0.000000         [0.0858850032, inf]\n",
       "5      0.245800     0.245800  0.000000         [0.0713849962, inf]\n",
       "3   1123.000000  1123.000000  0.000000               [696.25, inf]\n",
       "2    132.400000   132.400000  0.000000                 [-inf, inf]\n",
       "29     0.102300     0.102300  0.000000                 [-inf, inf]"
      ]
     },
     "execution_count": 42,
     "metadata": {},
     "output_type": "execute_result"
    }
   ],
   "source": [
    "compare.sort_values(by=[\"diff(%)\"], ascending=False)"
   ]
  }
 ],
 "metadata": {
  "kernelspec": {
   "display_name": "Python 3.8.5 ('base')",
   "language": "python",
   "name": "python3"
  },
  "language_info": {
   "codemirror_mode": {
    "name": "ipython",
    "version": 3
   },
   "file_extension": ".py",
   "mimetype": "text/x-python",
   "name": "python",
   "nbconvert_exporter": "python",
   "pygments_lexer": "ipython3",
   "version": "3.8.5"
  },
  "vscode": {
   "interpreter": {
    "hash": "20f972b5ec01afc6342c701ce71b35de9888327d446d177ef66e3c862529bc3b"
   }
  }
 },
 "nbformat": 4,
 "nbformat_minor": 4
}
