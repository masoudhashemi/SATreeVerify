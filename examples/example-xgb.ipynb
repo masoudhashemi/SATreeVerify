{
 "cells": [
  {
   "cell_type": "code",
   "execution_count": 1,
   "metadata": {},
   "outputs": [],
   "source": [
    "import sys\n",
    "sys.path.append(\"..\")"
   ]
  },
  {
   "cell_type": "code",
   "execution_count": 2,
   "metadata": {},
   "outputs": [
    {
     "name": "stderr",
     "output_type": "stream",
     "text": [
      "/home/masoud/anaconda3/lib/python3.8/site-packages/xgboost/compat.py:31: FutureWarning: pandas.Int64Index is deprecated and will be removed from pandas in a future version. Use pandas.Index with the appropriate dtype instead.\n",
      "  from pandas import MultiIndex, Int64Index\n"
     ]
    }
   ],
   "source": [
    "from sklearn.datasets import load_breast_cancer\n",
    "from sklearn.model_selection import train_test_split\n",
    "import numpy as np\n",
    "import pandas as pd\n",
    "from matplotlib import pyplot as plt\n",
    "import xgboost\n",
    "from satreeverify.xgb_utils import *"
   ]
  },
  {
   "cell_type": "code",
   "execution_count": 3,
   "metadata": {},
   "outputs": [],
   "source": [
    "data = load_breast_cancer()\n",
    "X = data['data']\n",
    "y = data[\"target\"]\n",
    "feature_names = data[\"feature_names\"]\n",
    "y = y==1"
   ]
  },
  {
   "cell_type": "code",
   "execution_count": 4,
   "metadata": {},
   "outputs": [],
   "source": [
    "x_train, x_test, y_train, y_test = train_test_split(X, y, test_size=0.2)"
   ]
  },
  {
   "cell_type": "code",
   "execution_count": 5,
   "metadata": {},
   "outputs": [
    {
     "name": "stderr",
     "output_type": "stream",
     "text": [
      "/home/masoud/anaconda3/lib/python3.8/site-packages/xgboost/sklearn.py:888: UserWarning: The use of label encoder in XGBClassifier is deprecated and will be removed in a future release. To remove this warning, do the following: 1) Pass option use_label_encoder=False when constructing XGBClassifier object; and 2) Encode your labels (y) as integers starting with 0, i.e. 0, 1, 2, ..., [num_class - 1].\n",
      "  warnings.warn(label_encoder_deprecation_msg, UserWarning)\n"
     ]
    },
    {
     "name": "stdout",
     "output_type": "stream",
     "text": [
      "[23:51:12] WARNING: ../src/learner.cc:1061: Starting in XGBoost 1.3.0, the default evaluation metric used with the objective 'binary:logistic' was changed from 'error' to 'logloss'. Explicitly set eval_metric if you'd like to restore the old behavior.\n"
     ]
    },
    {
     "data": {
      "text/plain": [
       "0.9824561403508771"
      ]
     },
     "execution_count": 5,
     "metadata": {},
     "output_type": "execute_result"
    }
   ],
   "source": [
    "ntrees = 50\n",
    "clf = xgboost.XGBClassifier(n_estimators=ntrees, max_depth=3).fit(x_train, y_train)\n",
    "clf.score(x_test, y_test)"
   ]
  },
  {
   "cell_type": "code",
   "execution_count": 6,
   "metadata": {},
   "outputs": [
    {
     "name": "stdout",
     "output_type": "stream",
     "text": [
      "(2, 125)\n"
     ]
    },
    {
     "data": {
      "text/html": [
       "<div>\n",
       "<style scoped>\n",
       "    .dataframe tbody tr th:only-of-type {\n",
       "        vertical-align: middle;\n",
       "    }\n",
       "\n",
       "    .dataframe tbody tr th {\n",
       "        vertical-align: top;\n",
       "    }\n",
       "\n",
       "    .dataframe thead th {\n",
       "        text-align: right;\n",
       "    }\n",
       "</style>\n",
       "<table border=\"1\" class=\"dataframe\">\n",
       "  <thead>\n",
       "    <tr style=\"text-align: right;\">\n",
       "      <th></th>\n",
       "      <th>23_810.549988</th>\n",
       "      <th>29_0.0695500001</th>\n",
       "      <th>1_19.8299999</th>\n",
       "      <th>27_0.16065</th>\n",
       "      <th>15_0.0142749995</th>\n",
       "      <th>24_0.124500006</th>\n",
       "      <th>4_0.0841100067</th>\n",
       "      <th>3_696.25</th>\n",
       "      <th>27_0.11135</th>\n",
       "      <th>25_0.280250013</th>\n",
       "      <th>...</th>\n",
       "      <th>23_736.400024</th>\n",
       "      <th>25_0.408699989</th>\n",
       "      <th>6_0.093294993</th>\n",
       "      <th>8_0.166299999</th>\n",
       "      <th>11_0.492299974</th>\n",
       "      <th>26_0.190699995</th>\n",
       "      <th>3_694.5</th>\n",
       "      <th>27_0.118200004</th>\n",
       "      <th>22_87.1100006</th>\n",
       "      <th>7_0.0268049985</th>\n",
       "    </tr>\n",
       "  </thead>\n",
       "  <tbody>\n",
       "    <tr>\n",
       "      <th>0</th>\n",
       "      <td>True</td>\n",
       "      <td>True</td>\n",
       "      <td>False</td>\n",
       "      <td>True</td>\n",
       "      <td>True</td>\n",
       "      <td>False</td>\n",
       "      <td>True</td>\n",
       "      <td>True</td>\n",
       "      <td>True</td>\n",
       "      <td>True</td>\n",
       "      <td>...</td>\n",
       "      <td>True</td>\n",
       "      <td>False</td>\n",
       "      <td>True</td>\n",
       "      <td>True</td>\n",
       "      <td>True</td>\n",
       "      <td>True</td>\n",
       "      <td>True</td>\n",
       "      <td>True</td>\n",
       "      <td>True</td>\n",
       "      <td>True</td>\n",
       "    </tr>\n",
       "    <tr>\n",
       "      <th>1</th>\n",
       "      <td>False</td>\n",
       "      <td>False</td>\n",
       "      <td>False</td>\n",
       "      <td>False</td>\n",
       "      <td>True</td>\n",
       "      <td>True</td>\n",
       "      <td>True</td>\n",
       "      <td>False</td>\n",
       "      <td>False</td>\n",
       "      <td>False</td>\n",
       "      <td>...</td>\n",
       "      <td>False</td>\n",
       "      <td>False</td>\n",
       "      <td>False</td>\n",
       "      <td>True</td>\n",
       "      <td>True</td>\n",
       "      <td>False</td>\n",
       "      <td>False</td>\n",
       "      <td>False</td>\n",
       "      <td>False</td>\n",
       "      <td>True</td>\n",
       "    </tr>\n",
       "  </tbody>\n",
       "</table>\n",
       "<p>2 rows × 125 columns</p>\n",
       "</div>"
      ],
      "text/plain": [
       "   23_810.549988  29_0.0695500001  1_19.8299999  27_0.16065  15_0.0142749995  \\\n",
       "0           True             True         False        True             True   \n",
       "1          False            False         False       False             True   \n",
       "\n",
       "   24_0.124500006  4_0.0841100067  3_696.25  27_0.11135  25_0.280250013  ...  \\\n",
       "0           False            True      True        True            True  ...   \n",
       "1            True            True     False       False           False  ...   \n",
       "\n",
       "   23_736.400024  25_0.408699989  6_0.093294993  8_0.166299999  \\\n",
       "0           True           False           True           True   \n",
       "1          False           False          False           True   \n",
       "\n",
       "   11_0.492299974  26_0.190699995  3_694.5  27_0.118200004  22_87.1100006  \\\n",
       "0            True            True     True            True           True   \n",
       "1            True           False    False           False          False   \n",
       "\n",
       "   7_0.0268049985  \n",
       "0            True  \n",
       "1            True  \n",
       "\n",
       "[2 rows x 125 columns]"
      ]
     },
     "execution_count": 6,
     "metadata": {},
     "output_type": "execute_result"
    }
   ],
   "source": [
    "dump = clf.get_booster().get_dump(dump_format=\"json\")\n",
    "all_thresh = get_ens_thresh(dump)\n",
    "data_ = disc_data(x_train[:2,:], all_thresh)\n",
    "print(data_.shape)\n",
    "data_.head()"
   ]
  },
  {
   "cell_type": "code",
   "execution_count": 7,
   "metadata": {},
   "outputs": [],
   "source": [
    "var_x = {f\"x({i})\": Bool(f\"x({i})\") for i in data_.columns}"
   ]
  },
  {
   "cell_type": "markdown",
   "metadata": {},
   "source": [
    "# Soft Attack"
   ]
  },
  {
   "cell_type": "code",
   "execution_count": 8,
   "metadata": {},
   "outputs": [
    {
     "data": {
      "text/plain": [
       "array([[0.99828535, 0.00171462]], dtype=float32)"
      ]
     },
     "execution_count": 8,
     "metadata": {},
     "output_type": "execute_result"
    }
   ],
   "source": [
    "epsilon = 0.34\n",
    "index = 12\n",
    "\n",
    "sample = X[index:index+1, :]\n",
    "clf.predict_proba(sample)"
   ]
  },
  {
   "cell_type": "code",
   "execution_count": 9,
   "metadata": {},
   "outputs": [
    {
     "name": "stdout",
     "output_type": "stream",
     "text": [
      "False\n",
      "sat\n"
     ]
    }
   ],
   "source": [
    "s, c_weights = soft_attack(clf, sample, epsilon, var_x)"
   ]
  },
  {
   "cell_type": "code",
   "execution_count": 10,
   "metadata": {},
   "outputs": [
    {
     "data": {
      "text/plain": [
       "0.7172222549678157"
      ]
     },
     "execution_count": 10,
     "metadata": {},
     "output_type": "execute_result"
    }
   ],
   "source": [
    "adv_weights = get_output(s, c_weights)\n",
    "1 / (1 + np.exp(-np.sum([v for k, v in adv_weights.items()])))"
   ]
  },
  {
   "cell_type": "code",
   "execution_count": 11,
   "metadata": {},
   "outputs": [
    {
     "data": {
      "text/plain": [
       "0.0017146178"
      ]
     },
     "execution_count": 11,
     "metadata": {},
     "output_type": "execute_result"
    }
   ],
   "source": [
    "clf.predict_proba(sample)[0][1]"
   ]
  },
  {
   "cell_type": "code",
   "execution_count": 12,
   "metadata": {},
   "outputs": [
    {
     "data": {
      "text/plain": [
       "0.7172222"
      ]
     },
     "execution_count": 12,
     "metadata": {},
     "output_type": "execute_result"
    }
   ],
   "source": [
    "x_adv, x_adv_sample, compare = get_x_adv(s, var_x, sample)\n",
    "clf.predict_proba(x_adv_sample)[0][1]"
   ]
  },
  {
   "cell_type": "code",
   "execution_count": 13,
   "metadata": {},
   "outputs": [
    {
     "data": {
      "text/html": [
       "<div>\n",
       "<style scoped>\n",
       "    .dataframe tbody tr th:only-of-type {\n",
       "        vertical-align: middle;\n",
       "    }\n",
       "\n",
       "    .dataframe tbody tr th {\n",
       "        vertical-align: top;\n",
       "    }\n",
       "\n",
       "    .dataframe thead th {\n",
       "        text-align: right;\n",
       "    }\n",
       "</style>\n",
       "<table border=\"1\" class=\"dataframe\">\n",
       "  <thead>\n",
       "    <tr style=\"text-align: right;\">\n",
       "      <th></th>\n",
       "      <th>0</th>\n",
       "      <th>1</th>\n",
       "      <th>diff(%)</th>\n",
       "      <th>bound</th>\n",
       "    </tr>\n",
       "  </thead>\n",
       "  <tbody>\n",
       "    <tr>\n",
       "      <th>21</th>\n",
       "      <td>29.940000</td>\n",
       "      <td>20.024955</td>\n",
       "      <td>0.331164</td>\n",
       "      <td>[-inf, 20.0450001]</td>\n",
       "    </tr>\n",
       "    <tr>\n",
       "      <th>22</th>\n",
       "      <td>151.700000</td>\n",
       "      <td>107.448497</td>\n",
       "      <td>0.291704</td>\n",
       "      <td>[105.949997, 107.449997]</td>\n",
       "    </tr>\n",
       "    <tr>\n",
       "      <th>23</th>\n",
       "      <td>1332.000000</td>\n",
       "      <td>953.557362</td>\n",
       "      <td>0.284116</td>\n",
       "      <td>[811.050049, 953.700012]</td>\n",
       "    </tr>\n",
       "    <tr>\n",
       "      <th>25</th>\n",
       "      <td>0.390300</td>\n",
       "      <td>0.279970</td>\n",
       "      <td>0.282681</td>\n",
       "      <td>[-inf, 0.280250013]</td>\n",
       "    </tr>\n",
       "    <tr>\n",
       "      <th>26</th>\n",
       "      <td>0.363900</td>\n",
       "      <td>0.267256</td>\n",
       "      <td>0.265578</td>\n",
       "      <td>[0.223450005, 0.26730001]</td>\n",
       "    </tr>\n",
       "    <tr>\n",
       "      <th>27</th>\n",
       "      <td>0.176700</td>\n",
       "      <td>0.136549</td>\n",
       "      <td>0.227225</td>\n",
       "      <td>[0.135800004, 0.136550009]</td>\n",
       "    </tr>\n",
       "    <tr>\n",
       "      <th>20</th>\n",
       "      <td>20.960000</td>\n",
       "      <td>16.778205</td>\n",
       "      <td>0.199513</td>\n",
       "      <td>[-inf, 16.7950001]</td>\n",
       "    </tr>\n",
       "    <tr>\n",
       "      <th>1</th>\n",
       "      <td>24.800000</td>\n",
       "      <td>20.234961</td>\n",
       "      <td>0.184074</td>\n",
       "      <td>[20.1949997, 20.2350006]</td>\n",
       "    </tr>\n",
       "    <tr>\n",
       "      <th>28</th>\n",
       "      <td>0.317600</td>\n",
       "      <td>0.282718</td>\n",
       "      <td>0.109830</td>\n",
       "      <td>[0.200749993, 0.282800019]</td>\n",
       "    </tr>\n",
       "    <tr>\n",
       "      <th>4</th>\n",
       "      <td>0.097400</td>\n",
       "      <td>0.089490</td>\n",
       "      <td>0.081215</td>\n",
       "      <td>[0.0841100067, 0.0894950032]</td>\n",
       "    </tr>\n",
       "    <tr>\n",
       "      <th>29</th>\n",
       "      <td>0.102300</td>\n",
       "      <td>0.097183</td>\n",
       "      <td>0.050019</td>\n",
       "      <td>[0.0702600032, 0.0972100049]</td>\n",
       "    </tr>\n",
       "    <tr>\n",
       "      <th>24</th>\n",
       "      <td>0.103700</td>\n",
       "      <td>0.108255</td>\n",
       "      <td>0.043928</td>\n",
       "      <td>[0.10825, 0.113600001]</td>\n",
       "    </tr>\n",
       "    <tr>\n",
       "      <th>16</th>\n",
       "      <td>0.088900</td>\n",
       "      <td>0.088900</td>\n",
       "      <td>0.000000</td>\n",
       "      <td>[-inf, inf]</td>\n",
       "    </tr>\n",
       "    <tr>\n",
       "      <th>19</th>\n",
       "      <td>0.012840</td>\n",
       "      <td>0.012840</td>\n",
       "      <td>0.000000</td>\n",
       "      <td>[0.00336749991, inf]</td>\n",
       "    </tr>\n",
       "    <tr>\n",
       "      <th>18</th>\n",
       "      <td>0.044840</td>\n",
       "      <td>0.044840</td>\n",
       "      <td>0.000000</td>\n",
       "      <td>[0.0174550004, inf]</td>\n",
       "    </tr>\n",
       "    <tr>\n",
       "      <th>17</th>\n",
       "      <td>0.040900</td>\n",
       "      <td>0.040900</td>\n",
       "      <td>0.000000</td>\n",
       "      <td>[0.0142649999, inf]</td>\n",
       "    </tr>\n",
       "    <tr>\n",
       "      <th>0</th>\n",
       "      <td>19.170000</td>\n",
       "      <td>19.170000</td>\n",
       "      <td>0.000000</td>\n",
       "      <td>[-inf, inf]</td>\n",
       "    </tr>\n",
       "    <tr>\n",
       "      <th>14</th>\n",
       "      <td>0.003139</td>\n",
       "      <td>0.003139</td>\n",
       "      <td>0.000000</td>\n",
       "      <td>[-inf, inf]</td>\n",
       "    </tr>\n",
       "    <tr>\n",
       "      <th>13</th>\n",
       "      <td>116.200000</td>\n",
       "      <td>116.200000</td>\n",
       "      <td>0.000000</td>\n",
       "      <td>[48.7000008, inf]</td>\n",
       "    </tr>\n",
       "    <tr>\n",
       "      <th>12</th>\n",
       "      <td>11.070000</td>\n",
       "      <td>11.070000</td>\n",
       "      <td>0.000000</td>\n",
       "      <td>[1.91499996, inf]</td>\n",
       "    </tr>\n",
       "    <tr>\n",
       "      <th>11</th>\n",
       "      <td>3.568000</td>\n",
       "      <td>3.568000</td>\n",
       "      <td>0.000000</td>\n",
       "      <td>[1.91000009, inf]</td>\n",
       "    </tr>\n",
       "    <tr>\n",
       "      <th>10</th>\n",
       "      <td>0.955500</td>\n",
       "      <td>0.955500</td>\n",
       "      <td>0.000000</td>\n",
       "      <td>[0.625550032, inf]</td>\n",
       "    </tr>\n",
       "    <tr>\n",
       "      <th>9</th>\n",
       "      <td>0.078000</td>\n",
       "      <td>0.078000</td>\n",
       "      <td>0.000000</td>\n",
       "      <td>[-inf, inf]</td>\n",
       "    </tr>\n",
       "    <tr>\n",
       "      <th>8</th>\n",
       "      <td>0.239700</td>\n",
       "      <td>0.239700</td>\n",
       "      <td>0.000000</td>\n",
       "      <td>[0.197450012, inf]</td>\n",
       "    </tr>\n",
       "    <tr>\n",
       "      <th>7</th>\n",
       "      <td>0.111800</td>\n",
       "      <td>0.111800</td>\n",
       "      <td>0.000000</td>\n",
       "      <td>[0.0708200037, inf]</td>\n",
       "    </tr>\n",
       "    <tr>\n",
       "      <th>6</th>\n",
       "      <td>0.206500</td>\n",
       "      <td>0.206500</td>\n",
       "      <td>0.000000</td>\n",
       "      <td>[0.093294993, inf]</td>\n",
       "    </tr>\n",
       "    <tr>\n",
       "      <th>5</th>\n",
       "      <td>0.245800</td>\n",
       "      <td>0.245800</td>\n",
       "      <td>0.000000</td>\n",
       "      <td>[0.059285, inf]</td>\n",
       "    </tr>\n",
       "    <tr>\n",
       "      <th>3</th>\n",
       "      <td>1123.000000</td>\n",
       "      <td>1123.000000</td>\n",
       "      <td>0.000000</td>\n",
       "      <td>[696.25, inf]</td>\n",
       "    </tr>\n",
       "    <tr>\n",
       "      <th>2</th>\n",
       "      <td>132.400000</td>\n",
       "      <td>132.400000</td>\n",
       "      <td>0.000000</td>\n",
       "      <td>[-inf, inf]</td>\n",
       "    </tr>\n",
       "    <tr>\n",
       "      <th>15</th>\n",
       "      <td>0.082970</td>\n",
       "      <td>0.082970</td>\n",
       "      <td>0.000000</td>\n",
       "      <td>[0.019545, inf]</td>\n",
       "    </tr>\n",
       "  </tbody>\n",
       "</table>\n",
       "</div>"
      ],
      "text/plain": [
       "              0            1   diff(%)                         bound\n",
       "21    29.940000    20.024955  0.331164            [-inf, 20.0450001]\n",
       "22   151.700000   107.448497  0.291704      [105.949997, 107.449997]\n",
       "23  1332.000000   953.557362  0.284116      [811.050049, 953.700012]\n",
       "25     0.390300     0.279970  0.282681           [-inf, 0.280250013]\n",
       "26     0.363900     0.267256  0.265578     [0.223450005, 0.26730001]\n",
       "27     0.176700     0.136549  0.227225    [0.135800004, 0.136550009]\n",
       "20    20.960000    16.778205  0.199513            [-inf, 16.7950001]\n",
       "1     24.800000    20.234961  0.184074      [20.1949997, 20.2350006]\n",
       "28     0.317600     0.282718  0.109830    [0.200749993, 0.282800019]\n",
       "4      0.097400     0.089490  0.081215  [0.0841100067, 0.0894950032]\n",
       "29     0.102300     0.097183  0.050019  [0.0702600032, 0.0972100049]\n",
       "24     0.103700     0.108255  0.043928        [0.10825, 0.113600001]\n",
       "16     0.088900     0.088900  0.000000                   [-inf, inf]\n",
       "19     0.012840     0.012840  0.000000          [0.00336749991, inf]\n",
       "18     0.044840     0.044840  0.000000           [0.0174550004, inf]\n",
       "17     0.040900     0.040900  0.000000           [0.0142649999, inf]\n",
       "0     19.170000    19.170000  0.000000                   [-inf, inf]\n",
       "14     0.003139     0.003139  0.000000                   [-inf, inf]\n",
       "13   116.200000   116.200000  0.000000             [48.7000008, inf]\n",
       "12    11.070000    11.070000  0.000000             [1.91499996, inf]\n",
       "11     3.568000     3.568000  0.000000             [1.91000009, inf]\n",
       "10     0.955500     0.955500  0.000000            [0.625550032, inf]\n",
       "9      0.078000     0.078000  0.000000                   [-inf, inf]\n",
       "8      0.239700     0.239700  0.000000            [0.197450012, inf]\n",
       "7      0.111800     0.111800  0.000000           [0.0708200037, inf]\n",
       "6      0.206500     0.206500  0.000000            [0.093294993, inf]\n",
       "5      0.245800     0.245800  0.000000               [0.059285, inf]\n",
       "3   1123.000000  1123.000000  0.000000                 [696.25, inf]\n",
       "2    132.400000   132.400000  0.000000                   [-inf, inf]\n",
       "15     0.082970     0.082970  0.000000               [0.019545, inf]"
      ]
     },
     "execution_count": 13,
     "metadata": {},
     "output_type": "execute_result"
    }
   ],
   "source": [
    "compare.sort_values(by=[\"diff(%)\"], ascending=False)"
   ]
  },
  {
   "cell_type": "markdown",
   "metadata": {},
   "source": [
    "# Hard Attack"
   ]
  },
  {
   "cell_type": "markdown",
   "metadata": {},
   "source": [
    "## weight distribution"
   ]
  },
  {
   "cell_type": "code",
   "execution_count": 14,
   "metadata": {},
   "outputs": [
    {
     "data": {
      "text/plain": [
       "(-0.574647903, 0.582156122)"
      ]
     },
     "execution_count": 14,
     "metadata": {},
     "output_type": "execute_result"
    }
   ],
   "source": [
    "w = np.asarray([v for k,v in c_weights.items()])\n",
    "w.min(), w.max()"
   ]
  },
  {
   "cell_type": "code",
   "execution_count": 15,
   "metadata": {},
   "outputs": [
    {
     "data": {
      "text/plain": [
       "(array([ 2.,  4., 21., 25., 73., 52., 33., 14.,  5.,  1.]),\n",
       " array([-0.5746479 , -0.4589675 , -0.3432871 , -0.2276067 , -0.11192629,\n",
       "         0.00375411,  0.11943451,  0.23511491,  0.35079532,  0.46647572,\n",
       "         0.58215612]),\n",
       " <BarContainer object of 10 artists>)"
      ]
     },
     "execution_count": 15,
     "metadata": {},
     "output_type": "execute_result"
    },
    {
     "data": {
      "image/png": "[encoded data removed]",
      "text/plain": [
       "<Figure size 432x288 with 1 Axes>"
      ]
     },
     "metadata": {
      "needs_background": "light"
     },
     "output_type": "display_data"
    }
   ],
   "source": [
    "plt.hist(w)"
   ]
  },
  {
   "cell_type": "markdown",
   "metadata": {},
   "source": [
    "## Attacking sample"
   ]
  },
  {
   "cell_type": "code",
   "execution_count": 16,
   "metadata": {},
   "outputs": [],
   "source": [
    "epsilon = 0.34\n",
    "index = 12\n",
    "\n",
    "nbits = 8\n",
    "sample = X[index:index+1, :]"
   ]
  },
  {
   "cell_type": "code",
   "execution_count": 17,
   "metadata": {},
   "outputs": [
    {
     "name": "stdout",
     "output_type": "stream",
     "text": [
      "False\n",
      "sat\n"
     ]
    }
   ],
   "source": [
    "s, c_weights, seq_nump, seq_numn = hard_attack(clf, sample, epsilon, var_x, nbits)"
   ]
  },
  {
   "cell_type": "code",
   "execution_count": 18,
   "metadata": {},
   "outputs": [
    {
     "data": {
      "text/plain": [
       "0.0017146178"
      ]
     },
     "execution_count": 18,
     "metadata": {},
     "output_type": "execute_result"
    }
   ],
   "source": [
    "clf.predict_proba(sample)[0][1]"
   ]
  },
  {
   "cell_type": "code",
   "execution_count": 19,
   "metadata": {},
   "outputs": [
    {
     "data": {
      "text/plain": [
       "0.5050843557567661"
      ]
     },
     "execution_count": 19,
     "metadata": {},
     "output_type": "execute_result"
    }
   ],
   "source": [
    "adv_weights = get_output(s, c_weights)\n",
    "val = np.sum([v for k, v in adv_weights.items()])\n",
    "1 / (1 + np.exp(-val))"
   ]
  },
  {
   "cell_type": "code",
   "execution_count": 20,
   "metadata": {},
   "outputs": [
    {
     "data": {
      "text/plain": [
       "0.5050844"
      ]
     },
     "execution_count": 20,
     "metadata": {},
     "output_type": "execute_result"
    }
   ],
   "source": [
    "x_adv, x_adv_sample, compare = get_x_adv(s, var_x, sample)\n",
    "clf.predict_proba(x_adv_sample)[0][1]"
   ]
  },
  {
   "cell_type": "code",
   "execution_count": 21,
   "metadata": {},
   "outputs": [
    {
     "data": {
      "text/html": [
       "<div>\n",
       "<style scoped>\n",
       "    .dataframe tbody tr th:only-of-type {\n",
       "        vertical-align: middle;\n",
       "    }\n",
       "\n",
       "    .dataframe tbody tr th {\n",
       "        vertical-align: top;\n",
       "    }\n",
       "\n",
       "    .dataframe thead th {\n",
       "        text-align: right;\n",
       "    }\n",
       "</style>\n",
       "<table border=\"1\" class=\"dataframe\">\n",
       "  <thead>\n",
       "    <tr style=\"text-align: right;\">\n",
       "      <th></th>\n",
       "      <th>0</th>\n",
       "      <th>1</th>\n",
       "      <th>diff(%)</th>\n",
       "      <th>bound</th>\n",
       "    </tr>\n",
       "  </thead>\n",
       "  <tbody>\n",
       "    <tr>\n",
       "      <th>27</th>\n",
       "      <td>0.176700</td>\n",
       "      <td>0.118193</td>\n",
       "      <td>0.331108</td>\n",
       "      <td>[0.11135, 0.118200004]</td>\n",
       "    </tr>\n",
       "    <tr>\n",
       "      <th>22</th>\n",
       "      <td>151.700000</td>\n",
       "      <td>101.935157</td>\n",
       "      <td>0.328048</td>\n",
       "      <td>[87.1100006, 101.949997]</td>\n",
       "    </tr>\n",
       "    <tr>\n",
       "      <th>23</th>\n",
       "      <td>1332.000000</td>\n",
       "      <td>953.557362</td>\n",
       "      <td>0.284116</td>\n",
       "      <td>[811.050049, 953.700012]</td>\n",
       "    </tr>\n",
       "    <tr>\n",
       "      <th>25</th>\n",
       "      <td>0.390300</td>\n",
       "      <td>0.279970</td>\n",
       "      <td>0.282681</td>\n",
       "      <td>[-inf, 0.280250013]</td>\n",
       "    </tr>\n",
       "    <tr>\n",
       "      <th>26</th>\n",
       "      <td>0.363900</td>\n",
       "      <td>0.267256</td>\n",
       "      <td>0.265578</td>\n",
       "      <td>[0.223450005, 0.26730001]</td>\n",
       "    </tr>\n",
       "    <tr>\n",
       "      <th>1</th>\n",
       "      <td>24.800000</td>\n",
       "      <td>19.466639</td>\n",
       "      <td>0.215055</td>\n",
       "      <td>[16.1100006, 19.4699993]</td>\n",
       "    </tr>\n",
       "    <tr>\n",
       "      <th>21</th>\n",
       "      <td>29.940000</td>\n",
       "      <td>23.739610</td>\n",
       "      <td>0.207094</td>\n",
       "      <td>[23.3499985, 23.7399998]</td>\n",
       "    </tr>\n",
       "    <tr>\n",
       "      <th>20</th>\n",
       "      <td>20.960000</td>\n",
       "      <td>16.778205</td>\n",
       "      <td>0.199513</td>\n",
       "      <td>[-inf, 16.7950001]</td>\n",
       "    </tr>\n",
       "    <tr>\n",
       "      <th>28</th>\n",
       "      <td>0.317600</td>\n",
       "      <td>0.282718</td>\n",
       "      <td>0.109830</td>\n",
       "      <td>[0.200749993, 0.282800019]</td>\n",
       "    </tr>\n",
       "    <tr>\n",
       "      <th>4</th>\n",
       "      <td>0.097400</td>\n",
       "      <td>0.090425</td>\n",
       "      <td>0.071617</td>\n",
       "      <td>[0.0899550021, 0.0904249996]</td>\n",
       "    </tr>\n",
       "    <tr>\n",
       "      <th>24</th>\n",
       "      <td>0.103700</td>\n",
       "      <td>0.108255</td>\n",
       "      <td>0.043928</td>\n",
       "      <td>[0.10825, 0.113600001]</td>\n",
       "    </tr>\n",
       "    <tr>\n",
       "      <th>0</th>\n",
       "      <td>19.170000</td>\n",
       "      <td>19.170000</td>\n",
       "      <td>0.000000</td>\n",
       "      <td>[-inf, inf]</td>\n",
       "    </tr>\n",
       "    <tr>\n",
       "      <th>16</th>\n",
       "      <td>0.088900</td>\n",
       "      <td>0.088900</td>\n",
       "      <td>0.000000</td>\n",
       "      <td>[-inf, inf]</td>\n",
       "    </tr>\n",
       "    <tr>\n",
       "      <th>19</th>\n",
       "      <td>0.012840</td>\n",
       "      <td>0.012840</td>\n",
       "      <td>0.000000</td>\n",
       "      <td>[0.00336749991, inf]</td>\n",
       "    </tr>\n",
       "    <tr>\n",
       "      <th>18</th>\n",
       "      <td>0.044840</td>\n",
       "      <td>0.044840</td>\n",
       "      <td>0.000000</td>\n",
       "      <td>[0.0174550004, inf]</td>\n",
       "    </tr>\n",
       "    <tr>\n",
       "      <th>17</th>\n",
       "      <td>0.040900</td>\n",
       "      <td>0.040900</td>\n",
       "      <td>0.000000</td>\n",
       "      <td>[0.0142649999, inf]</td>\n",
       "    </tr>\n",
       "    <tr>\n",
       "      <th>15</th>\n",
       "      <td>0.082970</td>\n",
       "      <td>0.082970</td>\n",
       "      <td>0.000000</td>\n",
       "      <td>[0.019545, inf]</td>\n",
       "    </tr>\n",
       "    <tr>\n",
       "      <th>14</th>\n",
       "      <td>0.003139</td>\n",
       "      <td>0.003139</td>\n",
       "      <td>0.000000</td>\n",
       "      <td>[-inf, inf]</td>\n",
       "    </tr>\n",
       "    <tr>\n",
       "      <th>13</th>\n",
       "      <td>116.200000</td>\n",
       "      <td>116.200000</td>\n",
       "      <td>0.000000</td>\n",
       "      <td>[48.7000008, inf]</td>\n",
       "    </tr>\n",
       "    <tr>\n",
       "      <th>12</th>\n",
       "      <td>11.070000</td>\n",
       "      <td>11.070000</td>\n",
       "      <td>0.000000</td>\n",
       "      <td>[1.91499996, inf]</td>\n",
       "    </tr>\n",
       "    <tr>\n",
       "      <th>11</th>\n",
       "      <td>3.568000</td>\n",
       "      <td>3.568000</td>\n",
       "      <td>0.000000</td>\n",
       "      <td>[1.91000009, inf]</td>\n",
       "    </tr>\n",
       "    <tr>\n",
       "      <th>10</th>\n",
       "      <td>0.955500</td>\n",
       "      <td>0.955500</td>\n",
       "      <td>0.000000</td>\n",
       "      <td>[0.625550032, inf]</td>\n",
       "    </tr>\n",
       "    <tr>\n",
       "      <th>9</th>\n",
       "      <td>0.078000</td>\n",
       "      <td>0.078000</td>\n",
       "      <td>0.000000</td>\n",
       "      <td>[-inf, inf]</td>\n",
       "    </tr>\n",
       "    <tr>\n",
       "      <th>8</th>\n",
       "      <td>0.239700</td>\n",
       "      <td>0.239700</td>\n",
       "      <td>0.000000</td>\n",
       "      <td>[0.166449994, inf]</td>\n",
       "    </tr>\n",
       "    <tr>\n",
       "      <th>7</th>\n",
       "      <td>0.111800</td>\n",
       "      <td>0.111800</td>\n",
       "      <td>0.000000</td>\n",
       "      <td>[0.0708200037, inf]</td>\n",
       "    </tr>\n",
       "    <tr>\n",
       "      <th>6</th>\n",
       "      <td>0.206500</td>\n",
       "      <td>0.206500</td>\n",
       "      <td>0.000000</td>\n",
       "      <td>[0.093294993, inf]</td>\n",
       "    </tr>\n",
       "    <tr>\n",
       "      <th>5</th>\n",
       "      <td>0.245800</td>\n",
       "      <td>0.245800</td>\n",
       "      <td>0.000000</td>\n",
       "      <td>[0.059285, inf]</td>\n",
       "    </tr>\n",
       "    <tr>\n",
       "      <th>3</th>\n",
       "      <td>1123.000000</td>\n",
       "      <td>1123.000000</td>\n",
       "      <td>0.000000</td>\n",
       "      <td>[696.25, inf]</td>\n",
       "    </tr>\n",
       "    <tr>\n",
       "      <th>2</th>\n",
       "      <td>132.400000</td>\n",
       "      <td>132.400000</td>\n",
       "      <td>0.000000</td>\n",
       "      <td>[-inf, inf]</td>\n",
       "    </tr>\n",
       "    <tr>\n",
       "      <th>29</th>\n",
       "      <td>0.102300</td>\n",
       "      <td>0.102300</td>\n",
       "      <td>0.000000</td>\n",
       "      <td>[0.0702600032, inf]</td>\n",
       "    </tr>\n",
       "  </tbody>\n",
       "</table>\n",
       "</div>"
      ],
      "text/plain": [
       "              0            1   diff(%)                         bound\n",
       "27     0.176700     0.118193  0.331108        [0.11135, 0.118200004]\n",
       "22   151.700000   101.935157  0.328048      [87.1100006, 101.949997]\n",
       "23  1332.000000   953.557362  0.284116      [811.050049, 953.700012]\n",
       "25     0.390300     0.279970  0.282681           [-inf, 0.280250013]\n",
       "26     0.363900     0.267256  0.265578     [0.223450005, 0.26730001]\n",
       "1     24.800000    19.466639  0.215055      [16.1100006, 19.4699993]\n",
       "21    29.940000    23.739610  0.207094      [23.3499985, 23.7399998]\n",
       "20    20.960000    16.778205  0.199513            [-inf, 16.7950001]\n",
       "28     0.317600     0.282718  0.109830    [0.200749993, 0.282800019]\n",
       "4      0.097400     0.090425  0.071617  [0.0899550021, 0.0904249996]\n",
       "24     0.103700     0.108255  0.043928        [0.10825, 0.113600001]\n",
       "0     19.170000    19.170000  0.000000                   [-inf, inf]\n",
       "16     0.088900     0.088900  0.000000                   [-inf, inf]\n",
       "19     0.012840     0.012840  0.000000          [0.00336749991, inf]\n",
       "18     0.044840     0.044840  0.000000           [0.0174550004, inf]\n",
       "17     0.040900     0.040900  0.000000           [0.0142649999, inf]\n",
       "15     0.082970     0.082970  0.000000               [0.019545, inf]\n",
       "14     0.003139     0.003139  0.000000                   [-inf, inf]\n",
       "13   116.200000   116.200000  0.000000             [48.7000008, inf]\n",
       "12    11.070000    11.070000  0.000000             [1.91499996, inf]\n",
       "11     3.568000     3.568000  0.000000             [1.91000009, inf]\n",
       "10     0.955500     0.955500  0.000000            [0.625550032, inf]\n",
       "9      0.078000     0.078000  0.000000                   [-inf, inf]\n",
       "8      0.239700     0.239700  0.000000            [0.166449994, inf]\n",
       "7      0.111800     0.111800  0.000000           [0.0708200037, inf]\n",
       "6      0.206500     0.206500  0.000000            [0.093294993, inf]\n",
       "5      0.245800     0.245800  0.000000               [0.059285, inf]\n",
       "3   1123.000000  1123.000000  0.000000                 [696.25, inf]\n",
       "2    132.400000   132.400000  0.000000                   [-inf, inf]\n",
       "29     0.102300     0.102300  0.000000           [0.0702600032, inf]"
      ]
     },
     "execution_count": 21,
     "metadata": {},
     "output_type": "execute_result"
    }
   ],
   "source": [
    "compare.sort_values(by=[\"diff(%)\"], ascending=False)"
   ]
  }
 ],
 "metadata": {
  "kernelspec": {
   "display_name": "Python 3.8.5 ('base')",
   "language": "python",
   "name": "python3"
  },
  "language_info": {
   "codemirror_mode": {
    "name": "ipython",
    "version": 3
   },
   "file_extension": ".py",
   "mimetype": "text/x-python",
   "name": "python",
   "nbconvert_exporter": "python",
   "pygments_lexer": "ipython3",
   "version": "3.8.5"
  },
  "vscode": {
   "interpreter": {
    "hash": "20f972b5ec01afc6342c701ce71b35de9888327d446d177ef66e3c862529bc3b"
   }
  }
 },
 "nbformat": 4,
 "nbformat_minor": 4
}
