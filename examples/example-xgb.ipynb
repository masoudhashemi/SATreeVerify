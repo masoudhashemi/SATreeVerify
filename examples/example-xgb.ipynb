{
 "cells": [
  {
   "cell_type": "code",
   "execution_count": 1,
   "metadata": {},
   "outputs": [],
   "source": [
    "from z3 import *"
   ]
  },
  {
   "cell_type": "code",
   "execution_count": 2,
   "metadata": {},
   "outputs": [],
   "source": [
    "%load_ext autoreload\n",
    "%autoreload 2"
   ]
  },
  {
   "cell_type": "code",
   "execution_count": 3,
   "metadata": {},
   "outputs": [],
   "source": [
    "from sklearn.datasets import load_breast_cancer\n",
    "from sklearn.ensemble import RandomForestClassifier\n",
    "from sklearn.model_selection import train_test_split\n",
    "import numpy as np\n",
    "from sklearn.tree import _tree, plot_tree\n",
    "import pandas as pd\n",
    "from matplotlib import pyplot as plt\n",
    "import re\n",
    "import json\n",
    "import tqdm\n",
    "import xgboost"
   ]
  },
  {
   "cell_type": "code",
   "execution_count": 4,
   "metadata": {},
   "outputs": [],
   "source": [
    "from utils import *"
   ]
  },
  {
   "cell_type": "code",
   "execution_count": 5,
   "metadata": {},
   "outputs": [],
   "source": [
    "data = load_breast_cancer()\n",
    "X = data['data']\n",
    "y = data[\"target\"]\n",
    "feature_names = data[\"feature_names\"]\n",
    "y = y==1"
   ]
  },
  {
   "cell_type": "code",
   "execution_count": 6,
   "metadata": {},
   "outputs": [],
   "source": [
    "x_train, x_test, y_train, y_test = train_test_split(X, y, test_size=0.2)"
   ]
  },
  {
   "cell_type": "code",
   "execution_count": 7,
   "metadata": {},
   "outputs": [
    {
     "data": {
      "text/plain": [
       "0.956140350877193"
      ]
     },
     "execution_count": 7,
     "metadata": {},
     "output_type": "execute_result"
    }
   ],
   "source": [
    "ntrees = 50\n",
    "clf = xgboost.XGBClassifier(n_estimators=ntrees, max_depth=3).fit(x_train, y_train)\n",
    "clf.score(x_test, y_test)"
   ]
  },
  {
   "cell_type": "code",
   "execution_count": 8,
   "metadata": {},
   "outputs": [
    {
     "name": "stdout",
     "output_type": "stream",
     "text": [
      "(2, 128)\n"
     ]
    },
    {
     "data": {
      "text/html": [
       "<div>\n",
       "<style scoped>\n",
       "    .dataframe tbody tr th:only-of-type {\n",
       "        vertical-align: middle;\n",
       "    }\n",
       "\n",
       "    .dataframe tbody tr th {\n",
       "        vertical-align: top;\n",
       "    }\n",
       "\n",
       "    .dataframe thead th {\n",
       "        text-align: right;\n",
       "    }\n",
       "</style>\n",
       "<table border=\"1\" class=\"dataframe\">\n",
       "  <thead>\n",
       "    <tr style=\"text-align: right;\">\n",
       "      <th></th>\n",
       "      <th>12_1.75900006</th>\n",
       "      <th>5_0.0604199991</th>\n",
       "      <th>26_0.207249999</th>\n",
       "      <th>7_0.0512799993</th>\n",
       "      <th>24_0.135199994</th>\n",
       "      <th>27_0.135800004</th>\n",
       "      <th>27_0.135049999</th>\n",
       "      <th>27_0.110849999</th>\n",
       "      <th>6_0.0721400008</th>\n",
       "      <th>10_0.643100023</th>\n",
       "      <th>...</th>\n",
       "      <th>9_0.0564949997</th>\n",
       "      <th>22_114.449997</th>\n",
       "      <th>24_0.10915</th>\n",
       "      <th>23_711.300049</th>\n",
       "      <th>21_25.7449989</th>\n",
       "      <th>21_25.5649986</th>\n",
       "      <th>21_25.5149994</th>\n",
       "      <th>28_0.28095001</th>\n",
       "      <th>15_0.0177699998</th>\n",
       "      <th>23_871.799988</th>\n",
       "    </tr>\n",
       "  </thead>\n",
       "  <tbody>\n",
       "    <tr>\n",
       "      <th>0</th>\n",
       "      <td>False</td>\n",
       "      <td>True</td>\n",
       "      <td>True</td>\n",
       "      <td>True</td>\n",
       "      <td>True</td>\n",
       "      <td>True</td>\n",
       "      <td>True</td>\n",
       "      <td>True</td>\n",
       "      <td>True</td>\n",
       "      <td>False</td>\n",
       "      <td>...</td>\n",
       "      <td>True</td>\n",
       "      <td>False</td>\n",
       "      <td>True</td>\n",
       "      <td>True</td>\n",
       "      <td>True</td>\n",
       "      <td>True</td>\n",
       "      <td>True</td>\n",
       "      <td>False</td>\n",
       "      <td>True</td>\n",
       "      <td>False</td>\n",
       "    </tr>\n",
       "    <tr>\n",
       "      <th>1</th>\n",
       "      <td>False</td>\n",
       "      <td>False</td>\n",
       "      <td>False</td>\n",
       "      <td>False</td>\n",
       "      <td>False</td>\n",
       "      <td>False</td>\n",
       "      <td>False</td>\n",
       "      <td>False</td>\n",
       "      <td>False</td>\n",
       "      <td>False</td>\n",
       "      <td>...</td>\n",
       "      <td>True</td>\n",
       "      <td>False</td>\n",
       "      <td>False</td>\n",
       "      <td>False</td>\n",
       "      <td>False</td>\n",
       "      <td>False</td>\n",
       "      <td>False</td>\n",
       "      <td>False</td>\n",
       "      <td>False</td>\n",
       "      <td>False</td>\n",
       "    </tr>\n",
       "  </tbody>\n",
       "</table>\n",
       "<p>2 rows × 128 columns</p>\n",
       "</div>"
      ],
      "text/plain": [
       "   12_1.75900006  5_0.0604199991  26_0.207249999  7_0.0512799993  \\\n",
       "0          False            True            True            True   \n",
       "1          False           False           False           False   \n",
       "\n",
       "   24_0.135199994  27_0.135800004  27_0.135049999  27_0.110849999  \\\n",
       "0            True            True            True            True   \n",
       "1           False           False           False           False   \n",
       "\n",
       "   6_0.0721400008  10_0.643100023  ...  9_0.0564949997  22_114.449997  \\\n",
       "0            True           False  ...            True          False   \n",
       "1           False           False  ...            True          False   \n",
       "\n",
       "   24_0.10915  23_711.300049  21_25.7449989  21_25.5649986  21_25.5149994  \\\n",
       "0        True           True           True           True           True   \n",
       "1       False          False          False          False          False   \n",
       "\n",
       "   28_0.28095001  15_0.0177699998  23_871.799988  \n",
       "0          False             True          False  \n",
       "1          False            False          False  \n",
       "\n",
       "[2 rows x 128 columns]"
      ]
     },
     "execution_count": 8,
     "metadata": {},
     "output_type": "execute_result"
    }
   ],
   "source": [
    "dump = clf.get_booster().get_dump(dump_format=\"json\")\n",
    "all_thresh = get_ens_thresh(dump)\n",
    "data_ = disc_data(x_train[:2,:], all_thresh)\n",
    "print(data_.shape)\n",
    "data_.head()"
   ]
  },
  {
   "cell_type": "code",
   "execution_count": 9,
   "metadata": {},
   "outputs": [],
   "source": [
    "var_x = {f\"x({i})\": Bool(f\"x({i})\") for i in data_.columns}"
   ]
  },
  {
   "cell_type": "markdown",
   "metadata": {},
   "source": [
    "# Soft Attack"
   ]
  },
  {
   "cell_type": "code",
   "execution_count": 10,
   "metadata": {},
   "outputs": [
    {
     "data": {
      "text/plain": [
       "array([[0.9875099 , 0.01249008]], dtype=float32)"
      ]
     },
     "execution_count": 10,
     "metadata": {},
     "output_type": "execute_result"
    }
   ],
   "source": [
    "epsilon = 0.34\n",
    "index = 12\n",
    "\n",
    "sample = X[index:index+1, :]\n",
    "clf.predict_proba(sample)"
   ]
  },
  {
   "cell_type": "code",
   "execution_count": 11,
   "metadata": {},
   "outputs": [
    {
     "name": "stdout",
     "output_type": "stream",
     "text": [
      "False\n",
      "sat\n"
     ]
    }
   ],
   "source": [
    "s, c_weights = soft_attack(clf, sample, epsilon, var_x)"
   ]
  },
  {
   "cell_type": "code",
   "execution_count": 12,
   "metadata": {},
   "outputs": [
    {
     "data": {
      "text/plain": [
       "0.8113696529314206"
      ]
     },
     "execution_count": 12,
     "metadata": {},
     "output_type": "execute_result"
    }
   ],
   "source": [
    "adv_weights = get_output(s, c_weights)\n",
    "1 / (1 + np.exp(-np.sum([v for k, v in adv_weights.items()])))"
   ]
  },
  {
   "cell_type": "code",
   "execution_count": 13,
   "metadata": {},
   "outputs": [
    {
     "data": {
      "text/plain": [
       "0.0124900825"
      ]
     },
     "execution_count": 13,
     "metadata": {},
     "output_type": "execute_result"
    }
   ],
   "source": [
    "clf.predict_proba(sample)[0][1]"
   ]
  },
  {
   "cell_type": "code",
   "execution_count": 14,
   "metadata": {},
   "outputs": [
    {
     "data": {
      "text/plain": [
       "0.81136966"
      ]
     },
     "execution_count": 14,
     "metadata": {},
     "output_type": "execute_result"
    }
   ],
   "source": [
    "x_adv, x_adv_sample, compare = get_x_adv(s, var_x, sample)\n",
    "clf.predict_proba(x_adv_sample)[0][1]"
   ]
  },
  {
   "cell_type": "code",
   "execution_count": 15,
   "metadata": {},
   "outputs": [
    {
     "data": {
      "text/html": [
       "<div>\n",
       "<style scoped>\n",
       "    .dataframe tbody tr th:only-of-type {\n",
       "        vertical-align: middle;\n",
       "    }\n",
       "\n",
       "    .dataframe tbody tr th {\n",
       "        vertical-align: top;\n",
       "    }\n",
       "\n",
       "    .dataframe thead th {\n",
       "        text-align: right;\n",
       "    }\n",
       "</style>\n",
       "<table border=\"1\" class=\"dataframe\">\n",
       "  <thead>\n",
       "    <tr style=\"text-align: right;\">\n",
       "      <th></th>\n",
       "      <th>0</th>\n",
       "      <th>1</th>\n",
       "      <th>diff(%)</th>\n",
       "      <th>bound</th>\n",
       "    </tr>\n",
       "  </thead>\n",
       "  <tbody>\n",
       "    <tr>\n",
       "      <th>28</th>\n",
       "      <td>0.317600</td>\n",
       "      <td>0.210089</td>\n",
       "      <td>0.338510</td>\n",
       "      <td>[0.199349999, 0.210099995]</td>\n",
       "    </tr>\n",
       "    <tr>\n",
       "      <th>23</th>\n",
       "      <td>1332.000000</td>\n",
       "      <td>884.537238</td>\n",
       "      <td>0.335933</td>\n",
       "      <td>[871.799988, 884.549988]</td>\n",
       "    </tr>\n",
       "    <tr>\n",
       "      <th>21</th>\n",
       "      <td>29.940000</td>\n",
       "      <td>20.043360</td>\n",
       "      <td>0.330549</td>\n",
       "      <td>[18.4049988, 20.0450001]</td>\n",
       "    </tr>\n",
       "    <tr>\n",
       "      <th>1</th>\n",
       "      <td>24.800000</td>\n",
       "      <td>16.609116</td>\n",
       "      <td>0.330278</td>\n",
       "      <td>[15.7250004, 16.6100006]</td>\n",
       "    </tr>\n",
       "    <tr>\n",
       "      <th>10</th>\n",
       "      <td>0.955500</td>\n",
       "      <td>0.643041</td>\n",
       "      <td>0.327011</td>\n",
       "      <td>[0.583999991, 0.643100023]</td>\n",
       "    </tr>\n",
       "    <tr>\n",
       "      <th>20</th>\n",
       "      <td>20.960000</td>\n",
       "      <td>14.415570</td>\n",
       "      <td>0.312234</td>\n",
       "      <td>[-inf, 14.4300003]</td>\n",
       "    </tr>\n",
       "    <tr>\n",
       "      <th>22</th>\n",
       "      <td>151.700000</td>\n",
       "      <td>105.946097</td>\n",
       "      <td>0.301608</td>\n",
       "      <td>[102.050003, 105.949997]</td>\n",
       "    </tr>\n",
       "    <tr>\n",
       "      <th>26</th>\n",
       "      <td>0.363900</td>\n",
       "      <td>0.260458</td>\n",
       "      <td>0.284261</td>\n",
       "      <td>[0.218050003, 0.260500014]</td>\n",
       "    </tr>\n",
       "    <tr>\n",
       "      <th>2</th>\n",
       "      <td>132.400000</td>\n",
       "      <td>102.147750</td>\n",
       "      <td>0.228491</td>\n",
       "      <td>[-inf, 102.25]</td>\n",
       "    </tr>\n",
       "    <tr>\n",
       "      <th>0</th>\n",
       "      <td>19.170000</td>\n",
       "      <td>14.965020</td>\n",
       "      <td>0.219352</td>\n",
       "      <td>[-inf, 14.9799995]</td>\n",
       "    </tr>\n",
       "    <tr>\n",
       "      <th>7</th>\n",
       "      <td>0.111800</td>\n",
       "      <td>0.090986</td>\n",
       "      <td>0.186169</td>\n",
       "      <td>[0.0723399967, 0.0910049975]</td>\n",
       "    </tr>\n",
       "    <tr>\n",
       "      <th>27</th>\n",
       "      <td>0.176700</td>\n",
       "      <td>0.150747</td>\n",
       "      <td>0.146876</td>\n",
       "      <td>[0.147700012, 0.150749996]</td>\n",
       "    </tr>\n",
       "    <tr>\n",
       "      <th>19</th>\n",
       "      <td>0.012840</td>\n",
       "      <td>0.012840</td>\n",
       "      <td>0.000000</td>\n",
       "      <td>[0.00258099986, inf]</td>\n",
       "    </tr>\n",
       "    <tr>\n",
       "      <th>24</th>\n",
       "      <td>0.103700</td>\n",
       "      <td>0.103700</td>\n",
       "      <td>0.000000</td>\n",
       "      <td>[-inf, 0.10475]</td>\n",
       "    </tr>\n",
       "    <tr>\n",
       "      <th>17</th>\n",
       "      <td>0.040900</td>\n",
       "      <td>0.040900</td>\n",
       "      <td>0.000000</td>\n",
       "      <td>[-inf, inf]</td>\n",
       "    </tr>\n",
       "    <tr>\n",
       "      <th>25</th>\n",
       "      <td>0.390300</td>\n",
       "      <td>0.390300</td>\n",
       "      <td>0.000000</td>\n",
       "      <td>[0.175749987, inf]</td>\n",
       "    </tr>\n",
       "    <tr>\n",
       "      <th>18</th>\n",
       "      <td>0.044840</td>\n",
       "      <td>0.044840</td>\n",
       "      <td>0.000000</td>\n",
       "      <td>[0.0157749988, inf]</td>\n",
       "    </tr>\n",
       "    <tr>\n",
       "      <th>15</th>\n",
       "      <td>0.082970</td>\n",
       "      <td>0.082970</td>\n",
       "      <td>0.000000</td>\n",
       "      <td>[0.019545, inf]</td>\n",
       "    </tr>\n",
       "    <tr>\n",
       "      <th>16</th>\n",
       "      <td>0.088900</td>\n",
       "      <td>0.088900</td>\n",
       "      <td>0.000000</td>\n",
       "      <td>[0.0124549996, inf]</td>\n",
       "    </tr>\n",
       "    <tr>\n",
       "      <th>14</th>\n",
       "      <td>0.003139</td>\n",
       "      <td>0.003139</td>\n",
       "      <td>0.000000</td>\n",
       "      <td>[-inf, 0.00332299992]</td>\n",
       "    </tr>\n",
       "    <tr>\n",
       "      <th>13</th>\n",
       "      <td>116.200000</td>\n",
       "      <td>116.200000</td>\n",
       "      <td>0.000000</td>\n",
       "      <td>[48.9749985, inf]</td>\n",
       "    </tr>\n",
       "    <tr>\n",
       "      <th>12</th>\n",
       "      <td>11.070000</td>\n",
       "      <td>11.070000</td>\n",
       "      <td>0.000000</td>\n",
       "      <td>[4.11849976, inf]</td>\n",
       "    </tr>\n",
       "    <tr>\n",
       "      <th>11</th>\n",
       "      <td>3.568000</td>\n",
       "      <td>3.568000</td>\n",
       "      <td>0.000000</td>\n",
       "      <td>[-inf, inf]</td>\n",
       "    </tr>\n",
       "    <tr>\n",
       "      <th>9</th>\n",
       "      <td>0.078000</td>\n",
       "      <td>0.078000</td>\n",
       "      <td>0.000000</td>\n",
       "      <td>[0.0566800013, inf]</td>\n",
       "    </tr>\n",
       "    <tr>\n",
       "      <th>8</th>\n",
       "      <td>0.239700</td>\n",
       "      <td>0.239700</td>\n",
       "      <td>0.000000</td>\n",
       "      <td>[-inf, inf]</td>\n",
       "    </tr>\n",
       "    <tr>\n",
       "      <th>6</th>\n",
       "      <td>0.206500</td>\n",
       "      <td>0.206500</td>\n",
       "      <td>0.000000</td>\n",
       "      <td>[0.0905549973, inf]</td>\n",
       "    </tr>\n",
       "    <tr>\n",
       "      <th>5</th>\n",
       "      <td>0.245800</td>\n",
       "      <td>0.245800</td>\n",
       "      <td>0.000000</td>\n",
       "      <td>[0.0716750026, inf]</td>\n",
       "    </tr>\n",
       "    <tr>\n",
       "      <th>4</th>\n",
       "      <td>0.097400</td>\n",
       "      <td>0.097400</td>\n",
       "      <td>0.000000</td>\n",
       "      <td>[-inf, inf]</td>\n",
       "    </tr>\n",
       "    <tr>\n",
       "      <th>3</th>\n",
       "      <td>1123.000000</td>\n",
       "      <td>1123.000000</td>\n",
       "      <td>0.000000</td>\n",
       "      <td>[696.25, inf]</td>\n",
       "    </tr>\n",
       "    <tr>\n",
       "      <th>29</th>\n",
       "      <td>0.102300</td>\n",
       "      <td>0.102300</td>\n",
       "      <td>0.000000</td>\n",
       "      <td>[-inf, inf]</td>\n",
       "    </tr>\n",
       "  </tbody>\n",
       "</table>\n",
       "</div>"
      ],
      "text/plain": [
       "              0            1   diff(%)                         bound\n",
       "28     0.317600     0.210089  0.338510    [0.199349999, 0.210099995]\n",
       "23  1332.000000   884.537238  0.335933      [871.799988, 884.549988]\n",
       "21    29.940000    20.043360  0.330549      [18.4049988, 20.0450001]\n",
       "1     24.800000    16.609116  0.330278      [15.7250004, 16.6100006]\n",
       "10     0.955500     0.643041  0.327011    [0.583999991, 0.643100023]\n",
       "20    20.960000    14.415570  0.312234            [-inf, 14.4300003]\n",
       "22   151.700000   105.946097  0.301608      [102.050003, 105.949997]\n",
       "26     0.363900     0.260458  0.284261    [0.218050003, 0.260500014]\n",
       "2    132.400000   102.147750  0.228491                [-inf, 102.25]\n",
       "0     19.170000    14.965020  0.219352            [-inf, 14.9799995]\n",
       "7      0.111800     0.090986  0.186169  [0.0723399967, 0.0910049975]\n",
       "27     0.176700     0.150747  0.146876    [0.147700012, 0.150749996]\n",
       "19     0.012840     0.012840  0.000000          [0.00258099986, inf]\n",
       "24     0.103700     0.103700  0.000000               [-inf, 0.10475]\n",
       "17     0.040900     0.040900  0.000000                   [-inf, inf]\n",
       "25     0.390300     0.390300  0.000000            [0.175749987, inf]\n",
       "18     0.044840     0.044840  0.000000           [0.0157749988, inf]\n",
       "15     0.082970     0.082970  0.000000               [0.019545, inf]\n",
       "16     0.088900     0.088900  0.000000           [0.0124549996, inf]\n",
       "14     0.003139     0.003139  0.000000         [-inf, 0.00332299992]\n",
       "13   116.200000   116.200000  0.000000             [48.9749985, inf]\n",
       "12    11.070000    11.070000  0.000000             [4.11849976, inf]\n",
       "11     3.568000     3.568000  0.000000                   [-inf, inf]\n",
       "9      0.078000     0.078000  0.000000           [0.0566800013, inf]\n",
       "8      0.239700     0.239700  0.000000                   [-inf, inf]\n",
       "6      0.206500     0.206500  0.000000           [0.0905549973, inf]\n",
       "5      0.245800     0.245800  0.000000           [0.0716750026, inf]\n",
       "4      0.097400     0.097400  0.000000                   [-inf, inf]\n",
       "3   1123.000000  1123.000000  0.000000                 [696.25, inf]\n",
       "29     0.102300     0.102300  0.000000                   [-inf, inf]"
      ]
     },
     "execution_count": 15,
     "metadata": {},
     "output_type": "execute_result"
    }
   ],
   "source": [
    "compare.sort_values(by=[\"diff(%)\"], ascending=False)"
   ]
  },
  {
   "cell_type": "markdown",
   "metadata": {},
   "source": [
    "# Hard Attack"
   ]
  },
  {
   "cell_type": "markdown",
   "metadata": {},
   "source": [
    "## weight distribution"
   ]
  },
  {
   "cell_type": "code",
   "execution_count": 16,
   "metadata": {},
   "outputs": [
    {
     "data": {
      "text/plain": [
       "(-0.194285721, 0.190977439)"
      ]
     },
     "execution_count": 16,
     "metadata": {},
     "output_type": "execute_result"
    }
   ],
   "source": [
    "w = np.asarray([v for k,v in c_weights.items()])\n",
    "w.min(), w.max()"
   ]
  },
  {
   "cell_type": "code",
   "execution_count": 17,
   "metadata": {},
   "outputs": [
    {
     "data": {
      "text/plain": [
       "(array([ 3., 11., 52., 34., 67., 49., 53., 45., 10.,  3.]),\n",
       " array([-0.19428572, -0.1557594 , -0.11723309, -0.07870677, -0.04018046,\n",
       "        -0.00165414,  0.03687217,  0.07539849,  0.11392481,  0.15245112,\n",
       "         0.19097744]),\n",
       " <a list of 10 Patch objects>)"
      ]
     },
     "execution_count": 17,
     "metadata": {},
     "output_type": "execute_result"
    },
    {
     "data": {
      "image/png": "[encoded data removed]",
      "text/plain": [
       "<Figure size 432x288 with 1 Axes>"
      ]
     },
     "metadata": {
      "needs_background": "light"
     },
     "output_type": "display_data"
    }
   ],
   "source": [
    "plt.hist(w)"
   ]
  },
  {
   "cell_type": "markdown",
   "metadata": {},
   "source": [
    "## Attacking sample"
   ]
  },
  {
   "cell_type": "code",
   "execution_count": 18,
   "metadata": {},
   "outputs": [],
   "source": [
    "epsilon = 0.34\n",
    "index = 12\n",
    "\n",
    "nbits = 8\n",
    "sample = X[index:index+1, :]"
   ]
  },
  {
   "cell_type": "code",
   "execution_count": 19,
   "metadata": {},
   "outputs": [
    {
     "name": "stdout",
     "output_type": "stream",
     "text": [
      "False\n",
      "sat\n"
     ]
    }
   ],
   "source": [
    "s, c_weights, seq_nump, seq_numn = hard_attack(clf, sample, epsilon, var_x, nbits)"
   ]
  },
  {
   "cell_type": "code",
   "execution_count": 20,
   "metadata": {},
   "outputs": [
    {
     "data": {
      "text/plain": [
       "0.0124900825"
      ]
     },
     "execution_count": 20,
     "metadata": {},
     "output_type": "execute_result"
    }
   ],
   "source": [
    "clf.predict_proba(sample)[0][1]"
   ]
  },
  {
   "cell_type": "code",
   "execution_count": 21,
   "metadata": {},
   "outputs": [
    {
     "data": {
      "text/plain": [
       "0.6414845597690458"
      ]
     },
     "execution_count": 21,
     "metadata": {},
     "output_type": "execute_result"
    }
   ],
   "source": [
    "adv_weights = get_output(s, c_weights)\n",
    "val = np.sum([v for k, v in adv_weights.items()])\n",
    "1 / (1 + np.exp(-val))"
   ]
  },
  {
   "cell_type": "code",
   "execution_count": 22,
   "metadata": {},
   "outputs": [
    {
     "data": {
      "text/plain": [
       "0.64148456"
      ]
     },
     "execution_count": 22,
     "metadata": {},
     "output_type": "execute_result"
    }
   ],
   "source": [
    "x_adv, x_adv_sample, compare = get_x_adv(s, var_x, sample)\n",
    "clf.predict_proba(x_adv_sample)[0][1]"
   ]
  },
  {
   "cell_type": "code",
   "execution_count": 23,
   "metadata": {},
   "outputs": [
    {
     "data": {
      "text/html": [
       "<div>\n",
       "<style scoped>\n",
       "    .dataframe tbody tr th:only-of-type {\n",
       "        vertical-align: middle;\n",
       "    }\n",
       "\n",
       "    .dataframe tbody tr th {\n",
       "        vertical-align: top;\n",
       "    }\n",
       "\n",
       "    .dataframe thead th {\n",
       "        text-align: right;\n",
       "    }\n",
       "</style>\n",
       "<table border=\"1\" class=\"dataframe\">\n",
       "  <thead>\n",
       "    <tr style=\"text-align: right;\">\n",
       "      <th></th>\n",
       "      <th>0</th>\n",
       "      <th>1</th>\n",
       "      <th>diff(%)</th>\n",
       "      <th>bound</th>\n",
       "    </tr>\n",
       "  </thead>\n",
       "  <tbody>\n",
       "    <tr>\n",
       "      <th>23</th>\n",
       "      <td>1332.000000</td>\n",
       "      <td>884.537238</td>\n",
       "      <td>0.335933</td>\n",
       "      <td>[871.799988, 884.549988]</td>\n",
       "    </tr>\n",
       "    <tr>\n",
       "      <th>21</th>\n",
       "      <td>29.940000</td>\n",
       "      <td>20.043360</td>\n",
       "      <td>0.330549</td>\n",
       "      <td>[18.4049988, 20.0450001]</td>\n",
       "    </tr>\n",
       "    <tr>\n",
       "      <th>1</th>\n",
       "      <td>24.800000</td>\n",
       "      <td>16.609116</td>\n",
       "      <td>0.330278</td>\n",
       "      <td>[15.7250004, 16.6100006]</td>\n",
       "    </tr>\n",
       "    <tr>\n",
       "      <th>26</th>\n",
       "      <td>0.363900</td>\n",
       "      <td>0.260458</td>\n",
       "      <td>0.284261</td>\n",
       "      <td>[0.218050003, 0.260500014]</td>\n",
       "    </tr>\n",
       "    <tr>\n",
       "      <th>22</th>\n",
       "      <td>151.700000</td>\n",
       "      <td>114.441497</td>\n",
       "      <td>0.245606</td>\n",
       "      <td>[105.949997, 114.449997]</td>\n",
       "    </tr>\n",
       "    <tr>\n",
       "      <th>27</th>\n",
       "      <td>0.176700</td>\n",
       "      <td>0.135026</td>\n",
       "      <td>0.235846</td>\n",
       "      <td>[0.111000001, 0.135049999]</td>\n",
       "    </tr>\n",
       "    <tr>\n",
       "      <th>2</th>\n",
       "      <td>132.400000</td>\n",
       "      <td>102.147750</td>\n",
       "      <td>0.228491</td>\n",
       "      <td>[-inf, 102.25]</td>\n",
       "    </tr>\n",
       "    <tr>\n",
       "      <th>7</th>\n",
       "      <td>0.111800</td>\n",
       "      <td>0.090986</td>\n",
       "      <td>0.186169</td>\n",
       "      <td>[0.0723399967, 0.0910049975]</td>\n",
       "    </tr>\n",
       "    <tr>\n",
       "      <th>0</th>\n",
       "      <td>19.170000</td>\n",
       "      <td>15.859125</td>\n",
       "      <td>0.172711</td>\n",
       "      <td>[-inf, 15.875]</td>\n",
       "    </tr>\n",
       "    <tr>\n",
       "      <th>28</th>\n",
       "      <td>0.317600</td>\n",
       "      <td>0.269380</td>\n",
       "      <td>0.151826</td>\n",
       "      <td>[0.199349999, 0.269450009]</td>\n",
       "    </tr>\n",
       "    <tr>\n",
       "      <th>14</th>\n",
       "      <td>0.003139</td>\n",
       "      <td>0.003326</td>\n",
       "      <td>0.059575</td>\n",
       "      <td>[0.00332299992, 0.006329]</td>\n",
       "    </tr>\n",
       "    <tr>\n",
       "      <th>24</th>\n",
       "      <td>0.103700</td>\n",
       "      <td>0.109176</td>\n",
       "      <td>0.052807</td>\n",
       "      <td>[0.10915, 0.135199994]</td>\n",
       "    </tr>\n",
       "    <tr>\n",
       "      <th>20</th>\n",
       "      <td>20.960000</td>\n",
       "      <td>20.960000</td>\n",
       "      <td>0.000000</td>\n",
       "      <td>[17.2550011, inf]</td>\n",
       "    </tr>\n",
       "    <tr>\n",
       "      <th>19</th>\n",
       "      <td>0.012840</td>\n",
       "      <td>0.012840</td>\n",
       "      <td>0.000000</td>\n",
       "      <td>[0.00258099986, inf]</td>\n",
       "    </tr>\n",
       "    <tr>\n",
       "      <th>17</th>\n",
       "      <td>0.040900</td>\n",
       "      <td>0.040900</td>\n",
       "      <td>0.000000</td>\n",
       "      <td>[-inf, inf]</td>\n",
       "    </tr>\n",
       "    <tr>\n",
       "      <th>25</th>\n",
       "      <td>0.390300</td>\n",
       "      <td>0.390300</td>\n",
       "      <td>0.000000</td>\n",
       "      <td>[0.175749987, inf]</td>\n",
       "    </tr>\n",
       "    <tr>\n",
       "      <th>18</th>\n",
       "      <td>0.044840</td>\n",
       "      <td>0.044840</td>\n",
       "      <td>0.000000</td>\n",
       "      <td>[0.0157749988, inf]</td>\n",
       "    </tr>\n",
       "    <tr>\n",
       "      <th>15</th>\n",
       "      <td>0.082970</td>\n",
       "      <td>0.082970</td>\n",
       "      <td>0.000000</td>\n",
       "      <td>[0.019545, inf]</td>\n",
       "    </tr>\n",
       "    <tr>\n",
       "      <th>16</th>\n",
       "      <td>0.088900</td>\n",
       "      <td>0.088900</td>\n",
       "      <td>0.000000</td>\n",
       "      <td>[0.0124549996, inf]</td>\n",
       "    </tr>\n",
       "    <tr>\n",
       "      <th>13</th>\n",
       "      <td>116.200000</td>\n",
       "      <td>116.200000</td>\n",
       "      <td>0.000000</td>\n",
       "      <td>[48.9749985, inf]</td>\n",
       "    </tr>\n",
       "    <tr>\n",
       "      <th>12</th>\n",
       "      <td>11.070000</td>\n",
       "      <td>11.070000</td>\n",
       "      <td>0.000000</td>\n",
       "      <td>[4.11849976, inf]</td>\n",
       "    </tr>\n",
       "    <tr>\n",
       "      <th>11</th>\n",
       "      <td>3.568000</td>\n",
       "      <td>3.568000</td>\n",
       "      <td>0.000000</td>\n",
       "      <td>[-inf, inf]</td>\n",
       "    </tr>\n",
       "    <tr>\n",
       "      <th>10</th>\n",
       "      <td>0.955500</td>\n",
       "      <td>0.955500</td>\n",
       "      <td>0.000000</td>\n",
       "      <td>[0.583999991, inf]</td>\n",
       "    </tr>\n",
       "    <tr>\n",
       "      <th>9</th>\n",
       "      <td>0.078000</td>\n",
       "      <td>0.078000</td>\n",
       "      <td>0.000000</td>\n",
       "      <td>[0.0566800013, inf]</td>\n",
       "    </tr>\n",
       "    <tr>\n",
       "      <th>8</th>\n",
       "      <td>0.239700</td>\n",
       "      <td>0.239700</td>\n",
       "      <td>0.000000</td>\n",
       "      <td>[-inf, inf]</td>\n",
       "    </tr>\n",
       "    <tr>\n",
       "      <th>6</th>\n",
       "      <td>0.206500</td>\n",
       "      <td>0.206500</td>\n",
       "      <td>0.000000</td>\n",
       "      <td>[0.0905549973, inf]</td>\n",
       "    </tr>\n",
       "    <tr>\n",
       "      <th>5</th>\n",
       "      <td>0.245800</td>\n",
       "      <td>0.245800</td>\n",
       "      <td>0.000000</td>\n",
       "      <td>[0.0716750026, inf]</td>\n",
       "    </tr>\n",
       "    <tr>\n",
       "      <th>4</th>\n",
       "      <td>0.097400</td>\n",
       "      <td>0.097400</td>\n",
       "      <td>0.000000</td>\n",
       "      <td>[-inf, inf]</td>\n",
       "    </tr>\n",
       "    <tr>\n",
       "      <th>3</th>\n",
       "      <td>1123.000000</td>\n",
       "      <td>1123.000000</td>\n",
       "      <td>0.000000</td>\n",
       "      <td>[696.25, inf]</td>\n",
       "    </tr>\n",
       "    <tr>\n",
       "      <th>29</th>\n",
       "      <td>0.102300</td>\n",
       "      <td>0.102300</td>\n",
       "      <td>0.000000</td>\n",
       "      <td>[-inf, inf]</td>\n",
       "    </tr>\n",
       "  </tbody>\n",
       "</table>\n",
       "</div>"
      ],
      "text/plain": [
       "              0            1   diff(%)                         bound\n",
       "23  1332.000000   884.537238  0.335933      [871.799988, 884.549988]\n",
       "21    29.940000    20.043360  0.330549      [18.4049988, 20.0450001]\n",
       "1     24.800000    16.609116  0.330278      [15.7250004, 16.6100006]\n",
       "26     0.363900     0.260458  0.284261    [0.218050003, 0.260500014]\n",
       "22   151.700000   114.441497  0.245606      [105.949997, 114.449997]\n",
       "27     0.176700     0.135026  0.235846    [0.111000001, 0.135049999]\n",
       "2    132.400000   102.147750  0.228491                [-inf, 102.25]\n",
       "7      0.111800     0.090986  0.186169  [0.0723399967, 0.0910049975]\n",
       "0     19.170000    15.859125  0.172711                [-inf, 15.875]\n",
       "28     0.317600     0.269380  0.151826    [0.199349999, 0.269450009]\n",
       "14     0.003139     0.003326  0.059575     [0.00332299992, 0.006329]\n",
       "24     0.103700     0.109176  0.052807        [0.10915, 0.135199994]\n",
       "20    20.960000    20.960000  0.000000             [17.2550011, inf]\n",
       "19     0.012840     0.012840  0.000000          [0.00258099986, inf]\n",
       "17     0.040900     0.040900  0.000000                   [-inf, inf]\n",
       "25     0.390300     0.390300  0.000000            [0.175749987, inf]\n",
       "18     0.044840     0.044840  0.000000           [0.0157749988, inf]\n",
       "15     0.082970     0.082970  0.000000               [0.019545, inf]\n",
       "16     0.088900     0.088900  0.000000           [0.0124549996, inf]\n",
       "13   116.200000   116.200000  0.000000             [48.9749985, inf]\n",
       "12    11.070000    11.070000  0.000000             [4.11849976, inf]\n",
       "11     3.568000     3.568000  0.000000                   [-inf, inf]\n",
       "10     0.955500     0.955500  0.000000            [0.583999991, inf]\n",
       "9      0.078000     0.078000  0.000000           [0.0566800013, inf]\n",
       "8      0.239700     0.239700  0.000000                   [-inf, inf]\n",
       "6      0.206500     0.206500  0.000000           [0.0905549973, inf]\n",
       "5      0.245800     0.245800  0.000000           [0.0716750026, inf]\n",
       "4      0.097400     0.097400  0.000000                   [-inf, inf]\n",
       "3   1123.000000  1123.000000  0.000000                 [696.25, inf]\n",
       "29     0.102300     0.102300  0.000000                   [-inf, inf]"
      ]
     },
     "execution_count": 23,
     "metadata": {},
     "output_type": "execute_result"
    }
   ],
   "source": [
    "compare.sort_values(by=[\"diff(%)\"], ascending=False)"
   ]
  }
 ],
 "metadata": {
  "kernelspec": {
   "display_name": "Python 3",
   "language": "python",
   "name": "python3"
  },
  "language_info": {
   "codemirror_mode": {
    "name": "ipython",
    "version": 3
   },
   "file_extension": ".py",
   "mimetype": "text/x-python",
   "name": "python",
   "nbconvert_exporter": "python",
   "pygments_lexer": "ipython3",
   "version": "3.7.6"
  }
 },
 "nbformat": 4,
 "nbformat_minor": 4
}
