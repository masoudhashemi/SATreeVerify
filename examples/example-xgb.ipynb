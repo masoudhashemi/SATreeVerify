{
 "cells": [
  {
   "cell_type": "code",
   "execution_count": 1,
   "metadata": {},
   "outputs": [],
   "source": [
    "import sys\n",
    "sys.path.append(\"..\")"
   ]
  },
  {
   "cell_type": "code",
   "execution_count": 2,
   "metadata": {},
   "outputs": [
    {
     "name": "stderr",
     "output_type": "stream",
     "text": [
      "/home/masoud/anaconda3/lib/python3.8/site-packages/xgboost/compat.py:31: FutureWarning: pandas.Int64Index is deprecated and will be removed from pandas in a future version. Use pandas.Index with the appropriate dtype instead.\n",
      "  from pandas import MultiIndex, Int64Index\n"
     ]
    }
   ],
   "source": [
    "from sklearn.datasets import load_breast_cancer\n",
    "from sklearn.model_selection import train_test_split\n",
    "import numpy as np\n",
    "import pandas as pd\n",
    "from matplotlib import pyplot as plt\n",
    "import xgboost\n",
    "from satreeverify.xgb_utils import *\n",
    "from satreeverify.utils import disc_data, get_x_adv"
   ]
  },
  {
   "cell_type": "markdown",
   "metadata": {},
   "source": [
    "# Train a XGBoost model"
   ]
  },
  {
   "cell_type": "code",
   "execution_count": 3,
   "metadata": {},
   "outputs": [],
   "source": [
    "data = load_breast_cancer()\n",
    "X = data['data']\n",
    "y = data[\"target\"]\n",
    "feature_names = data[\"feature_names\"]\n",
    "y = y==1"
   ]
  },
  {
   "cell_type": "code",
   "execution_count": 4,
   "metadata": {},
   "outputs": [],
   "source": [
    "x_train, x_test, y_train, y_test = train_test_split(X, y, test_size=0.2)"
   ]
  },
  {
   "cell_type": "code",
   "execution_count": 5,
   "metadata": {},
   "outputs": [
    {
     "name": "stderr",
     "output_type": "stream",
     "text": [
      "/home/masoud/anaconda3/lib/python3.8/site-packages/xgboost/sklearn.py:888: UserWarning: The use of label encoder in XGBClassifier is deprecated and will be removed in a future release. To remove this warning, do the following: 1) Pass option use_label_encoder=False when constructing XGBClassifier object; and 2) Encode your labels (y) as integers starting with 0, i.e. 0, 1, 2, ..., [num_class - 1].\n",
      "  warnings.warn(label_encoder_deprecation_msg, UserWarning)\n"
     ]
    },
    {
     "name": "stdout",
     "output_type": "stream",
     "text": [
      "[13:29:30] WARNING: ../src/learner.cc:1061: Starting in XGBoost 1.3.0, the default evaluation metric used with the objective 'binary:logistic' was changed from 'error' to 'logloss'. Explicitly set eval_metric if you'd like to restore the old behavior.\n"
     ]
    },
    {
     "data": {
      "text/plain": [
       "0.9649122807017544"
      ]
     },
     "execution_count": 5,
     "metadata": {},
     "output_type": "execute_result"
    }
   ],
   "source": [
    "ntrees = 50\n",
    "clf = xgboost.XGBClassifier(n_estimators=ntrees, max_depth=3).fit(x_train, y_train)\n",
    "clf.score(x_test, y_test)"
   ]
  },
  {
   "cell_type": "markdown",
   "metadata": {},
   "source": [
    "# Discretize the input data"
   ]
  },
  {
   "cell_type": "code",
   "execution_count": 6,
   "metadata": {},
   "outputs": [
    {
     "name": "stdout",
     "output_type": "stream",
     "text": [
      "(2, 124)\n"
     ]
    },
    {
     "data": {
      "text/html": [
       "<div>\n",
       "<style scoped>\n",
       "    .dataframe tbody tr th:only-of-type {\n",
       "        vertical-align: middle;\n",
       "    }\n",
       "\n",
       "    .dataframe tbody tr th {\n",
       "        vertical-align: top;\n",
       "    }\n",
       "\n",
       "    .dataframe thead th {\n",
       "        text-align: right;\n",
       "    }\n",
       "</style>\n",
       "<table border=\"1\" class=\"dataframe\">\n",
       "  <thead>\n",
       "    <tr style=\"text-align: right;\">\n",
       "      <th></th>\n",
       "      <th>27_0.14199999</th>\n",
       "      <th>28_0.296299994</th>\n",
       "      <th>1_19.8299999</th>\n",
       "      <th>1_19.7900009</th>\n",
       "      <th>25_0.1479</th>\n",
       "      <th>3_696.25</th>\n",
       "      <th>4_0.0887549967</th>\n",
       "      <th>6_0.0971300006</th>\n",
       "      <th>27_0.0922899991</th>\n",
       "      <th>26_0.320749998</th>\n",
       "      <th>...</th>\n",
       "      <th>28_0.289849997</th>\n",
       "      <th>20_14.8549995</th>\n",
       "      <th>13_40.2200012</th>\n",
       "      <th>26_0.190699995</th>\n",
       "      <th>3_694.5</th>\n",
       "      <th>21_26.2750015</th>\n",
       "      <th>1_20.2999992</th>\n",
       "      <th>13_33.0049973</th>\n",
       "      <th>18_0.0146249998</th>\n",
       "      <th>1_16.6100006</th>\n",
       "    </tr>\n",
       "  </thead>\n",
       "  <tbody>\n",
       "    <tr>\n",
       "      <th>0</th>\n",
       "      <td>False</td>\n",
       "      <td>True</td>\n",
       "      <td>False</td>\n",
       "      <td>False</td>\n",
       "      <td>True</td>\n",
       "      <td>False</td>\n",
       "      <td>True</td>\n",
       "      <td>False</td>\n",
       "      <td>False</td>\n",
       "      <td>False</td>\n",
       "      <td>...</td>\n",
       "      <td>True</td>\n",
       "      <td>True</td>\n",
       "      <td>False</td>\n",
       "      <td>True</td>\n",
       "      <td>False</td>\n",
       "      <td>False</td>\n",
       "      <td>False</td>\n",
       "      <td>False</td>\n",
       "      <td>True</td>\n",
       "      <td>False</td>\n",
       "    </tr>\n",
       "    <tr>\n",
       "      <th>1</th>\n",
       "      <td>False</td>\n",
       "      <td>False</td>\n",
       "      <td>False</td>\n",
       "      <td>False</td>\n",
       "      <td>True</td>\n",
       "      <td>False</td>\n",
       "      <td>True</td>\n",
       "      <td>False</td>\n",
       "      <td>True</td>\n",
       "      <td>False</td>\n",
       "      <td>...</td>\n",
       "      <td>False</td>\n",
       "      <td>False</td>\n",
       "      <td>False</td>\n",
       "      <td>False</td>\n",
       "      <td>False</td>\n",
       "      <td>False</td>\n",
       "      <td>False</td>\n",
       "      <td>False</td>\n",
       "      <td>False</td>\n",
       "      <td>False</td>\n",
       "    </tr>\n",
       "  </tbody>\n",
       "</table>\n",
       "<p>2 rows × 124 columns</p>\n",
       "</div>"
      ],
      "text/plain": [
       "   27_0.14199999  28_0.296299994  1_19.8299999  1_19.7900009  25_0.1479  \\\n",
       "0          False            True         False         False       True   \n",
       "1          False           False         False         False       True   \n",
       "\n",
       "   3_696.25  4_0.0887549967  6_0.0971300006  27_0.0922899991  26_0.320749998  \\\n",
       "0     False            True           False            False           False   \n",
       "1     False            True           False             True           False   \n",
       "\n",
       "   ...  28_0.289849997  20_14.8549995  13_40.2200012  26_0.190699995  3_694.5  \\\n",
       "0  ...            True           True          False            True    False   \n",
       "1  ...           False          False          False           False    False   \n",
       "\n",
       "   21_26.2750015  1_20.2999992  13_33.0049973  18_0.0146249998  1_16.6100006  \n",
       "0          False         False          False             True         False  \n",
       "1          False         False          False            False         False  \n",
       "\n",
       "[2 rows x 124 columns]"
      ]
     },
     "execution_count": 6,
     "metadata": {},
     "output_type": "execute_result"
    }
   ],
   "source": [
    "dump = clf.get_booster().get_dump(dump_format=\"json\")\n",
    "all_thresh = get_ens_thresh(dump)\n",
    "data_ = disc_data(x_train[:2,:], all_thresh)\n",
    "print(data_.shape)\n",
    "data_.head()"
   ]
  },
  {
   "cell_type": "code",
   "execution_count": 7,
   "metadata": {},
   "outputs": [],
   "source": [
    "var_x = {f\"x({i})\": Bool(f\"x({i})\") for i in data_.columns}"
   ]
  },
  {
   "cell_type": "markdown",
   "metadata": {},
   "source": [
    "# Soft Attack\n",
    "Solving the model using MAX-SAT"
   ]
  },
  {
   "cell_type": "code",
   "execution_count": 8,
   "metadata": {},
   "outputs": [
    {
     "data": {
      "text/plain": [
       "array([[9.9902135e-01, 9.7863900e-04]], dtype=float32)"
      ]
     },
     "execution_count": 8,
     "metadata": {},
     "output_type": "execute_result"
    }
   ],
   "source": [
    "epsilon = 0.34\n",
    "index = 12\n",
    "\n",
    "sample = X[index:index+1, :]\n",
    "clf.predict_proba(sample)"
   ]
  },
  {
   "cell_type": "code",
   "execution_count": 9,
   "metadata": {},
   "outputs": [],
   "source": [
    "s, c_weights = soft_attack(clf, sample, epsilon, var_x)"
   ]
  },
  {
   "cell_type": "code",
   "execution_count": 10,
   "metadata": {},
   "outputs": [
    {
     "data": {
      "text/plain": [
       "0.7277125439015879"
      ]
     },
     "execution_count": 10,
     "metadata": {},
     "output_type": "execute_result"
    }
   ],
   "source": [
    "adv_weights = get_output(s, c_weights)\n",
    "1 / (1 + np.exp(-np.sum([v for k, v in adv_weights.items()])))"
   ]
  },
  {
   "cell_type": "code",
   "execution_count": 11,
   "metadata": {},
   "outputs": [
    {
     "data": {
      "text/plain": [
       "0.000978639"
      ]
     },
     "execution_count": 11,
     "metadata": {},
     "output_type": "execute_result"
    }
   ],
   "source": [
    "clf.predict_proba(sample)[0][1]"
   ]
  },
  {
   "cell_type": "code",
   "execution_count": 12,
   "metadata": {},
   "outputs": [
    {
     "data": {
      "text/plain": [
       "0.7277125"
      ]
     },
     "execution_count": 12,
     "metadata": {},
     "output_type": "execute_result"
    }
   ],
   "source": [
    "x_adv, x_adv_sample, compare = get_x_adv(s, var_x, sample)\n",
    "clf.predict_proba(x_adv_sample)[0][1]"
   ]
  },
  {
   "cell_type": "markdown",
   "metadata": {},
   "source": [
    "- x_adv is the SAT results\n",
    "- x_adv_sample is the x_adv transformed to the original input space\n",
    "- compare is a pandas dataframe that compares the original input and the x_adv_sample"
   ]
  },
  {
   "cell_type": "code",
   "execution_count": 13,
   "metadata": {},
   "outputs": [
    {
     "data": {
      "text/html": [
       "<div>\n",
       "<style scoped>\n",
       "    .dataframe tbody tr th:only-of-type {\n",
       "        vertical-align: middle;\n",
       "    }\n",
       "\n",
       "    .dataframe tbody tr th {\n",
       "        vertical-align: top;\n",
       "    }\n",
       "\n",
       "    .dataframe thead th {\n",
       "        text-align: right;\n",
       "    }\n",
       "</style>\n",
       "<table border=\"1\" class=\"dataframe\">\n",
       "  <thead>\n",
       "    <tr style=\"text-align: right;\">\n",
       "      <th></th>\n",
       "      <th>0</th>\n",
       "      <th>1</th>\n",
       "      <th>diff(%)</th>\n",
       "      <th>bound</th>\n",
       "    </tr>\n",
       "  </thead>\n",
       "  <tbody>\n",
       "    <tr>\n",
       "      <th>23</th>\n",
       "      <td>1332.000000</td>\n",
       "      <td>884.524638</td>\n",
       "      <td>0.335942</td>\n",
       "      <td>[859.200012, 884.549988]</td>\n",
       "    </tr>\n",
       "    <tr>\n",
       "      <th>1</th>\n",
       "      <td>24.800000</td>\n",
       "      <td>16.593391</td>\n",
       "      <td>0.330912</td>\n",
       "      <td>[-inf, 16.6100006]</td>\n",
       "    </tr>\n",
       "    <tr>\n",
       "      <th>22</th>\n",
       "      <td>151.700000</td>\n",
       "      <td>101.640039</td>\n",
       "      <td>0.329993</td>\n",
       "      <td>[91.6949997, 101.649994]</td>\n",
       "    </tr>\n",
       "    <tr>\n",
       "      <th>26</th>\n",
       "      <td>0.363900</td>\n",
       "      <td>0.257466</td>\n",
       "      <td>0.292482</td>\n",
       "      <td>[0.223450005, 0.257499993]</td>\n",
       "    </tr>\n",
       "    <tr>\n",
       "      <th>27</th>\n",
       "      <td>0.176700</td>\n",
       "      <td>0.135776</td>\n",
       "      <td>0.231601</td>\n",
       "      <td>[0.111950003, 0.135800004]</td>\n",
       "    </tr>\n",
       "    <tr>\n",
       "      <th>20</th>\n",
       "      <td>20.960000</td>\n",
       "      <td>16.373480</td>\n",
       "      <td>0.218823</td>\n",
       "      <td>[14.8549995, 16.375]</td>\n",
       "    </tr>\n",
       "    <tr>\n",
       "      <th>9</th>\n",
       "      <td>0.078000</td>\n",
       "      <td>0.061464</td>\n",
       "      <td>0.211996</td>\n",
       "      <td>[0.0607799999, 0.0614649989]</td>\n",
       "    </tr>\n",
       "    <tr>\n",
       "      <th>21</th>\n",
       "      <td>29.940000</td>\n",
       "      <td>25.513224</td>\n",
       "      <td>0.147855</td>\n",
       "      <td>[23.7399998, 25.5149994]</td>\n",
       "    </tr>\n",
       "    <tr>\n",
       "      <th>28</th>\n",
       "      <td>0.317600</td>\n",
       "      <td>0.280642</td>\n",
       "      <td>0.116366</td>\n",
       "      <td>[0.27275002, 0.28065002]</td>\n",
       "    </tr>\n",
       "    <tr>\n",
       "      <th>4</th>\n",
       "      <td>0.097400</td>\n",
       "      <td>0.087557</td>\n",
       "      <td>0.101054</td>\n",
       "      <td>[-inf, 0.0876449943]</td>\n",
       "    </tr>\n",
       "    <tr>\n",
       "      <th>0</th>\n",
       "      <td>19.170000</td>\n",
       "      <td>19.170000</td>\n",
       "      <td>0.000000</td>\n",
       "      <td>[-inf, inf]</td>\n",
       "    </tr>\n",
       "    <tr>\n",
       "      <th>17</th>\n",
       "      <td>0.040900</td>\n",
       "      <td>0.040900</td>\n",
       "      <td>0.000000</td>\n",
       "      <td>[-inf, inf]</td>\n",
       "    </tr>\n",
       "    <tr>\n",
       "      <th>25</th>\n",
       "      <td>0.390300</td>\n",
       "      <td>0.390300</td>\n",
       "      <td>0.000000</td>\n",
       "      <td>[0.175749987, inf]</td>\n",
       "    </tr>\n",
       "    <tr>\n",
       "      <th>24</th>\n",
       "      <td>0.103700</td>\n",
       "      <td>0.103700</td>\n",
       "      <td>0.000000</td>\n",
       "      <td>[-inf, 0.135549992]</td>\n",
       "    </tr>\n",
       "    <tr>\n",
       "      <th>19</th>\n",
       "      <td>0.012840</td>\n",
       "      <td>0.012840</td>\n",
       "      <td>0.000000</td>\n",
       "      <td>[0.00332050002, inf]</td>\n",
       "    </tr>\n",
       "    <tr>\n",
       "      <th>18</th>\n",
       "      <td>0.044840</td>\n",
       "      <td>0.044840</td>\n",
       "      <td>0.000000</td>\n",
       "      <td>[0.0180700012, inf]</td>\n",
       "    </tr>\n",
       "    <tr>\n",
       "      <th>15</th>\n",
       "      <td>0.082970</td>\n",
       "      <td>0.082970</td>\n",
       "      <td>0.000000</td>\n",
       "      <td>[0.0265749991, inf]</td>\n",
       "    </tr>\n",
       "    <tr>\n",
       "      <th>16</th>\n",
       "      <td>0.088900</td>\n",
       "      <td>0.088900</td>\n",
       "      <td>0.000000</td>\n",
       "      <td>[-inf, inf]</td>\n",
       "    </tr>\n",
       "    <tr>\n",
       "      <th>14</th>\n",
       "      <td>0.003139</td>\n",
       "      <td>0.003139</td>\n",
       "      <td>0.000000</td>\n",
       "      <td>[-inf, 0.00544300023]</td>\n",
       "    </tr>\n",
       "    <tr>\n",
       "      <th>13</th>\n",
       "      <td>116.200000</td>\n",
       "      <td>116.200000</td>\n",
       "      <td>0.000000</td>\n",
       "      <td>[40.2200012, inf]</td>\n",
       "    </tr>\n",
       "    <tr>\n",
       "      <th>12</th>\n",
       "      <td>11.070000</td>\n",
       "      <td>11.070000</td>\n",
       "      <td>0.000000</td>\n",
       "      <td>[-inf, inf]</td>\n",
       "    </tr>\n",
       "    <tr>\n",
       "      <th>11</th>\n",
       "      <td>3.568000</td>\n",
       "      <td>3.568000</td>\n",
       "      <td>0.000000</td>\n",
       "      <td>[-inf, inf]</td>\n",
       "    </tr>\n",
       "    <tr>\n",
       "      <th>10</th>\n",
       "      <td>0.955500</td>\n",
       "      <td>0.955500</td>\n",
       "      <td>0.000000</td>\n",
       "      <td>[0.379050016, inf]</td>\n",
       "    </tr>\n",
       "    <tr>\n",
       "      <th>8</th>\n",
       "      <td>0.239700</td>\n",
       "      <td>0.239700</td>\n",
       "      <td>0.000000</td>\n",
       "      <td>[-inf, inf]</td>\n",
       "    </tr>\n",
       "    <tr>\n",
       "      <th>7</th>\n",
       "      <td>0.111800</td>\n",
       "      <td>0.111800</td>\n",
       "      <td>0.000000</td>\n",
       "      <td>[0.0514199995, inf]</td>\n",
       "    </tr>\n",
       "    <tr>\n",
       "      <th>6</th>\n",
       "      <td>0.206500</td>\n",
       "      <td>0.206500</td>\n",
       "      <td>0.000000</td>\n",
       "      <td>[0.0971300006, inf]</td>\n",
       "    </tr>\n",
       "    <tr>\n",
       "      <th>5</th>\n",
       "      <td>0.245800</td>\n",
       "      <td>0.245800</td>\n",
       "      <td>0.000000</td>\n",
       "      <td>[0.0713849962, inf]</td>\n",
       "    </tr>\n",
       "    <tr>\n",
       "      <th>3</th>\n",
       "      <td>1123.000000</td>\n",
       "      <td>1123.000000</td>\n",
       "      <td>0.000000</td>\n",
       "      <td>[696.25, inf]</td>\n",
       "    </tr>\n",
       "    <tr>\n",
       "      <th>2</th>\n",
       "      <td>132.400000</td>\n",
       "      <td>132.400000</td>\n",
       "      <td>0.000000</td>\n",
       "      <td>[-inf, inf]</td>\n",
       "    </tr>\n",
       "    <tr>\n",
       "      <th>29</th>\n",
       "      <td>0.102300</td>\n",
       "      <td>0.102300</td>\n",
       "      <td>0.000000</td>\n",
       "      <td>[-inf, inf]</td>\n",
       "    </tr>\n",
       "  </tbody>\n",
       "</table>\n",
       "</div>"
      ],
      "text/plain": [
       "              0            1   diff(%)                         bound\n",
       "23  1332.000000   884.524638  0.335942      [859.200012, 884.549988]\n",
       "1     24.800000    16.593391  0.330912            [-inf, 16.6100006]\n",
       "22   151.700000   101.640039  0.329993      [91.6949997, 101.649994]\n",
       "26     0.363900     0.257466  0.292482    [0.223450005, 0.257499993]\n",
       "27     0.176700     0.135776  0.231601    [0.111950003, 0.135800004]\n",
       "20    20.960000    16.373480  0.218823          [14.8549995, 16.375]\n",
       "9      0.078000     0.061464  0.211996  [0.0607799999, 0.0614649989]\n",
       "21    29.940000    25.513224  0.147855      [23.7399998, 25.5149994]\n",
       "28     0.317600     0.280642  0.116366      [0.27275002, 0.28065002]\n",
       "4      0.097400     0.087557  0.101054          [-inf, 0.0876449943]\n",
       "0     19.170000    19.170000  0.000000                   [-inf, inf]\n",
       "17     0.040900     0.040900  0.000000                   [-inf, inf]\n",
       "25     0.390300     0.390300  0.000000            [0.175749987, inf]\n",
       "24     0.103700     0.103700  0.000000           [-inf, 0.135549992]\n",
       "19     0.012840     0.012840  0.000000          [0.00332050002, inf]\n",
       "18     0.044840     0.044840  0.000000           [0.0180700012, inf]\n",
       "15     0.082970     0.082970  0.000000           [0.0265749991, inf]\n",
       "16     0.088900     0.088900  0.000000                   [-inf, inf]\n",
       "14     0.003139     0.003139  0.000000         [-inf, 0.00544300023]\n",
       "13   116.200000   116.200000  0.000000             [40.2200012, inf]\n",
       "12    11.070000    11.070000  0.000000                   [-inf, inf]\n",
       "11     3.568000     3.568000  0.000000                   [-inf, inf]\n",
       "10     0.955500     0.955500  0.000000            [0.379050016, inf]\n",
       "8      0.239700     0.239700  0.000000                   [-inf, inf]\n",
       "7      0.111800     0.111800  0.000000           [0.0514199995, inf]\n",
       "6      0.206500     0.206500  0.000000           [0.0971300006, inf]\n",
       "5      0.245800     0.245800  0.000000           [0.0713849962, inf]\n",
       "3   1123.000000  1123.000000  0.000000                 [696.25, inf]\n",
       "2    132.400000   132.400000  0.000000                   [-inf, inf]\n",
       "29     0.102300     0.102300  0.000000                   [-inf, inf]"
      ]
     },
     "execution_count": 13,
     "metadata": {},
     "output_type": "execute_result"
    }
   ],
   "source": [
    "compare.sort_values(by=[\"diff(%)\"], ascending=False)"
   ]
  },
  {
   "cell_type": "markdown",
   "metadata": {},
   "source": [
    "# Hard Attack\n",
    "\n",
    "Pure SAT solution, by implementing the ensembling logic.\n",
    "\n",
    "In XGBoost we compute the positive and negative weights of the trees."
   ]
  },
  {
   "cell_type": "markdown",
   "metadata": {},
   "source": [
    "## weight distribution"
   ]
  },
  {
   "cell_type": "code",
   "execution_count": 14,
   "metadata": {},
   "outputs": [
    {
     "data": {
      "text/plain": [
       "(-0.582857192, 0.557894766)"
      ]
     },
     "execution_count": 14,
     "metadata": {},
     "output_type": "execute_result"
    }
   ],
   "source": [
    "w = np.asarray([v for k,v in c_weights.items()])\n",
    "w.min(), w.max()"
   ]
  },
  {
   "cell_type": "code",
   "execution_count": 15,
   "metadata": {},
   "outputs": [
    {
     "data": {
      "text/plain": [
       "(array([ 1.,  6., 17., 25., 63., 58., 32., 17.,  7.,  1.]),\n",
       " array([-0.58285719, -0.468782  , -0.3547068 , -0.2406316 , -0.12655641,\n",
       "        -0.01248121,  0.10159398,  0.21566918,  0.32974437,  0.44381957,\n",
       "         0.55789477]),\n",
       " <BarContainer object of 10 artists>)"
      ]
     },
     "execution_count": 15,
     "metadata": {},
     "output_type": "execute_result"
    },
    {
     "data": {
      "image/png": "[encoded data removed]",
      "text/plain": [
       "<Figure size 432x288 with 1 Axes>"
      ]
     },
     "metadata": {
      "needs_background": "light"
     },
     "output_type": "display_data"
    }
   ],
   "source": [
    "plt.hist(w)"
   ]
  },
  {
   "cell_type": "markdown",
   "metadata": {},
   "source": [
    "## Attacking sample"
   ]
  },
  {
   "cell_type": "code",
   "execution_count": 16,
   "metadata": {},
   "outputs": [],
   "source": [
    "epsilon = 0.34\n",
    "index = 12\n",
    "\n",
    "nbits = 8\n",
    "sample = X[index:index+1, :]"
   ]
  },
  {
   "cell_type": "code",
   "execution_count": 17,
   "metadata": {},
   "outputs": [],
   "source": [
    "s, c_weights, seq_nump, seq_numn = hard_attack(clf, sample, epsilon, var_x, nbits)"
   ]
  },
  {
   "cell_type": "code",
   "execution_count": 18,
   "metadata": {},
   "outputs": [
    {
     "data": {
      "text/plain": [
       "0.000978639"
      ]
     },
     "execution_count": 18,
     "metadata": {},
     "output_type": "execute_result"
    }
   ],
   "source": [
    "clf.predict_proba(sample)[0][1]"
   ]
  },
  {
   "cell_type": "code",
   "execution_count": 19,
   "metadata": {},
   "outputs": [
    {
     "data": {
      "text/plain": [
       "0.5706085620174073"
      ]
     },
     "execution_count": 19,
     "metadata": {},
     "output_type": "execute_result"
    }
   ],
   "source": [
    "adv_weights = get_output(s, c_weights)\n",
    "val = np.sum([v for k, v in adv_weights.items()])\n",
    "1 / (1 + np.exp(-val))"
   ]
  },
  {
   "cell_type": "code",
   "execution_count": 20,
   "metadata": {},
   "outputs": [
    {
     "data": {
      "text/plain": [
       "0.57060856"
      ]
     },
     "execution_count": 20,
     "metadata": {},
     "output_type": "execute_result"
    }
   ],
   "source": [
    "x_adv, x_adv_sample, compare = get_x_adv(s, var_x, sample)\n",
    "clf.predict_proba(x_adv_sample)[0][1]"
   ]
  },
  {
   "cell_type": "markdown",
   "metadata": {},
   "source": [
    "- x_adv is the SAT results\n",
    "- x_adv_sample is the x_adv transformed to the original input space\n",
    "- compare is a pandas dataframe that compares the original input and the x_adv_sample"
   ]
  },
  {
   "cell_type": "code",
   "execution_count": 21,
   "metadata": {},
   "outputs": [
    {
     "data": {
      "text/html": [
       "<div>\n",
       "<style scoped>\n",
       "    .dataframe tbody tr th:only-of-type {\n",
       "        vertical-align: middle;\n",
       "    }\n",
       "\n",
       "    .dataframe tbody tr th {\n",
       "        vertical-align: top;\n",
       "    }\n",
       "\n",
       "    .dataframe thead th {\n",
       "        text-align: right;\n",
       "    }\n",
       "</style>\n",
       "<table border=\"1\" class=\"dataframe\">\n",
       "  <thead>\n",
       "    <tr style=\"text-align: right;\">\n",
       "      <th></th>\n",
       "      <th>0</th>\n",
       "      <th>1</th>\n",
       "      <th>diff(%)</th>\n",
       "      <th>bound</th>\n",
       "    </tr>\n",
       "  </thead>\n",
       "  <tbody>\n",
       "    <tr>\n",
       "      <th>1</th>\n",
       "      <td>24.800000</td>\n",
       "      <td>16.593391</td>\n",
       "      <td>0.330912</td>\n",
       "      <td>[-inf, 16.6100006]</td>\n",
       "    </tr>\n",
       "    <tr>\n",
       "      <th>22</th>\n",
       "      <td>151.700000</td>\n",
       "      <td>101.640039</td>\n",
       "      <td>0.329993</td>\n",
       "      <td>[91.6949997, 101.649994]</td>\n",
       "    </tr>\n",
       "    <tr>\n",
       "      <th>20</th>\n",
       "      <td>20.960000</td>\n",
       "      <td>14.840145</td>\n",
       "      <td>0.291978</td>\n",
       "      <td>[-inf, 14.8549995]</td>\n",
       "    </tr>\n",
       "    <tr>\n",
       "      <th>23</th>\n",
       "      <td>1332.000000</td>\n",
       "      <td>953.630862</td>\n",
       "      <td>0.284061</td>\n",
       "      <td>[884.549988, 953.700012]</td>\n",
       "    </tr>\n",
       "    <tr>\n",
       "      <th>27</th>\n",
       "      <td>0.176700</td>\n",
       "      <td>0.135776</td>\n",
       "      <td>0.231601</td>\n",
       "      <td>[0.111950003, 0.135800004]</td>\n",
       "    </tr>\n",
       "    <tr>\n",
       "      <th>9</th>\n",
       "      <td>0.078000</td>\n",
       "      <td>0.060776</td>\n",
       "      <td>0.220815</td>\n",
       "      <td>[0.057204999, 0.0607799999]</td>\n",
       "    </tr>\n",
       "    <tr>\n",
       "      <th>21</th>\n",
       "      <td>29.940000</td>\n",
       "      <td>25.513224</td>\n",
       "      <td>0.147855</td>\n",
       "      <td>[23.7399998, 25.5149994]</td>\n",
       "    </tr>\n",
       "    <tr>\n",
       "      <th>28</th>\n",
       "      <td>0.317600</td>\n",
       "      <td>0.272477</td>\n",
       "      <td>0.142074</td>\n",
       "      <td>[-inf, 0.27275002]</td>\n",
       "    </tr>\n",
       "    <tr>\n",
       "      <th>26</th>\n",
       "      <td>0.363900</td>\n",
       "      <td>0.316515</td>\n",
       "      <td>0.130214</td>\n",
       "      <td>[0.281750023, 0.316550016]</td>\n",
       "    </tr>\n",
       "    <tr>\n",
       "      <th>4</th>\n",
       "      <td>0.097400</td>\n",
       "      <td>0.088754</td>\n",
       "      <td>0.088769</td>\n",
       "      <td>[0.0876449943, 0.0887549967]</td>\n",
       "    </tr>\n",
       "    <tr>\n",
       "      <th>0</th>\n",
       "      <td>19.170000</td>\n",
       "      <td>19.170000</td>\n",
       "      <td>0.000000</td>\n",
       "      <td>[-inf, inf]</td>\n",
       "    </tr>\n",
       "    <tr>\n",
       "      <th>17</th>\n",
       "      <td>0.040900</td>\n",
       "      <td>0.040900</td>\n",
       "      <td>0.000000</td>\n",
       "      <td>[-inf, inf]</td>\n",
       "    </tr>\n",
       "    <tr>\n",
       "      <th>25</th>\n",
       "      <td>0.390300</td>\n",
       "      <td>0.390300</td>\n",
       "      <td>0.000000</td>\n",
       "      <td>[0.175749987, inf]</td>\n",
       "    </tr>\n",
       "    <tr>\n",
       "      <th>24</th>\n",
       "      <td>0.103700</td>\n",
       "      <td>0.103700</td>\n",
       "      <td>0.000000</td>\n",
       "      <td>[-inf, 0.135549992]</td>\n",
       "    </tr>\n",
       "    <tr>\n",
       "      <th>19</th>\n",
       "      <td>0.012840</td>\n",
       "      <td>0.012840</td>\n",
       "      <td>0.000000</td>\n",
       "      <td>[0.00332050002, inf]</td>\n",
       "    </tr>\n",
       "    <tr>\n",
       "      <th>18</th>\n",
       "      <td>0.044840</td>\n",
       "      <td>0.044840</td>\n",
       "      <td>0.000000</td>\n",
       "      <td>[0.0180700012, inf]</td>\n",
       "    </tr>\n",
       "    <tr>\n",
       "      <th>15</th>\n",
       "      <td>0.082970</td>\n",
       "      <td>0.082970</td>\n",
       "      <td>0.000000</td>\n",
       "      <td>[0.0265749991, inf]</td>\n",
       "    </tr>\n",
       "    <tr>\n",
       "      <th>16</th>\n",
       "      <td>0.088900</td>\n",
       "      <td>0.088900</td>\n",
       "      <td>0.000000</td>\n",
       "      <td>[-inf, inf]</td>\n",
       "    </tr>\n",
       "    <tr>\n",
       "      <th>14</th>\n",
       "      <td>0.003139</td>\n",
       "      <td>0.003139</td>\n",
       "      <td>0.000000</td>\n",
       "      <td>[-inf, 0.00544300023]</td>\n",
       "    </tr>\n",
       "    <tr>\n",
       "      <th>13</th>\n",
       "      <td>116.200000</td>\n",
       "      <td>116.200000</td>\n",
       "      <td>0.000000</td>\n",
       "      <td>[40.2200012, inf]</td>\n",
       "    </tr>\n",
       "    <tr>\n",
       "      <th>12</th>\n",
       "      <td>11.070000</td>\n",
       "      <td>11.070000</td>\n",
       "      <td>0.000000</td>\n",
       "      <td>[-inf, inf]</td>\n",
       "    </tr>\n",
       "    <tr>\n",
       "      <th>11</th>\n",
       "      <td>3.568000</td>\n",
       "      <td>3.568000</td>\n",
       "      <td>0.000000</td>\n",
       "      <td>[-inf, inf]</td>\n",
       "    </tr>\n",
       "    <tr>\n",
       "      <th>10</th>\n",
       "      <td>0.955500</td>\n",
       "      <td>0.955500</td>\n",
       "      <td>0.000000</td>\n",
       "      <td>[0.379050016, inf]</td>\n",
       "    </tr>\n",
       "    <tr>\n",
       "      <th>8</th>\n",
       "      <td>0.239700</td>\n",
       "      <td>0.239700</td>\n",
       "      <td>0.000000</td>\n",
       "      <td>[-inf, inf]</td>\n",
       "    </tr>\n",
       "    <tr>\n",
       "      <th>7</th>\n",
       "      <td>0.111800</td>\n",
       "      <td>0.111800</td>\n",
       "      <td>0.000000</td>\n",
       "      <td>[0.0514199995, inf]</td>\n",
       "    </tr>\n",
       "    <tr>\n",
       "      <th>6</th>\n",
       "      <td>0.206500</td>\n",
       "      <td>0.206500</td>\n",
       "      <td>0.000000</td>\n",
       "      <td>[0.0971300006, inf]</td>\n",
       "    </tr>\n",
       "    <tr>\n",
       "      <th>5</th>\n",
       "      <td>0.245800</td>\n",
       "      <td>0.245800</td>\n",
       "      <td>0.000000</td>\n",
       "      <td>[0.0713849962, inf]</td>\n",
       "    </tr>\n",
       "    <tr>\n",
       "      <th>3</th>\n",
       "      <td>1123.000000</td>\n",
       "      <td>1123.000000</td>\n",
       "      <td>0.000000</td>\n",
       "      <td>[696.25, inf]</td>\n",
       "    </tr>\n",
       "    <tr>\n",
       "      <th>2</th>\n",
       "      <td>132.400000</td>\n",
       "      <td>132.400000</td>\n",
       "      <td>0.000000</td>\n",
       "      <td>[-inf, inf]</td>\n",
       "    </tr>\n",
       "    <tr>\n",
       "      <th>29</th>\n",
       "      <td>0.102300</td>\n",
       "      <td>0.102300</td>\n",
       "      <td>0.000000</td>\n",
       "      <td>[-inf, inf]</td>\n",
       "    </tr>\n",
       "  </tbody>\n",
       "</table>\n",
       "</div>"
      ],
      "text/plain": [
       "              0            1   diff(%)                         bound\n",
       "1     24.800000    16.593391  0.330912            [-inf, 16.6100006]\n",
       "22   151.700000   101.640039  0.329993      [91.6949997, 101.649994]\n",
       "20    20.960000    14.840145  0.291978            [-inf, 14.8549995]\n",
       "23  1332.000000   953.630862  0.284061      [884.549988, 953.700012]\n",
       "27     0.176700     0.135776  0.231601    [0.111950003, 0.135800004]\n",
       "9      0.078000     0.060776  0.220815   [0.057204999, 0.0607799999]\n",
       "21    29.940000    25.513224  0.147855      [23.7399998, 25.5149994]\n",
       "28     0.317600     0.272477  0.142074            [-inf, 0.27275002]\n",
       "26     0.363900     0.316515  0.130214    [0.281750023, 0.316550016]\n",
       "4      0.097400     0.088754  0.088769  [0.0876449943, 0.0887549967]\n",
       "0     19.170000    19.170000  0.000000                   [-inf, inf]\n",
       "17     0.040900     0.040900  0.000000                   [-inf, inf]\n",
       "25     0.390300     0.390300  0.000000            [0.175749987, inf]\n",
       "24     0.103700     0.103700  0.000000           [-inf, 0.135549992]\n",
       "19     0.012840     0.012840  0.000000          [0.00332050002, inf]\n",
       "18     0.044840     0.044840  0.000000           [0.0180700012, inf]\n",
       "15     0.082970     0.082970  0.000000           [0.0265749991, inf]\n",
       "16     0.088900     0.088900  0.000000                   [-inf, inf]\n",
       "14     0.003139     0.003139  0.000000         [-inf, 0.00544300023]\n",
       "13   116.200000   116.200000  0.000000             [40.2200012, inf]\n",
       "12    11.070000    11.070000  0.000000                   [-inf, inf]\n",
       "11     3.568000     3.568000  0.000000                   [-inf, inf]\n",
       "10     0.955500     0.955500  0.000000            [0.379050016, inf]\n",
       "8      0.239700     0.239700  0.000000                   [-inf, inf]\n",
       "7      0.111800     0.111800  0.000000           [0.0514199995, inf]\n",
       "6      0.206500     0.206500  0.000000           [0.0971300006, inf]\n",
       "5      0.245800     0.245800  0.000000           [0.0713849962, inf]\n",
       "3   1123.000000  1123.000000  0.000000                 [696.25, inf]\n",
       "2    132.400000   132.400000  0.000000                   [-inf, inf]\n",
       "29     0.102300     0.102300  0.000000                   [-inf, inf]"
      ]
     },
     "execution_count": 21,
     "metadata": {},
     "output_type": "execute_result"
    }
   ],
   "source": [
    "compare.sort_values(by=[\"diff(%)\"], ascending=False)"
   ]
  }
 ],
 "metadata": {
  "kernelspec": {
   "display_name": "Python 3.8.5 ('base')",
   "language": "python",
   "name": "python3"
  },
  "language_info": {
   "codemirror_mode": {
    "name": "ipython",
    "version": 3
   },
   "file_extension": ".py",
   "mimetype": "text/x-python",
   "name": "python",
   "nbconvert_exporter": "python",
   "pygments_lexer": "ipython3",
   "version": "3.8.5"
  },
  "vscode": {
   "interpreter": {
    "hash": "20f972b5ec01afc6342c701ce71b35de9888327d446d177ef66e3c862529bc3b"
   }
  }
 },
 "nbformat": 4,
 "nbformat_minor": 4
}
