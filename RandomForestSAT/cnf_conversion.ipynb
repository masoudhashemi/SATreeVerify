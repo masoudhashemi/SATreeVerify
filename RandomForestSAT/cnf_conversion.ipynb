{
 "cells": [
  {
   "cell_type": "code",
   "execution_count": 1,
   "metadata": {},
   "outputs": [],
   "source": [
    "from z3 import *\n",
    "from utils import *"
   ]
  },
  {
   "cell_type": "code",
   "execution_count": 2,
   "metadata": {},
   "outputs": [],
   "source": [
    "from sklearn.datasets import load_breast_cancer\n",
    "from sklearn.ensemble import RandomForestClassifier\n",
    "from sklearn.model_selection import train_test_split\n",
    "import numpy as np\n",
    "from sklearn.tree import _tree, plot_tree\n",
    "import pandas as pd\n",
    "from matplotlib import pyplot as plt\n",
    "import pickle\n",
    "import time\n",
    "import subprocess"
   ]
  },
  {
   "cell_type": "code",
   "execution_count": 3,
   "metadata": {},
   "outputs": [],
   "source": [
    "data = load_breast_cancer()\n",
    "feature_names = data[\"feature_names\"]\n",
    "X = data['data']\n",
    "y = data[\"target\"] == 1\n",
    "feature_names = data[\"feature_names\"]\n",
    "ntrees = 50\n",
    "clf = RandomForestClassifier(n_estimators=ntrees, max_depth=4).fit(X, y)"
   ]
  },
  {
   "cell_type": "code",
   "execution_count": 4,
   "metadata": {},
   "outputs": [
    {
     "name": "stdout",
     "output_type": "stream",
     "text": [
      "(569, 508)\n"
     ]
    },
    {
     "data": {
      "text/html": [
       "<div>\n",
       "<style scoped>\n",
       "    .dataframe tbody tr th:only-of-type {\n",
       "        vertical-align: middle;\n",
       "    }\n",
       "\n",
       "    .dataframe tbody tr th {\n",
       "        vertical-align: top;\n",
       "    }\n",
       "\n",
       "    .dataframe thead th {\n",
       "        text-align: right;\n",
       "    }\n",
       "</style>\n",
       "<table border=\"1\" class=\"dataframe\">\n",
       "  <thead>\n",
       "    <tr style=\"text-align: right;\">\n",
       "      <th></th>\n",
       "      <th>23_848.9500122070312</th>\n",
       "      <th>2_78.20500183105469</th>\n",
       "      <th>22_117.44999694824219</th>\n",
       "      <th>13_32.98499870300293</th>\n",
       "      <th>22_117.05000305175781</th>\n",
       "      <th>9_0.06865999847650528</th>\n",
       "      <th>9_0.09659499675035477</th>\n",
       "      <th>9_0.06103000044822693</th>\n",
       "      <th>9_0.05894999951124191</th>\n",
       "      <th>9_0.0825200006365776</th>\n",
       "      <th>...</th>\n",
       "      <th>27_0.09152000024914742</th>\n",
       "      <th>27_0.1436000019311905</th>\n",
       "      <th>27_0.13234999775886536</th>\n",
       "      <th>27_0.1423499956727028</th>\n",
       "      <th>27_0.14554999768733978</th>\n",
       "      <th>3_306.0500030517578</th>\n",
       "      <th>13_39.96999931335449</th>\n",
       "      <th>22_114.45000076293945</th>\n",
       "      <th>13_39.170000076293945</th>\n",
       "      <th>23_686.4500122070312</th>\n",
       "    </tr>\n",
       "  </thead>\n",
       "  <tbody>\n",
       "    <tr>\n",
       "      <th>0</th>\n",
       "      <td>True</td>\n",
       "      <td>True</td>\n",
       "      <td>True</td>\n",
       "      <td>True</td>\n",
       "      <td>True</td>\n",
       "      <td>True</td>\n",
       "      <td>False</td>\n",
       "      <td>True</td>\n",
       "      <td>True</td>\n",
       "      <td>False</td>\n",
       "      <td>...</td>\n",
       "      <td>True</td>\n",
       "      <td>True</td>\n",
       "      <td>True</td>\n",
       "      <td>True</td>\n",
       "      <td>True</td>\n",
       "      <td>True</td>\n",
       "      <td>True</td>\n",
       "      <td>True</td>\n",
       "      <td>True</td>\n",
       "      <td>True</td>\n",
       "    </tr>\n",
       "    <tr>\n",
       "      <th>1</th>\n",
       "      <td>True</td>\n",
       "      <td>True</td>\n",
       "      <td>True</td>\n",
       "      <td>True</td>\n",
       "      <td>True</td>\n",
       "      <td>False</td>\n",
       "      <td>False</td>\n",
       "      <td>False</td>\n",
       "      <td>False</td>\n",
       "      <td>False</td>\n",
       "      <td>...</td>\n",
       "      <td>True</td>\n",
       "      <td>True</td>\n",
       "      <td>True</td>\n",
       "      <td>True</td>\n",
       "      <td>True</td>\n",
       "      <td>True</td>\n",
       "      <td>True</td>\n",
       "      <td>True</td>\n",
       "      <td>True</td>\n",
       "      <td>True</td>\n",
       "    </tr>\n",
       "    <tr>\n",
       "      <th>2</th>\n",
       "      <td>True</td>\n",
       "      <td>True</td>\n",
       "      <td>True</td>\n",
       "      <td>True</td>\n",
       "      <td>True</td>\n",
       "      <td>False</td>\n",
       "      <td>False</td>\n",
       "      <td>False</td>\n",
       "      <td>True</td>\n",
       "      <td>False</td>\n",
       "      <td>...</td>\n",
       "      <td>True</td>\n",
       "      <td>True</td>\n",
       "      <td>True</td>\n",
       "      <td>True</td>\n",
       "      <td>True</td>\n",
       "      <td>True</td>\n",
       "      <td>True</td>\n",
       "      <td>True</td>\n",
       "      <td>True</td>\n",
       "      <td>True</td>\n",
       "    </tr>\n",
       "    <tr>\n",
       "      <th>3</th>\n",
       "      <td>False</td>\n",
       "      <td>False</td>\n",
       "      <td>False</td>\n",
       "      <td>False</td>\n",
       "      <td>False</td>\n",
       "      <td>True</td>\n",
       "      <td>True</td>\n",
       "      <td>True</td>\n",
       "      <td>True</td>\n",
       "      <td>True</td>\n",
       "      <td>...</td>\n",
       "      <td>True</td>\n",
       "      <td>True</td>\n",
       "      <td>True</td>\n",
       "      <td>True</td>\n",
       "      <td>True</td>\n",
       "      <td>True</td>\n",
       "      <td>False</td>\n",
       "      <td>False</td>\n",
       "      <td>False</td>\n",
       "      <td>False</td>\n",
       "    </tr>\n",
       "    <tr>\n",
       "      <th>4</th>\n",
       "      <td>True</td>\n",
       "      <td>True</td>\n",
       "      <td>True</td>\n",
       "      <td>True</td>\n",
       "      <td>True</td>\n",
       "      <td>False</td>\n",
       "      <td>False</td>\n",
       "      <td>False</td>\n",
       "      <td>False</td>\n",
       "      <td>False</td>\n",
       "      <td>...</td>\n",
       "      <td>True</td>\n",
       "      <td>True</td>\n",
       "      <td>True</td>\n",
       "      <td>True</td>\n",
       "      <td>True</td>\n",
       "      <td>True</td>\n",
       "      <td>True</td>\n",
       "      <td>True</td>\n",
       "      <td>True</td>\n",
       "      <td>True</td>\n",
       "    </tr>\n",
       "  </tbody>\n",
       "</table>\n",
       "<p>5 rows × 508 columns</p>\n",
       "</div>"
      ],
      "text/plain": [
       "   23_848.9500122070312  2_78.20500183105469  22_117.44999694824219  \\\n",
       "0                  True                 True                   True   \n",
       "1                  True                 True                   True   \n",
       "2                  True                 True                   True   \n",
       "3                 False                False                  False   \n",
       "4                  True                 True                   True   \n",
       "\n",
       "   13_32.98499870300293  22_117.05000305175781  9_0.06865999847650528  \\\n",
       "0                  True                   True                   True   \n",
       "1                  True                   True                  False   \n",
       "2                  True                   True                  False   \n",
       "3                 False                  False                   True   \n",
       "4                  True                   True                  False   \n",
       "\n",
       "   9_0.09659499675035477  9_0.06103000044822693  9_0.05894999951124191  \\\n",
       "0                  False                   True                   True   \n",
       "1                  False                  False                  False   \n",
       "2                  False                  False                   True   \n",
       "3                   True                   True                   True   \n",
       "4                  False                  False                  False   \n",
       "\n",
       "   9_0.0825200006365776  ...  27_0.09152000024914742  27_0.1436000019311905  \\\n",
       "0                 False  ...                    True                   True   \n",
       "1                 False  ...                    True                   True   \n",
       "2                 False  ...                    True                   True   \n",
       "3                  True  ...                    True                   True   \n",
       "4                 False  ...                    True                   True   \n",
       "\n",
       "   27_0.13234999775886536  27_0.1423499956727028  27_0.14554999768733978  \\\n",
       "0                    True                   True                    True   \n",
       "1                    True                   True                    True   \n",
       "2                    True                   True                    True   \n",
       "3                    True                   True                    True   \n",
       "4                    True                   True                    True   \n",
       "\n",
       "   3_306.0500030517578  13_39.96999931335449  22_114.45000076293945  \\\n",
       "0                 True                  True                   True   \n",
       "1                 True                  True                   True   \n",
       "2                 True                  True                   True   \n",
       "3                 True                 False                  False   \n",
       "4                 True                  True                   True   \n",
       "\n",
       "   13_39.170000076293945  23_686.4500122070312  \n",
       "0                   True                  True  \n",
       "1                   True                  True  \n",
       "2                   True                  True  \n",
       "3                  False                 False  \n",
       "4                   True                  True  \n",
       "\n",
       "[5 rows x 508 columns]"
      ]
     },
     "execution_count": 4,
     "metadata": {},
     "output_type": "execute_result"
    }
   ],
   "source": [
    "all_thresh = get_ens_thresh(clf)\n",
    "data_ = disc_ens_data(X, all_thresh)\n",
    "print(data_.shape)\n",
    "data_.head()"
   ]
  },
  {
   "cell_type": "code",
   "execution_count": 5,
   "metadata": {},
   "outputs": [],
   "source": [
    "var_x = create_var_x(all_thresh)"
   ]
  },
  {
   "cell_type": "code",
   "execution_count": 6,
   "metadata": {},
   "outputs": [],
   "source": [
    "nbits = 8\n",
    "new_nbits = int(np.ceil(np.log2(ntrees)) + nbits)"
   ]
  },
  {
   "cell_type": "code",
   "execution_count": 7,
   "metadata": {},
   "outputs": [],
   "source": [
    "epsilon = 0.2\n",
    "\n",
    "index = 10\n",
    "sample = X[index:index+1, :]"
   ]
  },
  {
   "cell_type": "code",
   "execution_count": 8,
   "metadata": {},
   "outputs": [
    {
     "name": "stdout",
     "output_type": "stream",
     "text": [
      "False\n"
     ]
    }
   ],
   "source": [
    "core_constraints, soft_constraints, c_weights, all_c = create_all_smt(\n",
    "    clf, var_x, sample, epsilon\n",
    ")\n",
    "list_val_, list_c_ = list_c_val(c_weights, nbits)\n",
    "sum_const, seq_num = sum_loop(list_val_, list_c_, new_nbits)\n",
    "const_class = const_larger(nbits, ntrees, seq_num)"
   ]
  },
  {
   "cell_type": "code",
   "execution_count": 9,
   "metadata": {},
   "outputs": [
    {
     "name": "stdout",
     "output_type": "stream",
     "text": [
      "number of leaves:  611\n"
     ]
    }
   ],
   "source": [
    "print(\"number of leaves: \", seq_num)"
   ]
  },
  {
   "cell_type": "code",
   "execution_count": 10,
   "metadata": {},
   "outputs": [
    {
     "name": "stdout",
     "output_type": "stream",
     "text": [
      "0.512727320591057 [[0.77125496 0.22874504]]\n",
      "sat check time + prepare output:  1.838109016418457\n"
     ]
    }
   ],
   "source": [
    "s = Solver()\n",
    "\n",
    "s.set(\"timeout\", 20000)\n",
    "for ci in core_constraints:\n",
    "    s.add(ci)\n",
    "    \n",
    "for ci in sum_const:\n",
    "    s.add(ci)\n",
    "    \n",
    "for ci in const_class:\n",
    "    s.add(ci)\n",
    "\n",
    "    \n",
    "class_change = [Not(Bool(\"class\")) if clf.predict(sample)[0] else Bool(\"class\")]\n",
    "s.add(class_change)\n",
    "\n",
    "\n",
    "beg_time = time.time()\n",
    "\n",
    "if s.check() == sat:\n",
    "    adv_weights = get_output(s, c_weights)\n",
    "    print(np.mean([v for k,v in adv_weights.items()]), clf.predict_proba(sample))\n",
    "else: \n",
    "    print(\"unsat\")\n",
    "    \n",
    "end_time = time.time()\n",
    "print(\"sat check time + prepare output: \", end_time-beg_time)"
   ]
  },
  {
   "cell_type": "code",
   "execution_count": 11,
   "metadata": {},
   "outputs": [],
   "source": [
    "def toSMT2Benchmark(f, status=\"unknown\", name=\"benchmark\", logic=\"\"):\n",
    "    v = (Ast * 0)()\n",
    "    return Z3_benchmark_to_smtlib_string(f.ctx_ref(), name, logic, status, \"\", 0, v, f.as_ast())"
   ]
  },
  {
   "cell_type": "code",
   "execution_count": 12,
   "metadata": {},
   "outputs": [],
   "source": [
    "smt2 = toSMT2Benchmark(And(*core_constraints, *sum_const, *const_class, *class_change))\n",
    "\n",
    "with open(\"smt2_test.smt\", \"w\") as text_file:\n",
    "    print(smt2, file=text_file)"
   ]
  },
  {
   "cell_type": "code",
   "execution_count": 13,
   "metadata": {},
   "outputs": [
    {
     "name": "stdout",
     "output_type": "stream",
     "text": [
      "z3 cli time:  0.8933250904083252\n"
     ]
    }
   ],
   "source": [
    "beg_time = time.time()\n",
    "\n",
    "bashCommand = \"z3 -smt2 smt2_test.smt\"\n",
    "\n",
    "process = subprocess.Popen(bashCommand.split(), stdout=subprocess.PIPE, universal_newlines=True)\n",
    "output, error = process.communicate()\n",
    "\n",
    "print(\"z3 cli time: \", time.time()-beg_time)"
   ]
  },
  {
   "cell_type": "code",
   "execution_count": 14,
   "metadata": {},
   "outputs": [
    {
     "name": "stdout",
     "output_type": "stream",
     "text": [
      "sat\n",
      "\n"
     ]
    }
   ],
   "source": [
    "print(output)"
   ]
  },
  {
   "cell_type": "markdown",
   "metadata": {},
   "source": [
    "# Goal definition"
   ]
  },
  {
   "cell_type": "code",
   "execution_count": 15,
   "metadata": {},
   "outputs": [
    {
     "name": "stdout",
     "output_type": "stream",
     "text": [
      "False\n"
     ]
    }
   ],
   "source": [
    "epsilon = 0.1\n",
    "\n",
    "index = 10\n",
    "sample = X[index:index+1, :]\n",
    "\n",
    "core_constraints, soft_constraints, c_weights, all_c = create_all_smt(\n",
    "    clf, var_x, sample, epsilon\n",
    ")\n",
    "list_val_, list_c_ = list_c_val(c_weights, nbits)\n",
    "sum_const, seq_num = sum_loop(list_val_, list_c_, new_nbits)\n",
    "const_class = const_larger(nbits, ntrees, seq_num)"
   ]
  },
  {
   "cell_type": "code",
   "execution_count": 16,
   "metadata": {},
   "outputs": [],
   "source": [
    "g = Goal()\n",
    "\n",
    "for ci in core_constraints:\n",
    "    g.add(ci)\n",
    "    \n",
    "for ci in sum_const:\n",
    "    g.add(ci)\n",
    "    \n",
    "for ci in const_class:\n",
    "    g.add(ci)\n",
    "\n",
    "g.add([Not(Bool(\"class\")) if clf.predict(sample)[0] else Bool(\"class\")])"
   ]
  },
  {
   "cell_type": "code",
   "execution_count": 17,
   "metadata": {},
   "outputs": [],
   "source": [
    "t = Tactic('tseitin-cnf')\n",
    "tg = t(g)"
   ]
  },
  {
   "cell_type": "code",
   "execution_count": 18,
   "metadata": {},
   "outputs": [
    {
     "name": "stdout",
     "output_type": "stream",
     "text": [
      "conversion time:  62.98132300376892\n"
     ]
    }
   ],
   "source": [
    "beg_time_convert = time.time()\n",
    "\n",
    "all_ors = []\n",
    "variables = {}\n",
    "var_num = 0\n",
    "for ti in tg[0]:\n",
    "    ti = str(ti).replace(\"\\n\", \"\")\n",
    "    if ti.startswith(\"Or\"):\n",
    "        ti = ti[3:-1]\n",
    "    \n",
    "    ti = ti.split(\", \")\n",
    "    inner_or = []\n",
    "    for tii in ti:\n",
    "        sign = +1\n",
    "        tii = tii.strip()\n",
    "        if \"Not\" in tii:\n",
    "            tii = tii[4:-1]\n",
    "            sign = -1\n",
    "        if tii not in variables.keys():\n",
    "            var_num += 1\n",
    "            variables[tii] = var_num\n",
    "        inner_or.append(sign*variables[tii])\n",
    "    inner_or.append(0)\n",
    "    all_ors.append(inner_or)\n",
    "\n",
    "end_time = time.time()\n",
    "\n",
    "print(\"conversion time: \", end_time-beg_time_convert)"
   ]
  },
  {
   "cell_type": "code",
   "execution_count": 19,
   "metadata": {},
   "outputs": [],
   "source": [
    "rev_variables = {v:k for k,v in variables.items()}"
   ]
  },
  {
   "cell_type": "code",
   "execution_count": 20,
   "metadata": {},
   "outputs": [
    {
     "name": "stdout",
     "output_type": "stream",
     "text": [
      "write time:  0.31450700759887695\n"
     ]
    }
   ],
   "source": [
    "beg_time_write = time.time()\n",
    "\n",
    "num_vars = len(variables)\n",
    "num_clauses = len(all_ors)\n",
    "text = f\"c  cnf_test.cnf \\nc \\np cnf {num_vars} {num_clauses} \\n\"\n",
    "for i, li in enumerate(all_ors):\n",
    "    str1 = ' '.join(str(e) for e in li)\n",
    "    text += str1\n",
    "    if i<len(all_ors)-1:\n",
    "        text += \"\\n\"\n",
    "\n",
    "    \n",
    "with open(\"cnf_test.cnf\", \"w\") as text_file:\n",
    "    print(text, file=text_file)\n",
    "    \n",
    "print(\"write time: \", time.time()-beg_time_write)"
   ]
  },
  {
   "cell_type": "code",
   "execution_count": 21,
   "metadata": {},
   "outputs": [
    {
     "name": "stdout",
     "output_type": "stream",
     "text": [
      "solution time:  0.4438819885253906\n"
     ]
    }
   ],
   "source": [
    "beg_time_solve = time.time()\n",
    "\n",
    "bashCommand = \"/Users/329030704/Documents/CodeMakes/MapleCMS/bin/cryptominisat4_simple cnf_test.cnf\"\n",
    "\n",
    "process = subprocess.Popen(bashCommand.split(), stdout=subprocess.PIPE, universal_newlines=True)\n",
    "output, error = process.communicate()\n",
    "\n",
    "print(\"solution time: \", time.time()-beg_time_solve)"
   ]
  },
  {
   "cell_type": "code",
   "execution_count": 22,
   "metadata": {},
   "outputs": [
    {
     "name": "stdout",
     "output_type": "stream",
     "text": [
      "s SATISFIABLE\n"
     ]
    }
   ],
   "source": [
    "outputs = {}\n",
    "for pi in output.split(\"\\n\"):\n",
    "    if pi.startswith(\"s\"): \n",
    "        print(pi)\n",
    "    if pi.startswith(\"v\"):\n",
    "        b = pi[1:].split()\n",
    "        di = {rev_variables[np.abs(int(bi))]: True if int(bi) > 0 else False for bi in b if int(bi)!=0}\n",
    "        outputs.update(di)"
   ]
  },
  {
   "cell_type": "code",
   "execution_count": 23,
   "metadata": {},
   "outputs": [
    {
     "name": "stdout",
     "output_type": "stream",
     "text": [
      "sat check time + prepare output:  0.5722558498382568\n"
     ]
    }
   ],
   "source": [
    "end_time = time.time()\n",
    "print(\"sat check time + prepare output: \", end_time-beg_time_solve)"
   ]
  },
  {
   "cell_type": "code",
   "execution_count": 24,
   "metadata": {},
   "outputs": [
    {
     "data": {
      "text/plain": [
       "0.5010882240267552"
      ]
     },
     "execution_count": 24,
     "metadata": {},
     "output_type": "execute_result"
    }
   ],
   "source": [
    "adv_weight = {ki:c_weights[ki] for ki in [k for k,v in outputs.items() if \"c(\" in k and v]}\n",
    "np.mean([v for k,v in adv_weight.items()])"
   ]
  }
 ],
 "metadata": {
  "kernelspec": {
   "display_name": "Python 3",
   "language": "python",
   "name": "python3"
  },
  "language_info": {
   "codemirror_mode": {
    "name": "ipython",
    "version": 3
   },
   "file_extension": ".py",
   "mimetype": "text/x-python",
   "name": "python",
   "nbconvert_exporter": "python",
   "pygments_lexer": "ipython3",
   "version": "3.7.6"
  }
 },
 "nbformat": 4,
 "nbformat_minor": 4
}
